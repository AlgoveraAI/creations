{
 "cells": [
  {
   "cell_type": "code",
   "execution_count": 211,
   "id": "c38cb23b",
   "metadata": {},
   "outputs": [],
   "source": [
    "asset = ocean.assets.resolve('did:op:C9D0568838fa670baEe7195Ea443b32EfCAc2281')"
   ]
  },
  {
   "cell_type": "code",
   "execution_count": 222,
   "id": "2deaedee",
   "metadata": {},
   "outputs": [
    {
     "data": {
      "text/plain": [
       "'0x2338e4e94AEe1817701F65f2c751f7c844b0e43b'"
      ]
     },
     "execution_count": 222,
     "metadata": {},
     "output_type": "execute_result"
    }
   ],
   "source": [
    "asset.values"
   ]
  },
  {
   "cell_type": "code",
   "execution_count": 216,
   "id": "59a6e91d",
   "metadata": {},
   "outputs": [
    {
     "data": {
      "text/plain": [
       "{'@context': 'https://w3id.org/did/v1',\n",
       " 'id': 'did:op:C9D0568838fa670baEe7195Ea443b32EfCAc2281',\n",
       " 'created': '2021-11-11T13:37:18Z',\n",
       " 'publicKey': [{'id': 'did:op:C9D0568838fa670baEe7195Ea443b32EfCAc2281',\n",
       "   'type': 'EthereumECDSAKey',\n",
       "   'owner': '0x2338e4e94AEe1817701F65f2c751f7c844b0e43b'}],\n",
       " 'authentication': [{'type': 'RsaSignatureAuthentication2018',\n",
       "   'publicKey': 'did:op:C9D0568838fa670baEe7195Ea443b32EfCAc2281'}],\n",
       " 'service': [{'type': 'metadata',\n",
       "   'attributes': {'status': {'isListed': True,\n",
       "     'isRetired': False,\n",
       "     'isOrderDisabled': False},\n",
       "    'main': {'type': 'dataset',\n",
       "     'name': 'CryptoPunks Images',\n",
       "     'dateCreated': '2021-11-11T13:36:30Z',\n",
       "     'author': 'Richard Blythman',\n",
       "     'license': 'https://market.oceanprotocol.com/terms',\n",
       "     'files': [{'contentLength': '66535',\n",
       "       'contentType': 'text/html',\n",
       "       'index': 0}],\n",
       "     'datePublished': '2021-12-02T15:48:01Z'},\n",
       "    'additionalInformation': {'description': 'This is a dataset of 10,000 CryptoPunk images. They are provided with both clear backgrounds and teal backgrounds. The images have a resolution of 24x24.\\n\\n## Algovera\\nAlgovera is a community working to facilitate and accelerate the development of decentralised AI applications and research. This dataset was used to train the generative model [StyleGAN2](https://github.com/NVlabs/stylegan2-ada-pytorch) during our weekly hacking sessions. For more information visit our [Website](https://www.algovera.ai/), [Discord](https://discord.com/invite/e65RuHSDS5), [GitHub](https://github.com/AlgoveraAI), [Twitter](https://twitter.com/AlgoveraAI) and [YouTube](https://www.youtube.com/channel/UC2A5iUpP6k52ZZmC8LFj1IA).',\n",
       "     'tags': ['nft', 'art', 'generative', 'ga-ns', 'style-gan'],\n",
       "     'links': [{'contentLength': '66561',\n",
       "       'contentType': 'text/html',\n",
       "       'url': 'https://drive.google.com/file/d/1d01VQ1plsB8ZIO5VF0LKV2MxdNQjvoCW/view?usp=sharing'}],\n",
       "     'termsAndConditions': True},\n",
       "    'encryptedFiles': '0x04bbbda56e3537ee5be9731d3417a22e430d7608ede85bd7cddb328fc115d5ea855acca7b256c9442c4ab81688b43d053582b8a9430fd97b0c634c6a77381e719d8c25885543a951a3793b449fcf508b5eb53bbe2b19c1b96cf471563539df525f1d79e48ee073586e220cd12230f78b62deeec7bc7f4c41d5cfe861de28be5c7c00b48043259ab88eb337c278377fd158a43bc2b986dbe2d3bed9cc8073a65c6a3d412654051c35e0f53a1eb233e9b470f2b8d061387e969102fe86f7442c6e93b56e8fbd3e3524bbbe400360cbe6fea5614946db52ba5e99e5a1e37d309ac9120ca00f24921847b4b2a9502a7fdd1bef',\n",
       "    'curation': {'rating': 0.0, 'numVotes': 0, 'isListed': True}},\n",
       "   'index': 0},\n",
       "  {'type': 'compute',\n",
       "   'attributes': {'main': {'name': 'dataAssetComputingService',\n",
       "     'creator': '0x2338e4e94AEe1817701F65f2c751f7c844b0e43b',\n",
       "     'datePublished': '2021-11-11T13:36:30Z',\n",
       "     'cost': '1',\n",
       "     'timeout': 86400,\n",
       "     'provider': {},\n",
       "     'privacy': {'allowRawAlgorithm': False,\n",
       "      'allowNetworkAccess': False,\n",
       "      'allowAllPublishedAlgorithms': False,\n",
       "      'publisherTrustedAlgorithms': [{'did': 'did:op:E2e123115d5758Dd4C6F434E1c142e72ed8B2820',\n",
       "        'filesChecksum': '925bffd31596cc85ca9267fa4295c1c5a0240b25405f922194ca0537a0db22a1',\n",
       "        'containerSectionChecksum': '3a387753ef84e78da65cf051d0bfd20c0924b3c8c8798e941aa5cc30d2efaaae'}]}}},\n",
       "   'serviceEndpoint': 'https://provider.rinkeby.oceanprotocol.com',\n",
       "   'index': 1}],\n",
       " 'proof': {'created': '2021-11-11T13:36:56Z',\n",
       "  'creator': '0x2338e4e94AEe1817701F65f2c751f7c844b0e43b',\n",
       "  'type': 'AddressHash',\n",
       "  'signatureValue': '0xff6f6cecf7ff5497ef6582d2ad9562123b237aa901336fc62490f58057200b55'},\n",
       " 'dataToken': '0xC9D0568838fa670baEe7195Ea443b32EfCAc2281',\n",
       " 'dataTokenInfo': {'address': '0xC9D0568838fa670baEe7195Ea443b32EfCAc2281',\n",
       "  'name': 'Powerful Shark Token',\n",
       "  'symbol': 'POWSHA-38',\n",
       "  'decimals': 18,\n",
       "  'cap': 1000.0},\n",
       " 'updated': '2021-12-02T15:47:55Z',\n",
       " 'accessWhiteList': [],\n",
       " 'event': {'txid': '0xc3bdad0374fbd5d8586d150b93e1c94c07c0227a05956606ccbf313759305611',\n",
       "  'blockNo': 9745104,\n",
       "  'from': '0x2338e4e94AEe1817701F65f2c751f7c844b0e43b',\n",
       "  'contract': '0xFD8a7b6297153397B7eb4356C47dbd381d58bFF4',\n",
       "  'update': True},\n",
       " 'isInPurgatory': 'false',\n",
       " 'chainId': 4}"
      ]
     },
     "execution_count": 216,
     "metadata": {},
     "output_type": "execute_result"
    }
   ],
   "source": [
    "asset.as_dictionary()"
   ]
  },
  {
   "cell_type": "code",
   "execution_count": 201,
   "id": "e1846f60",
   "metadata": {},
   "outputs": [],
   "source": [
    "service_type = asset.as_dictionary()['service'][1]['type']\n",
    "\n",
    "# service = asset.get_service(service_type)\n",
    "\n",
    "compute_service = asset.get_service(service_type)\n",
    "\n"
   ]
  },
  {
   "cell_type": "code",
   "execution_count": 203,
   "id": "5ede45d4",
   "metadata": {},
   "outputs": [
    {
     "data": {
      "text/plain": [
       "1"
      ]
     },
     "execution_count": 203,
     "metadata": {},
     "output_type": "execute_result"
    }
   ],
   "source": [
    "compute_service.index"
   ]
  },
  {
   "cell_type": "code",
   "execution_count": 205,
   "id": "1dfa3f43",
   "metadata": {},
   "outputs": [
    {
     "data": {
      "text/plain": [
       "'did:op:4205037e611be92D095eA8DC0371b15F1Cd28391'"
      ]
     },
     "execution_count": 205,
     "metadata": {},
     "output_type": "execute_result"
    }
   ],
   "source": [
    "asset.did"
   ]
  },
  {
   "cell_type": "code",
   "execution_count": 204,
   "id": "fb69cb66",
   "metadata": {},
   "outputs": [
    {
     "ename": "TypeError",
     "evalue": "Expected type '<class 'str'>' for attribute 'did' but received type '<class 'ocean_lib.assets.asset.V3Asset'>')",
     "output_type": "error",
     "traceback": [
      "\u001b[0;31m---------------------------------------------------------------------------\u001b[0m",
      "\u001b[0;31mTypeError\u001b[0m                                 Traceback (most recent call last)",
      "Input \u001b[0;32mIn [204]\u001b[0m, in \u001b[0;36m<cell line: 1>\u001b[0;34m()\u001b[0m\n\u001b[0;32m----> 1\u001b[0m dataset_order_requirements \u001b[38;5;241m=\u001b[39m \u001b[43mocean\u001b[49m\u001b[38;5;241;43m.\u001b[39;49m\u001b[43massets\u001b[49m\u001b[38;5;241;43m.\u001b[39;49m\u001b[43morder\u001b[49m\u001b[43m(\u001b[49m\n\u001b[1;32m      2\u001b[0m \u001b[43m    \u001b[49m\u001b[43masset\u001b[49m\u001b[43m,\u001b[49m\u001b[43m \u001b[49m\u001b[43mwallet\u001b[49m\u001b[38;5;241;43m.\u001b[39;49m\u001b[43maddress\u001b[49m\u001b[43m,\u001b[49m\u001b[43m \u001b[49m\u001b[43mservice_type\u001b[49m\u001b[38;5;241;43m=\u001b[39;49m\u001b[43mcompute_service\u001b[49m\u001b[38;5;241;43m.\u001b[39;49m\u001b[43mtype\u001b[49m\n\u001b[1;32m      3\u001b[0m \u001b[43m)\u001b[49m\n",
      "File \u001b[0;32m~/code/huggingface-assets/venv/lib/python3.9/site-packages/enforce_typing/decorator.py:28\u001b[0m, in \u001b[0;36menforce_types.<locals>.decorate.<locals>.wrapper\u001b[0;34m(*args, **kwargs)\u001b[0m\n\u001b[1;32m     26\u001b[0m \u001b[38;5;129m@wraps\u001b[39m(func)\n\u001b[1;32m     27\u001b[0m \u001b[38;5;28;01mdef\u001b[39;00m \u001b[38;5;21mwrapper\u001b[39m(\u001b[38;5;241m*\u001b[39margs, \u001b[38;5;241m*\u001b[39m\u001b[38;5;241m*\u001b[39mkwargs):\n\u001b[0;32m---> 28\u001b[0m     \u001b[43mcheck_types\u001b[49m\u001b[43m(\u001b[49m\u001b[38;5;241;43m*\u001b[39;49m\u001b[43margs\u001b[49m\u001b[43m,\u001b[49m\u001b[43m \u001b[49m\u001b[38;5;241;43m*\u001b[39;49m\u001b[38;5;241;43m*\u001b[39;49m\u001b[43mkwargs\u001b[49m\u001b[43m)\u001b[49m\n\u001b[1;32m     29\u001b[0m     \u001b[38;5;28;01mreturn\u001b[39;00m func(\u001b[38;5;241m*\u001b[39margs, \u001b[38;5;241m*\u001b[39m\u001b[38;5;241m*\u001b[39mkwargs)\n",
      "File \u001b[0;32m~/code/huggingface-assets/venv/lib/python3.9/site-packages/enforce_typing/decorator.py:21\u001b[0m, in \u001b[0;36menforce_types.<locals>.check_types\u001b[0;34m(*args, **kwargs)\u001b[0m\n\u001b[1;32m     19\u001b[0m actual_type \u001b[38;5;241m=\u001b[39m type_hint\u001b[38;5;241m.\u001b[39m__args__ \u001b[38;5;28;01mif\u001b[39;00m \u001b[38;5;28misinstance\u001b[39m(actual_type, typing\u001b[38;5;241m.\u001b[39m_SpecialForm) \u001b[38;5;28;01melse\u001b[39;00m actual_type\n\u001b[1;32m     20\u001b[0m \u001b[38;5;28;01mif\u001b[39;00m \u001b[38;5;129;01mnot\u001b[39;00m \u001b[38;5;28misinstance\u001b[39m(value, actual_type):\n\u001b[0;32m---> 21\u001b[0m     \u001b[38;5;28;01mraise\u001b[39;00m \u001b[38;5;167;01mTypeError\u001b[39;00m(\n\u001b[1;32m     22\u001b[0m         \u001b[38;5;124mf\u001b[39m\u001b[38;5;124m\"\u001b[39m\u001b[38;5;124mExpected type \u001b[39m\u001b[38;5;124m'\u001b[39m\u001b[38;5;132;01m{\u001b[39;00mtype_hint\u001b[38;5;132;01m}\u001b[39;00m\u001b[38;5;124m'\u001b[39m\u001b[38;5;124m for attribute \u001b[39m\u001b[38;5;124m'\u001b[39m\u001b[38;5;132;01m{\u001b[39;00mname\u001b[38;5;132;01m}\u001b[39;00m\u001b[38;5;124m'\u001b[39m\u001b[38;5;124m but received type \u001b[39m\u001b[38;5;124m'\u001b[39m\u001b[38;5;132;01m{\u001b[39;00m\u001b[38;5;28mtype\u001b[39m(value)\u001b[38;5;132;01m}\u001b[39;00m\u001b[38;5;124m'\u001b[39m\u001b[38;5;124m)\u001b[39m\u001b[38;5;124m\"\u001b[39m\n\u001b[1;32m     23\u001b[0m     )\n",
      "\u001b[0;31mTypeError\u001b[0m: Expected type '<class 'str'>' for attribute 'did' but received type '<class 'ocean_lib.assets.asset.V3Asset'>')"
     ]
    }
   ],
   "source": [
    "dataset_order_requirements = ocean.assets.order(\n",
    "    asset, wallet.address, service_type=compute_service.type\n",
    ")"
   ]
  },
  {
   "cell_type": "code",
   "execution_count": 208,
   "id": "b092d0ad",
   "metadata": {
    "scrolled": false
   },
   "outputs": [
    {
     "name": "stdout",
     "output_type": "stream",
     "text": [
      "Running on local URL:  http://127.0.0.1:7915/\n",
      "\n",
      "To create a public link, set `share=True` in `launch()`.\n"
     ]
    },
    {
     "data": {
      "text/html": [
       "\n",
       "        <iframe\n",
       "            width=\"900\"\n",
       "            height=\"500\"\n",
       "            src=\"http://127.0.0.1:7915/\"\n",
       "            frameborder=\"0\"\n",
       "            allowfullscreen\n",
       "            \n",
       "        ></iframe>\n",
       "        "
      ],
      "text/plain": [
       "<IPython.lib.display.IFrame at 0x7f181c1ab3d0>"
      ]
     },
     "metadata": {},
     "output_type": "display_data"
    },
    {
     "data": {
      "text/plain": [
       "(<fastapi.applications.FastAPI at 0x7f1883fe7be0>,\n",
       " 'http://127.0.0.1:7915/',\n",
       " None)"
      ]
     },
     "execution_count": 208,
     "metadata": {},
     "output_type": "execute_result"
    },
    {
     "name": "stdout",
     "output_type": "stream",
     "text": [
      "%%%%%%%%%% <class 'str'>\n",
      "%%%%%%%%%% <class 'str'>\n",
      "%%%%%%%%%% <class 'str'>\n",
      "%%%%%%%%%% <class 'str'>\n",
      "%%%%%%%%%% <class 'str'>\n",
      "%%%%%%%%%% <class 'str'>\n",
      "%%%%%%%%%% <class 'str'>\n"
     ]
    }
   ],
   "source": [
    "import gradio as gr\n",
    "from ocean_lib.config import Config\n",
    "# from ocean_lib.models.btoken import BToken #BToken is ERC20\n",
    "from ocean_lib.ocean.ocean import Ocean\n",
    "from ocean_lib.web3_internal.wallet import Wallet\n",
    "# from ocean_lib.web3_internal.currency import from_wei # wei is the smallest denomination of ether e.g. like cents\n",
    "from ocean_lib.web3_internal.currency import pretty_ether_and_wei\n",
    "from ocean_lib.web3_internal.constants import ZERO_ADDRESS\n",
    "# from wallet import get_wallet\n",
    "from ocean_lib.common.agreements.service_types import ServiceTypes\n",
    "from PIL import Image\n",
    "import numpy as np\n",
    "import matplotlib.pyplot as plt\n",
    "\n",
    "\n",
    "config = Config('config.ini')\n",
    "ocean = Ocean(config)\n",
    "\n",
    "def search(term=\"\", did_in=\"\", address=\"\", buy_top_result=False):\n",
    "\n",
    "    if address:\n",
    "        wallet = Wallet(ocean.web3, private_key=address, transaction_timeout=20, block_confirmations=0)\n",
    "    \n",
    "    results = None\n",
    "    dids = None\n",
    "    data=None\n",
    "    if term:\n",
    "        assets = ocean.assets.search(term)\n",
    "\n",
    "        results = []\n",
    "        datas = []\n",
    "        balances = []\n",
    "        dids = []\n",
    "        for i in range(len(assets)):\n",
    "\n",
    "            name = assets[i].values['_source']['service'][0]['attributes']['main']['name']\n",
    "            type_ = assets[i].values['_source']['service'][0]['attributes']['main']['type'].upper()\n",
    "            symbol = assets[i].values['_source']['dataTokenInfo']['symbol']\n",
    "            data_token_address = assets[i].values['_source']['dataTokenInfo']['address']\n",
    "            description = assets[i].values['_source']['service'][0]['attributes']['additionalInformation']['description']\n",
    "            author = assets[i].values['_source']['service'][0]['attributes']['main']['author']\n",
    "            did = assets[i].values['_source']['id']\n",
    "            dids.append(did)\n",
    "            chain = assets[i].values['_source']['service'][1]['serviceEndpoint']\n",
    "            \n",
    "            if chain != 'https://provider.rinkeby.oceanprotocol.com':\n",
    "                continue\n",
    "            \n",
    "            if address:\n",
    "                data_token = ocean.get_data_token(data_token_address)\n",
    "                token_address = data_token.address\n",
    "                balances.append(pretty_ether_and_wei(data_token.balanceOf(wallet.address)))\n",
    "            else:\n",
    "                balances.append(0)\n",
    "            \n",
    "            img = Image.open('algovera-tile.png')\n",
    "\n",
    "            fig = plt.figure(figsize=(5,5))\n",
    "            plt.axis(\"off\")\n",
    "            plt.imshow(img)\n",
    "            plt.text(20, 100, name[:22], size=20)\n",
    "            plt.text(20, 60, symbol)\n",
    "            plt.text(400, 40, type_)\n",
    "            plt.text(20, 140, author, size=12)\n",
    "            plt.text(20, 200, description[:50])\n",
    "            fig.tight_layout()\n",
    "            fig.canvas.draw()\n",
    "            data = np.frombuffer(fig.canvas.tostring_rgb(), dtype=np.uint8)\n",
    "            datas.append(data.reshape(fig.canvas.get_width_height()[::-1] + (3,)))\n",
    "            plt.close()\n",
    "            \n",
    "            results.append([dids[-1], datas[-1], balances[-1]])\n",
    "\n",
    "    print('%%%%%%%%%%', type(did_in))\n",
    "    if did_in:\n",
    "        results = []\n",
    "        dids = []\n",
    "        \n",
    "        asset = ocean.assets.resolve(did_in)\n",
    "        \n",
    "        name = asset.as_dictionary()['service'][0]['attributes']['main']['name']\n",
    "        type_ = asset.as_dictionary()['service'][0]['attributes']['main']['type'].upper()\n",
    "        symbol = asset.as_dictionary()['dataTokenInfo']['symbol']\n",
    "        description = asset.as_dictionary()['service'][0]['attributes']['additionalInformation']['description']\n",
    "        author = asset.as_dictionary()['service'][0]['attributes']['main']['author']\n",
    "        dids.append(did_in)\n",
    "        chain = asset.as_dictionary()['service'][1]['serviceEndpoint']\n",
    "        \n",
    "        if chain != 'https://provider.rinkeby.oceanprotocol.com':\n",
    "            pass\n",
    "        \n",
    "        if address:\n",
    "            data_token = ocean.get_data_token(asset.data_token_address)\n",
    "            token_address = data_token.address\n",
    "            balances.append(pretty_ether_and_wei(data_token.balanceOf(wallet.address)))\n",
    "        else:\n",
    "            balances.append(0)\n",
    "        \n",
    "        \n",
    "        \n",
    "        img = Image.open('algovera-tile.png')\n",
    "\n",
    "        fig = plt.figure(figsize=(5,5))\n",
    "        plt.axis(\"off\")\n",
    "        plt.imshow(img)\n",
    "        plt.text(20, 100, name[:22], size=20)\n",
    "        plt.text(20, 60, symbol)\n",
    "        plt.text(400, 40, type_)\n",
    "        plt.text(20, 140, author, size=12)\n",
    "        plt.text(20, 200, description[:50])\n",
    "        fig.tight_layout()\n",
    "        fig.canvas.draw()\n",
    "        data = np.frombuffer(fig.canvas.tostring_rgb(), dtype=np.uint8)\n",
    "        datas.append(data.reshape(fig.canvas.get_width_height()[::-1] + (3,)))\n",
    "        plt.close()\n",
    "        \n",
    "        results.append([dids[-1], datas[-1], balances[-1]])\n",
    "        \n",
    "    if buy_top_result:\n",
    "        asset = ocean.assets.resolve(dids[0])\n",
    "        service_type = asset.as_dictionary()['service'][1]['type']\n",
    "        compute_service = asset.get_service(service_type)\n",
    "        \n",
    "        dataset_order_requirements = ocean.assets.order(\n",
    "            asset.did, wallet.address, service_type=compute_service.type\n",
    "        )\n",
    "        DATA_order_tx_id = ocean.assets.pay_for_service(\n",
    "                ocean.web3,\n",
    "                dataset_order_requirements.amount,\n",
    "                dataset_order_requirements.data_token_address,\n",
    "                asset.did,\n",
    "                compute_service.index,\n",
    "                ZERO_ADDRESS,\n",
    "                wallet,\n",
    "                dataset_order_requirements.computeAddress,\n",
    "            )\n",
    "\n",
    "        if address:\n",
    "            data_token = ocean.get_data_token(asset.data_token_address)\n",
    "            token_address = data_token.address\n",
    "            balance = pretty_ether_and_wei(data_token.balanceOf(wallet.address))\n",
    "    \n",
    "        results[0][2] = balance\n",
    "\n",
    "    return results \n",
    "\n",
    "description = (\n",
    "    \"This app can be used to search datasets and algorithms on the Ocean Marketplace. Enter a search term in the text box and the first result will be displayed as an image tile with description. \" \n",
    ")\n",
    "\n",
    "article = (\n",
    "    \"<p style='text-align: center'>\"\n",
    "    \"<a href='https://market.oceanprotocol.com/' target='_blank'>1. Ocean Marketplace</a> | \"\n",
    "    \"<a href='https://docs.algovera.ai/blog/2022/01/04/Using%20the%20Ocean%20Marketplace%20with%20HuggingFace%20Apps,%20Algorithms%20and%20Datasets' target='_blank'>2. Blog about Ocean Protocol on HuggingFace</a> \"\n",
    "    \"</p>\"\n",
    ")\n",
    "\n",
    "\n",
    "interface = gr.Interface(\n",
    "    search,\n",
    "    [\n",
    "        gr.inputs.Textbox(label=\"Search Datasets and Algorithms by name\"),\n",
    "        gr.inputs.Textbox(label=\"Search Datasets and Algorithms by DID\"),\n",
    "        gr.inputs.Textbox(label=\"Show Token Balance for Each (by Inputting Private Key)\"),\n",
    "        \"checkbox\"\n",
    "\n",
    "    ],\n",
    "    [\n",
    "        gr.outputs.Carousel([\"text\", \"image\", \"text\"], label=\"Search Results\"),\n",
    "    ],\n",
    "    title=\"Ocean Marketplace\",\n",
    "    description=description,\n",
    "    article=article,\n",
    "    theme=\"huggingface\",\n",
    ")\n",
    "\n",
    "interface.launch()"
   ]
  },
  {
   "cell_type": "code",
   "execution_count": null,
   "id": "598dff2f",
   "metadata": {},
   "outputs": [],
   "source": []
  }
 ],
 "metadata": {
  "kernelspec": {
   "display_name": "Python 3",
   "language": "python",
   "name": "python3"
  },
  "language_info": {
   "codemirror_mode": {
    "name": "ipython",
    "version": 3
   },
   "file_extension": ".py",
   "mimetype": "text/x-python",
   "name": "python",
   "nbconvert_exporter": "python",
   "pygments_lexer": "ipython3",
   "version": "3.9.6"
  }
 },
 "nbformat": 4,
 "nbformat_minor": 5
}
