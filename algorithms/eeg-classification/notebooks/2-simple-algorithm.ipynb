{
 "cells": [
  {
   "cell_type": "markdown",
   "metadata": {},
   "source": [
    "In the previous notebook, we used a Web3 wallet to download sample data for a dataset from the [Ocean Marketplace](https://market.oceanprotocol.com/). If you haven't gone through those steps already, do so before moving on. Next we'll write a simple algorithm to run on the full dataset that lists the files, reads the file and prints the shape of the data. It might seem like overkill to create a notebook for such a simple algorithm. However, "
   ]
  },
  {
   "cell_type": "code",
   "execution_count": 7,
   "metadata": {},
   "outputs": [],
   "source": [
    "import os"
   ]
  },
  {
   "cell_type": "code",
   "execution_count": 9,
   "metadata": {},
   "outputs": [],
   "source": [
    "from pathlib import Path\n",
    "data_dir = Path('data')\n",
    "sample_dir = data_dir / 'sample_data_single_column'"
   ]
  },
  {
   "cell_type": "code",
   "execution_count": 10,
   "metadata": {},
   "outputs": [
    {
     "name": "stdout",
     "output_type": "stream",
     "text": [
      "Listing files...\n",
      " data\n",
      "--- sample_data_single_column.zip\n",
      "--- sample_data_single_column\n",
      "------ sample_col_memory.feather\n",
      "------ sample_col_eyesclosed.feather\n",
      "------ sample_col_music.feather\n",
      "------ sample_col_mathematic.feather\n",
      "------ sample_col_eyesopen.feather\n"
     ]
    }
   ],
   "source": [
    "print(\"Listing files...\")\n",
    "data_path = []\n",
    "for root, dirs, files in os.walk(data_dir):\n",
    "    path = root.split(os.sep)\n",
    "    print((len(path) - 1) * '---', os.path.basename(root))\n",
    "    for file in files:\n",
    "        fn = os.path.join(root,file)\n",
    "        if fn.split('.')[-1] in ['feather']:\n",
    "            data_path.append(fn)\n",
    "        print(len(path) * '---', file)"
   ]
  },
  {
   "cell_type": "code",
   "execution_count": 11,
   "metadata": {},
   "outputs": [],
   "source": [
    "import numpy as np\n",
    "import pandas as pd"
   ]
  },
  {
   "cell_type": "code",
   "execution_count": 12,
   "metadata": {},
   "outputs": [
    {
     "name": "stdout",
     "output_type": "stream",
     "text": [
      "Reading files...\n"
     ]
    }
   ],
   "source": [
    "print(\"Reading files...\")\n",
    "datas = []\n",
    "for path in data_path:\n",
    "    datas.append(np.array(pd.read_feather(data_path[0])))\n",
    "data = np.stack(datas)"
   ]
  },
  {
   "cell_type": "markdown",
   "metadata": {},
   "source": [
    "There are 5 different sessions, where participants completed five tasks:\n",
    "\n",
    "1. Resting-state: eyes open\n",
    "2. Resting-state: eyes closed\n",
    "3. Cognitive: subtraction task\n",
    "4. Cognitive: listening to music\n",
    "5. Cognitive: memory task. \n",
    "\n",
    "We included 61 sensors from the EEG net.\n",
    "\n",
    "You can find more information about the dataset [here](https://phas3.notion.site/EEG-dataset-details-680893f310d54fcaa85deb8b02f59c03)."
   ]
  },
  {
   "cell_type": "code",
   "execution_count": 13,
   "metadata": {},
   "outputs": [
    {
     "name": "stdout",
     "output_type": "stream",
     "text": [
      "Data shape: (5, 61, 1)\n"
     ]
    }
   ],
   "source": [
    "print(\"Data shape:\", data.shape)"
   ]
  },
  {
   "cell_type": "markdown",
   "metadata": {},
   "source": [
    "Next we convert this simple algorithm to a python file. Look at the file 3-bci-c2d.py."
   ]
  },
  {
   "cell_type": "code",
   "execution_count": null,
   "metadata": {},
   "outputs": [],
   "source": []
  }
 ],
 "metadata": {
  "kernelspec": {
   "display_name": "Python 3",
   "language": "python",
   "name": "python3"
  },
  "language_info": {
   "codemirror_mode": {
    "name": "ipython",
    "version": 3
   },
   "file_extension": ".py",
   "mimetype": "text/x-python",
   "name": "python",
   "nbconvert_exporter": "python",
   "pygments_lexer": "ipython3",
   "version": "3.9.6"
  }
 },
 "nbformat": 4,
 "nbformat_minor": 4
}
