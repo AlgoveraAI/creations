{
 "cells": [
  {
   "cell_type": "code",
   "execution_count": 1,
   "id": "89ec5066",
   "metadata": {},
   "outputs": [],
   "source": [
    "from IPython.display import Image \n",
    "import _init_paths"
   ]
  },
  {
   "cell_type": "code",
   "execution_count": 3,
   "id": "8306020f",
   "metadata": {},
   "outputs": [
    {
     "name": "stdout",
     "output_type": "stream",
     "text": [
      "config.network_url = 'https://rinkeby.infura.io/v3/d163c48816434b0bbb3ac3925d6c6c80'\n",
      "config.block_confirmations = 0\n",
      "config.metadata_cache_uri = 'https://aquarius.oceanprotocol.com'\n",
      "config.provider_url = 'https://provider.rinkeby.oceanprotocol.com'\n"
     ]
    }
   ],
   "source": [
    "from ocean_lib.ocean.ocean import Ocean\n",
    "from ocean_lib.config import Config\n",
    "\n",
    "config = Config('config.ini')\n",
    "ocean = Ocean(config)\n",
    "\n",
    "print(f\"config.network_url = '{config.network_url}'\")\n",
    "print(f\"config.block_confirmations = {config.block_confirmations.value}\")\n",
    "print(f\"config.metadata_cache_uri = '{config.metadata_cache_uri}'\")\n",
    "print(f\"config.provider_url = '{config.provider_url}'\")"
   ]
  },
  {
   "cell_type": "code",
   "execution_count": 4,
   "id": "562544bf",
   "metadata": {},
   "outputs": [
    {
     "name": "stdout",
     "output_type": "stream",
     "text": [
      "public address = '0x2338e4e94AEe1817701F65f2c751f7c844b0e43b'\n"
     ]
    }
   ],
   "source": [
    "import os\n",
    "from ocean_lib.web3_internal.wallet import Wallet\n",
    "\n",
    "wallet = Wallet(ocean.web3, os.getenv('MY_TEST_KEY'), transaction_timeout=20, block_confirmations=config.block_confirmations)\n",
    "\n",
    "print(f\"public address = '{wallet.address}'\")"
   ]
  },
  {
   "cell_type": "code",
   "execution_count": 5,
   "id": "ed40236f",
   "metadata": {},
   "outputs": [
    {
     "name": "stdout",
     "output_type": "stream",
     "text": [
      "ALG_datatoken.address = '0x325bA298E241d4B8d68A6F6E4985935e57Cde939'\n"
     ]
    }
   ],
   "source": [
    "from ocean_lib.web3_internal.currency import to_wei\n",
    "\n",
    "# Publish ALG datatoken\n",
    "ALG_datatoken = ocean.create_data_token('DEFI0', 'DEFI0', wallet, blob=ocean.config.metadata_cache_uri)\n",
    "ALG_datatoken.mint(wallet.address, to_wei(100), wallet)\n",
    "print(f\"ALG_datatoken.address = '{ALG_datatoken.address}'\")"
   ]
  },
  {
   "cell_type": "code",
   "execution_count": 7,
   "id": "b5dafcef",
   "metadata": {},
   "outputs": [
    {
     "name": "stdout",
     "output_type": "stream",
     "text": [
      "Pool has 1E+2 DEFI0 (100000000000000000000 wei).\n"
     ]
    }
   ],
   "source": [
    "from ocean_lib.web3_internal.currency import pretty_ether_and_wei\n",
    "print(f\"Pool has {pretty_ether_and_wei(ALG_datatoken.balanceOf(wallet.address), ALG_datatoken.symbol())}.\")"
   ]
  },
  {
   "cell_type": "markdown",
   "id": "511dbf79",
   "metadata": {},
   "source": [
    "## Publish algorithm"
   ]
  },
  {
   "cell_type": "code",
   "execution_count": 9,
   "id": "1811a66a",
   "metadata": {},
   "outputs": [],
   "source": [
    "# Important Parameters\n",
    "image: str = \"algovera/algo_dockers\" \n",
    "tag: str = \"defi-borrowing\"\n",
    "url: str = \"https://raw.githubusercontent.com/AlgoveraAI/DeFi-borrowing-cost-prediction/main/algo-c2d.py\"\n",
    "name: str = \"DeFi Borrowing Cost Prediction\"\n",
    "author: str = \"AlgoveraAI\""
   ]
  },
  {
   "cell_type": "code",
   "execution_count": 10,
   "id": "45e6b2bf",
   "metadata": {},
   "outputs": [],
   "source": [
    "# Specify metadata and service attributes, for \"GPR\" algorithm script.\n",
    "# In same location as Branin test dataset. GPR = Gaussian Process Regression.\n",
    "ALG_metadata =  {\n",
    "    \"main\": {\n",
    "        \"type\": \"algorithm\",\n",
    "        \"algorithm\": {\n",
    "            \"language\": \"python\",\n",
    "            \"format\": \"docker-image\",\n",
    "            \"version\": \"0.1\",\n",
    "            \"container\": {\n",
    "              \"entrypoint\": \"python $ALGO\",\n",
    "              \"image\": image,\n",
    "              \"tag\": tag\n",
    "            }\n",
    "        },\n",
    "        \"files\": [\n",
    "    {\n",
    "        \"url\": url,\n",
    "        \"index\": 0,\n",
    "        \"contentType\": \"text/text\",\n",
    "      }\n",
    "    ],\n",
    "    \"name\": name, \"author\": author, \"license\": \"CC0\",\n",
    "    \"dateCreated\": \"2022-01-31T15:00:00Z\"\n",
    "    }\n",
    "}\n",
    "\n",
    "ALG_service_attributes = {\n",
    "        \"main\": {\n",
    "            \"name\": \"ALG_dataAssetAccessServiceAgreement\",\n",
    "            \"creator\": wallet.address,\n",
    "            \"timeout\": 3600 * 24,\n",
    "            \"datePublished\": \"2020-01-28T10:55:11Z\",\n",
    "            \"cost\": 1.0, # <don't change, this is obsolete>\n",
    "        }\n",
    "    }"
   ]
  },
  {
   "cell_type": "code",
   "execution_count": 11,
   "id": "aea55547",
   "metadata": {},
   "outputs": [
    {
     "name": "stdout",
     "output_type": "stream",
     "text": [
      "signing message with nonce 0: 0x325bA298E241d4B8d68A6F6E4985935e57Cde939, account=0x2338e4e94AEe1817701F65f2c751f7c844b0e43b\n",
      "ALG did = 'did:op:325bA298E241d4B8d68A6F6E4985935e57Cde939'\n"
     ]
    }
   ],
   "source": [
    "# Set up a service provider. We'll use this same provider for ALG\n",
    "from ocean_lib.data_provider.data_service_provider import DataServiceProvider\n",
    "provider_url = DataServiceProvider.get_url(ocean.config)\n",
    "# returns \"http://localhost:8030\"\n",
    "\n",
    "# Calc DATA service compute descriptor\n",
    "from ocean_lib.services.service import Service\n",
    "from ocean_lib.common.agreements.service_types import ServiceTypes\n",
    "\n",
    "# Calc ALG service access descriptor. We use the same service provider as DATA\n",
    "ALG_access_service = Service(\n",
    "    service_endpoint=provider_url,\n",
    "    service_type=ServiceTypes.CLOUD_COMPUTE,\n",
    "    attributes=ALG_service_attributes\n",
    ")\n",
    "\n",
    "# Publish metadata and service info on-chain\n",
    "ALG_ddo = ocean.assets.create(\n",
    "  metadata=ALG_metadata, # {\"main\" : {\"type\" : \"algorithm\", ..}, ..}\n",
    "  publisher_wallet=wallet,\n",
    "  services=[ALG_access_service],\n",
    "  data_token_address=ALG_datatoken.address)\n",
    "print(f\"ALG did = '{ALG_ddo.did}'\")"
   ]
  },
  {
   "cell_type": "code",
   "execution_count": 12,
   "id": "adafe850",
   "metadata": {},
   "outputs": [
    {
     "ename": "NameError",
     "evalue": "name 'ALG_access_service_descriptor' is not defined",
     "output_type": "error",
     "traceback": [
      "\u001b[0;31m---------------------------------------------------------------------------\u001b[0m",
      "\u001b[0;31mNameError\u001b[0m                                 Traceback (most recent call last)",
      "\u001b[0;32m/tmp/ipykernel_5794/1151643533.py\u001b[0m in \u001b[0;36m<module>\u001b[0;34m\u001b[0m\n\u001b[1;32m      3\u001b[0m   \u001b[0mmetadata\u001b[0m\u001b[0;34m=\u001b[0m\u001b[0mALG_metadata\u001b[0m\u001b[0;34m,\u001b[0m \u001b[0;31m# {\"main\" : {\"type\" : \"algorithm\", ..}, ..}\u001b[0m\u001b[0;34m\u001b[0m\u001b[0;34m\u001b[0m\u001b[0m\n\u001b[1;32m      4\u001b[0m   \u001b[0mpublisher_wallet\u001b[0m\u001b[0;34m=\u001b[0m\u001b[0mwallet\u001b[0m\u001b[0;34m,\u001b[0m\u001b[0;34m\u001b[0m\u001b[0;34m\u001b[0m\u001b[0m\n\u001b[0;32m----> 5\u001b[0;31m   \u001b[0mservice_descriptors\u001b[0m\u001b[0;34m=\u001b[0m\u001b[0;34m[\u001b[0m\u001b[0mALG_access_service_descriptor\u001b[0m\u001b[0;34m]\u001b[0m\u001b[0;34m,\u001b[0m\u001b[0;34m\u001b[0m\u001b[0;34m\u001b[0m\u001b[0m\n\u001b[0m\u001b[1;32m      6\u001b[0m   data_token_address=ALG_datatoken.address)\n\u001b[1;32m      7\u001b[0m \u001b[0mprint\u001b[0m\u001b[0;34m(\u001b[0m\u001b[0;34mf\"ALG did = '{ALG_ddo.did}'\"\u001b[0m\u001b[0;34m)\u001b[0m\u001b[0;34m\u001b[0m\u001b[0;34m\u001b[0m\u001b[0m\n",
      "\u001b[0;31mNameError\u001b[0m: name 'ALG_access_service_descriptor' is not defined"
     ]
    }
   ],
   "source": [
    "# Publish metadata and service info on-chain\n",
    "ALG_ddo = ocean.assets.create(\n",
    "  metadata=ALG_metadata, # {\"main\" : {\"type\" : \"algorithm\", ..}, ..}\n",
    "  publisher_wallet=wallet,\n",
    "  service_descriptors=[ALG_access_service_descriptor],\n",
    "  data_token_address=ALG_datatoken.address)\n",
    "print(f\"ALG did = '{ALG_ddo.did}'\")"
   ]
  },
  {
   "cell_type": "markdown",
   "id": "e17147da",
   "metadata": {},
   "source": [
    "At this point you will need to request that the data provider approves your code as a trusted algorithm on the dataset. For example, if you reach out to Algovera about one of our datasets, we will approve your request quickly."
   ]
  },
  {
   "cell_type": "code",
   "execution_count": null,
   "id": "e7df8918",
   "metadata": {},
   "outputs": [],
   "source": []
  }
 ],
 "metadata": {
  "kernelspec": {
   "display_name": "Python 3",
   "language": "python",
   "name": "python3"
  },
  "language_info": {
   "codemirror_mode": {
    "name": "ipython",
    "version": 3
   },
   "file_extension": ".py",
   "mimetype": "text/x-python",
   "name": "python",
   "nbconvert_exporter": "python",
   "pygments_lexer": "ipython3",
   "version": "3.8.3"
  }
 },
 "nbformat": 4,
 "nbformat_minor": 5
}
