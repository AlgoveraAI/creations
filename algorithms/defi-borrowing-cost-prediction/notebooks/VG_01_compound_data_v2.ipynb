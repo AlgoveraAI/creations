{
  "cells": [
    {
      "cell_type": "markdown",
      "metadata": {
        "id": "BMbPXAgChSPY"
      },
      "source": [
        "Basis for notebook is found here: https://github.com/AlgoveraAI/DeFi-borrowing-cost-prediction\n",
        "\n",
        "Forked from awesome notebook by VintageGold\n",
        "\n",
        "Data for this taken from Algovera Discord"
      ]
    },
    {
      "cell_type": "markdown",
      "metadata": {
        "id": "X3rhc7YyhYww"
      },
      "source": [
        "# Goal of this notebook\n",
        "\n",
        "- [X] EDA on Compound dataset including correlation\n",
        "- [X] Scoping the problem, prepping data & train/test split\n",
        "- [X] sklearn linear regression \n",
        "- [X] simple Linear Models (possibly using fastai)\n",
        "- [X] LSTM Models (possibly using pytorch/fastai)\n",
        "- [ ] TabNet/SAINT Models (possibly using pytorch/fastai)"
      ]
    },
    {
      "cell_type": "markdown",
      "metadata": {
        "id": "wrGrlHCNh9aQ"
      },
      "source": [
        "# Install Libraries and imports"
      ]
    },
    {
      "cell_type": "code",
      "execution_count": 1,
      "metadata": {
        "colab": {
          "base_uri": "https://localhost:8080/"
        },
        "id": "GjlA63RUh_Sn",
        "outputId": "ec396825-6839-4e44-beee-8f6baf4429fd"
      },
      "outputs": [
        {
          "output_type": "stream",
          "name": "stdout",
          "text": [
            "\u001b[K     |████████████████████████████████| 189 kB 5.1 MB/s \n",
            "\u001b[K     |████████████████████████████████| 56 kB 4.1 MB/s \n",
            "\u001b[?25h"
          ]
        }
      ],
      "source": [
        "!pip install fastai -Uqq"
      ]
    },
    {
      "cell_type": "code",
      "execution_count": 2,
      "metadata": {
        "id": "uugelLsLibk5"
      },
      "outputs": [],
      "source": [
        "from fastai.tabular.all import *\n",
        "import seaborn as sns\n",
        "from tqdm import tqdm"
      ]
    },
    {
      "cell_type": "markdown",
      "metadata": {
        "id": "ljWsH4S6h6Tx"
      },
      "source": [
        "# Google Drive"
      ]
    },
    {
      "cell_type": "code",
      "execution_count": 3,
      "metadata": {
        "colab": {
          "base_uri": "https://localhost:8080/"
        },
        "id": "IQFZJ2YMhKZQ",
        "outputId": "0db5c127-2b00-478b-88ac-7e10b64ec729"
      },
      "outputs": [
        {
          "output_type": "stream",
          "name": "stdout",
          "text": [
            "Mounted at /content/drive\n"
          ]
        }
      ],
      "source": [
        "from google.colab import drive\n",
        "drive.mount('/content/drive')"
      ]
    },
    {
      "cell_type": "code",
      "execution_count": 4,
      "metadata": {
        "id": "cruSG0lziWRi"
      },
      "outputs": [],
      "source": [
        "path = Path('/content/drive/MyDrive/colab_notebooks/algovera_defi')"
      ]
    },
    {
      "cell_type": "markdown",
      "metadata": {
        "id": "CP8VAW4Cii_H"
      },
      "source": [
        "# Load data, data cleaning and initial EDA"
      ]
    },
    {
      "cell_type": "code",
      "execution_count": 5,
      "metadata": {
        "colab": {
          "base_uri": "https://localhost:8080/"
        },
        "id": "NHNPquLnio1Y",
        "outputId": "044b9424-6702-40df-fcf1-89643030d4d9"
      },
      "outputs": [
        {
          "output_type": "execute_result",
          "data": {
            "text/plain": [
              "array(['DAI', 'USDC', 'USDT', 'ETH'], dtype=object)"
            ]
          },
          "metadata": {},
          "execution_count": 5
        }
      ],
      "source": [
        "df = pd.read_csv(path/'compound.csv')\n",
        "df[\"Date\"] = pd.to_datetime(df[\"Timestamp\"], unit='s', origin='unix')\n",
        "\n",
        "tokens = df[\"Token\"].unique()\n",
        "tokens"
      ]
    },
    {
      "cell_type": "code",
      "execution_count": 6,
      "metadata": {
        "colab": {
          "base_uri": "https://localhost:8080/"
        },
        "id": "CD3i8UU7vnrM",
        "outputId": "ea14c663-40f3-4442-d574-46b1a697ca70"
      },
      "outputs": [
        {
          "output_type": "execute_result",
          "data": {
            "text/plain": [
              "66794"
            ]
          },
          "metadata": {},
          "execution_count": 6
        }
      ],
      "source": [
        "df = df.sort_values('Timestamp')\n",
        "len(df)"
      ]
    },
    {
      "cell_type": "code",
      "execution_count": 7,
      "metadata": {
        "colab": {
          "base_uri": "https://localhost:8080/"
        },
        "id": "ZWL2Jtm4KQKl",
        "outputId": "29f525c6-ed34-4715-f624-3f64ec951c56"
      },
      "outputs": [
        {
          "output_type": "execute_result",
          "data": {
            "text/plain": [
              "1639247400    13\n",
              "1632666600    12\n",
              "1638262800    11\n",
              "1638761400    11\n",
              "1636254000    11\n",
              "              ..\n",
              "1632826800     1\n",
              "1626802200     1\n",
              "1635528600     1\n",
              "1637033400     1\n",
              "1637879400     1\n",
              "Name: Timestamp, Length: 16707, dtype: int64"
            ]
          },
          "metadata": {},
          "execution_count": 7
        }
      ],
      "source": [
        "#there might be duplicates??\n",
        "df['Timestamp'].value_counts()"
      ]
    },
    {
      "cell_type": "code",
      "execution_count": 8,
      "metadata": {
        "colab": {
          "base_uri": "https://localhost:8080/",
          "height": 426
        },
        "id": "ROgaAh_VKcA3",
        "outputId": "0cb302ad-dfa9-4194-cc0a-c2f6226df553"
      },
      "outputs": [
        {
          "output_type": "execute_result",
          "data": {
            "text/html": [
              "\n",
              "  <div id=\"df-fa154b7f-3d4f-4d74-af9d-8367a72a0277\">\n",
              "    <div class=\"colab-df-container\">\n",
              "      <div>\n",
              "<style scoped>\n",
              "    .dataframe tbody tr th:only-of-type {\n",
              "        vertical-align: middle;\n",
              "    }\n",
              "\n",
              "    .dataframe tbody tr th {\n",
              "        vertical-align: top;\n",
              "    }\n",
              "\n",
              "    .dataframe thead th {\n",
              "        text-align: right;\n",
              "    }\n",
              "</style>\n",
              "<table border=\"1\" class=\"dataframe\">\n",
              "  <thead>\n",
              "    <tr style=\"text-align: right;\">\n",
              "      <th></th>\n",
              "      <th>Timestamp</th>\n",
              "      <th>Token</th>\n",
              "      <th>Borrowing Rate</th>\n",
              "      <th>Deposit Rate</th>\n",
              "      <th>Borrow Volume</th>\n",
              "      <th>Supply Volume</th>\n",
              "      <th>Date</th>\n",
              "    </tr>\n",
              "  </thead>\n",
              "  <tbody>\n",
              "    <tr>\n",
              "      <th>51554</th>\n",
              "      <td>1632666600</td>\n",
              "      <td>ETH</td>\n",
              "      <td>0.028774</td>\n",
              "      <td>0.001107</td>\n",
              "      <td>9.358244e+04</td>\n",
              "      <td>9.576657e+07</td>\n",
              "      <td>2021-09-26 14:30:00</td>\n",
              "    </tr>\n",
              "    <tr>\n",
              "      <th>51553</th>\n",
              "      <td>1632666600</td>\n",
              "      <td>USDT</td>\n",
              "      <td>0.045063</td>\n",
              "      <td>0.032015</td>\n",
              "      <td>6.268494e+08</td>\n",
              "      <td>3.795224e+10</td>\n",
              "      <td>2021-09-26 14:30:00</td>\n",
              "    </tr>\n",
              "    <tr>\n",
              "      <th>51552</th>\n",
              "      <td>1632666600</td>\n",
              "      <td>USDT</td>\n",
              "      <td>0.045063</td>\n",
              "      <td>0.032015</td>\n",
              "      <td>6.268494e+08</td>\n",
              "      <td>3.795224e+10</td>\n",
              "      <td>2021-09-26 14:30:00</td>\n",
              "    </tr>\n",
              "    <tr>\n",
              "      <th>51551</th>\n",
              "      <td>1632666600</td>\n",
              "      <td>USDT</td>\n",
              "      <td>0.045063</td>\n",
              "      <td>0.032015</td>\n",
              "      <td>6.268494e+08</td>\n",
              "      <td>3.795224e+10</td>\n",
              "      <td>2021-09-26 14:30:00</td>\n",
              "    </tr>\n",
              "    <tr>\n",
              "      <th>51550</th>\n",
              "      <td>1632666600</td>\n",
              "      <td>USDT</td>\n",
              "      <td>0.045063</td>\n",
              "      <td>0.032015</td>\n",
              "      <td>6.268494e+08</td>\n",
              "      <td>3.795224e+10</td>\n",
              "      <td>2021-09-26 14:30:00</td>\n",
              "    </tr>\n",
              "    <tr>\n",
              "      <th>51555</th>\n",
              "      <td>1632666600</td>\n",
              "      <td>ETH</td>\n",
              "      <td>0.028774</td>\n",
              "      <td>0.001107</td>\n",
              "      <td>9.358244e+04</td>\n",
              "      <td>9.576657e+07</td>\n",
              "      <td>2021-09-26 14:30:00</td>\n",
              "    </tr>\n",
              "    <tr>\n",
              "      <th>51548</th>\n",
              "      <td>1632666600</td>\n",
              "      <td>USDT</td>\n",
              "      <td>0.045063</td>\n",
              "      <td>0.032015</td>\n",
              "      <td>6.268494e+08</td>\n",
              "      <td>3.795224e+10</td>\n",
              "      <td>2021-09-26 14:30:00</td>\n",
              "    </tr>\n",
              "    <tr>\n",
              "      <th>51547</th>\n",
              "      <td>1632666600</td>\n",
              "      <td>USDT</td>\n",
              "      <td>0.045063</td>\n",
              "      <td>0.032015</td>\n",
              "      <td>6.268494e+08</td>\n",
              "      <td>3.795224e+10</td>\n",
              "      <td>2021-09-26 14:30:00</td>\n",
              "    </tr>\n",
              "    <tr>\n",
              "      <th>51546</th>\n",
              "      <td>1632666600</td>\n",
              "      <td>USDT</td>\n",
              "      <td>0.045063</td>\n",
              "      <td>0.032015</td>\n",
              "      <td>6.268494e+08</td>\n",
              "      <td>3.795224e+10</td>\n",
              "      <td>2021-09-26 14:30:00</td>\n",
              "    </tr>\n",
              "    <tr>\n",
              "      <th>51545</th>\n",
              "      <td>1632666600</td>\n",
              "      <td>USDC</td>\n",
              "      <td>0.062127</td>\n",
              "      <td>0.046301</td>\n",
              "      <td>3.675115e+09</td>\n",
              "      <td>2.039903e+11</td>\n",
              "      <td>2021-09-26 14:30:00</td>\n",
              "    </tr>\n",
              "    <tr>\n",
              "      <th>51544</th>\n",
              "      <td>1632666600</td>\n",
              "      <td>DAI</td>\n",
              "      <td>0.043892</td>\n",
              "      <td>0.027886</td>\n",
              "      <td>3.045299e+09</td>\n",
              "      <td>1.869994e+11</td>\n",
              "      <td>2021-09-26 14:30:00</td>\n",
              "    </tr>\n",
              "    <tr>\n",
              "      <th>51549</th>\n",
              "      <td>1632666600</td>\n",
              "      <td>USDT</td>\n",
              "      <td>0.045063</td>\n",
              "      <td>0.032015</td>\n",
              "      <td>6.268494e+08</td>\n",
              "      <td>3.795224e+10</td>\n",
              "      <td>2021-09-26 14:30:00</td>\n",
              "    </tr>\n",
              "  </tbody>\n",
              "</table>\n",
              "</div>\n",
              "      <button class=\"colab-df-convert\" onclick=\"convertToInteractive('df-fa154b7f-3d4f-4d74-af9d-8367a72a0277')\"\n",
              "              title=\"Convert this dataframe to an interactive table.\"\n",
              "              style=\"display:none;\">\n",
              "        \n",
              "  <svg xmlns=\"http://www.w3.org/2000/svg\" height=\"24px\"viewBox=\"0 0 24 24\"\n",
              "       width=\"24px\">\n",
              "    <path d=\"M0 0h24v24H0V0z\" fill=\"none\"/>\n",
              "    <path d=\"M18.56 5.44l.94 2.06.94-2.06 2.06-.94-2.06-.94-.94-2.06-.94 2.06-2.06.94zm-11 1L8.5 8.5l.94-2.06 2.06-.94-2.06-.94L8.5 2.5l-.94 2.06-2.06.94zm10 10l.94 2.06.94-2.06 2.06-.94-2.06-.94-.94-2.06-.94 2.06-2.06.94z\"/><path d=\"M17.41 7.96l-1.37-1.37c-.4-.4-.92-.59-1.43-.59-.52 0-1.04.2-1.43.59L10.3 9.45l-7.72 7.72c-.78.78-.78 2.05 0 2.83L4 21.41c.39.39.9.59 1.41.59.51 0 1.02-.2 1.41-.59l7.78-7.78 2.81-2.81c.8-.78.8-2.07 0-2.86zM5.41 20L4 18.59l7.72-7.72 1.47 1.35L5.41 20z\"/>\n",
              "  </svg>\n",
              "      </button>\n",
              "      \n",
              "  <style>\n",
              "    .colab-df-container {\n",
              "      display:flex;\n",
              "      flex-wrap:wrap;\n",
              "      gap: 12px;\n",
              "    }\n",
              "\n",
              "    .colab-df-convert {\n",
              "      background-color: #E8F0FE;\n",
              "      border: none;\n",
              "      border-radius: 50%;\n",
              "      cursor: pointer;\n",
              "      display: none;\n",
              "      fill: #1967D2;\n",
              "      height: 32px;\n",
              "      padding: 0 0 0 0;\n",
              "      width: 32px;\n",
              "    }\n",
              "\n",
              "    .colab-df-convert:hover {\n",
              "      background-color: #E2EBFA;\n",
              "      box-shadow: 0px 1px 2px rgba(60, 64, 67, 0.3), 0px 1px 3px 1px rgba(60, 64, 67, 0.15);\n",
              "      fill: #174EA6;\n",
              "    }\n",
              "\n",
              "    [theme=dark] .colab-df-convert {\n",
              "      background-color: #3B4455;\n",
              "      fill: #D2E3FC;\n",
              "    }\n",
              "\n",
              "    [theme=dark] .colab-df-convert:hover {\n",
              "      background-color: #434B5C;\n",
              "      box-shadow: 0px 1px 3px 1px rgba(0, 0, 0, 0.15);\n",
              "      filter: drop-shadow(0px 1px 2px rgba(0, 0, 0, 0.3));\n",
              "      fill: #FFFFFF;\n",
              "    }\n",
              "  </style>\n",
              "\n",
              "      <script>\n",
              "        const buttonEl =\n",
              "          document.querySelector('#df-fa154b7f-3d4f-4d74-af9d-8367a72a0277 button.colab-df-convert');\n",
              "        buttonEl.style.display =\n",
              "          google.colab.kernel.accessAllowed ? 'block' : 'none';\n",
              "\n",
              "        async function convertToInteractive(key) {\n",
              "          const element = document.querySelector('#df-fa154b7f-3d4f-4d74-af9d-8367a72a0277');\n",
              "          const dataTable =\n",
              "            await google.colab.kernel.invokeFunction('convertToInteractive',\n",
              "                                                     [key], {});\n",
              "          if (!dataTable) return;\n",
              "\n",
              "          const docLinkHtml = 'Like what you see? Visit the ' +\n",
              "            '<a target=\"_blank\" href=https://colab.research.google.com/notebooks/data_table.ipynb>data table notebook</a>'\n",
              "            + ' to learn more about interactive tables.';\n",
              "          element.innerHTML = '';\n",
              "          dataTable['output_type'] = 'display_data';\n",
              "          await google.colab.output.renderOutput(dataTable, element);\n",
              "          const docLink = document.createElement('div');\n",
              "          docLink.innerHTML = docLinkHtml;\n",
              "          element.appendChild(docLink);\n",
              "        }\n",
              "      </script>\n",
              "    </div>\n",
              "  </div>\n",
              "  "
            ],
            "text/plain": [
              "        Timestamp Token  ...  Supply Volume                Date\n",
              "51554  1632666600   ETH  ...   9.576657e+07 2021-09-26 14:30:00\n",
              "51553  1632666600  USDT  ...   3.795224e+10 2021-09-26 14:30:00\n",
              "51552  1632666600  USDT  ...   3.795224e+10 2021-09-26 14:30:00\n",
              "51551  1632666600  USDT  ...   3.795224e+10 2021-09-26 14:30:00\n",
              "51550  1632666600  USDT  ...   3.795224e+10 2021-09-26 14:30:00\n",
              "51555  1632666600   ETH  ...   9.576657e+07 2021-09-26 14:30:00\n",
              "51548  1632666600  USDT  ...   3.795224e+10 2021-09-26 14:30:00\n",
              "51547  1632666600  USDT  ...   3.795224e+10 2021-09-26 14:30:00\n",
              "51546  1632666600  USDT  ...   3.795224e+10 2021-09-26 14:30:00\n",
              "51545  1632666600  USDC  ...   2.039903e+11 2021-09-26 14:30:00\n",
              "51544  1632666600   DAI  ...   1.869994e+11 2021-09-26 14:30:00\n",
              "51549  1632666600  USDT  ...   3.795224e+10 2021-09-26 14:30:00\n",
              "\n",
              "[12 rows x 7 columns]"
            ]
          },
          "metadata": {},
          "execution_count": 8
        }
      ],
      "source": [
        "df[df['Timestamp'] == 1632666600]"
      ]
    },
    {
      "cell_type": "code",
      "execution_count": 9,
      "metadata": {
        "colab": {
          "base_uri": "https://localhost:8080/"
        },
        "id": "u1ubj-E8wP9e",
        "outputId": "70db04a2-4898-4f5e-e06d-86717e107972"
      },
      "outputs": [
        {
          "output_type": "execute_result",
          "data": {
            "text/plain": [
              "63361"
            ]
          },
          "metadata": {},
          "execution_count": 9
        }
      ],
      "source": [
        "#remove duplicates\n",
        "df = df.drop_duplicates(['Timestamp', 'Token'])\n",
        "len(df)"
      ]
    },
    {
      "cell_type": "code",
      "execution_count": 10,
      "metadata": {
        "id": "5pyxDnEJMHhs"
      },
      "outputs": [],
      "source": [
        "#we will also drop those data that is not complete - this is data for any timestamp with less than 4 tokens  \n",
        "counts = pd.DataFrame(df['Timestamp'].value_counts()).reset_index()\n",
        "counts.columns = ['Timestamp', 'Counts']\n",
        "df = df.merge(counts, on='Timestamp')\n",
        "df = df[df['Counts'] == 4].reset_index(drop=True).drop('Counts', axis=1)"
      ]
    },
    {
      "cell_type": "code",
      "execution_count": 11,
      "metadata": {
        "colab": {
          "base_uri": "https://localhost:8080/",
          "height": 206
        },
        "id": "9D0liMSFirKV",
        "outputId": "c1aeb42e-2b3b-4b96-ff8d-d5e53105de40"
      },
      "outputs": [
        {
          "output_type": "execute_result",
          "data": {
            "text/html": [
              "\n",
              "  <div id=\"df-b4e9d1af-2b5a-49d8-a622-8128533eac2d\">\n",
              "    <div class=\"colab-df-container\">\n",
              "      <div>\n",
              "<style scoped>\n",
              "    .dataframe tbody tr th:only-of-type {\n",
              "        vertical-align: middle;\n",
              "    }\n",
              "\n",
              "    .dataframe tbody tr th {\n",
              "        vertical-align: top;\n",
              "    }\n",
              "\n",
              "    .dataframe thead th {\n",
              "        text-align: right;\n",
              "    }\n",
              "</style>\n",
              "<table border=\"1\" class=\"dataframe\">\n",
              "  <thead>\n",
              "    <tr style=\"text-align: right;\">\n",
              "      <th></th>\n",
              "      <th>Timestamp</th>\n",
              "      <th>Borrowing Rate</th>\n",
              "      <th>Deposit Rate</th>\n",
              "      <th>Borrow Volume</th>\n",
              "      <th>Supply Volume</th>\n",
              "    </tr>\n",
              "  </thead>\n",
              "  <tbody>\n",
              "    <tr>\n",
              "      <th>Timestamp</th>\n",
              "      <td>1.000000</td>\n",
              "      <td>-0.399600</td>\n",
              "      <td>-0.359850</td>\n",
              "      <td>0.282469</td>\n",
              "      <td>0.304183</td>\n",
              "    </tr>\n",
              "    <tr>\n",
              "      <th>Borrowing Rate</th>\n",
              "      <td>-0.399600</td>\n",
              "      <td>1.000000</td>\n",
              "      <td>0.987260</td>\n",
              "      <td>0.071091</td>\n",
              "      <td>0.008074</td>\n",
              "    </tr>\n",
              "    <tr>\n",
              "      <th>Deposit Rate</th>\n",
              "      <td>-0.359850</td>\n",
              "      <td>0.987260</td>\n",
              "      <td>1.000000</td>\n",
              "      <td>0.153807</td>\n",
              "      <td>0.095174</td>\n",
              "    </tr>\n",
              "    <tr>\n",
              "      <th>Borrow Volume</th>\n",
              "      <td>0.282469</td>\n",
              "      <td>0.071091</td>\n",
              "      <td>0.153807</td>\n",
              "      <td>1.000000</td>\n",
              "      <td>0.989007</td>\n",
              "    </tr>\n",
              "    <tr>\n",
              "      <th>Supply Volume</th>\n",
              "      <td>0.304183</td>\n",
              "      <td>0.008074</td>\n",
              "      <td>0.095174</td>\n",
              "      <td>0.989007</td>\n",
              "      <td>1.000000</td>\n",
              "    </tr>\n",
              "  </tbody>\n",
              "</table>\n",
              "</div>\n",
              "      <button class=\"colab-df-convert\" onclick=\"convertToInteractive('df-b4e9d1af-2b5a-49d8-a622-8128533eac2d')\"\n",
              "              title=\"Convert this dataframe to an interactive table.\"\n",
              "              style=\"display:none;\">\n",
              "        \n",
              "  <svg xmlns=\"http://www.w3.org/2000/svg\" height=\"24px\"viewBox=\"0 0 24 24\"\n",
              "       width=\"24px\">\n",
              "    <path d=\"M0 0h24v24H0V0z\" fill=\"none\"/>\n",
              "    <path d=\"M18.56 5.44l.94 2.06.94-2.06 2.06-.94-2.06-.94-.94-2.06-.94 2.06-2.06.94zm-11 1L8.5 8.5l.94-2.06 2.06-.94-2.06-.94L8.5 2.5l-.94 2.06-2.06.94zm10 10l.94 2.06.94-2.06 2.06-.94-2.06-.94-.94-2.06-.94 2.06-2.06.94z\"/><path d=\"M17.41 7.96l-1.37-1.37c-.4-.4-.92-.59-1.43-.59-.52 0-1.04.2-1.43.59L10.3 9.45l-7.72 7.72c-.78.78-.78 2.05 0 2.83L4 21.41c.39.39.9.59 1.41.59.51 0 1.02-.2 1.41-.59l7.78-7.78 2.81-2.81c.8-.78.8-2.07 0-2.86zM5.41 20L4 18.59l7.72-7.72 1.47 1.35L5.41 20z\"/>\n",
              "  </svg>\n",
              "      </button>\n",
              "      \n",
              "  <style>\n",
              "    .colab-df-container {\n",
              "      display:flex;\n",
              "      flex-wrap:wrap;\n",
              "      gap: 12px;\n",
              "    }\n",
              "\n",
              "    .colab-df-convert {\n",
              "      background-color: #E8F0FE;\n",
              "      border: none;\n",
              "      border-radius: 50%;\n",
              "      cursor: pointer;\n",
              "      display: none;\n",
              "      fill: #1967D2;\n",
              "      height: 32px;\n",
              "      padding: 0 0 0 0;\n",
              "      width: 32px;\n",
              "    }\n",
              "\n",
              "    .colab-df-convert:hover {\n",
              "      background-color: #E2EBFA;\n",
              "      box-shadow: 0px 1px 2px rgba(60, 64, 67, 0.3), 0px 1px 3px 1px rgba(60, 64, 67, 0.15);\n",
              "      fill: #174EA6;\n",
              "    }\n",
              "\n",
              "    [theme=dark] .colab-df-convert {\n",
              "      background-color: #3B4455;\n",
              "      fill: #D2E3FC;\n",
              "    }\n",
              "\n",
              "    [theme=dark] .colab-df-convert:hover {\n",
              "      background-color: #434B5C;\n",
              "      box-shadow: 0px 1px 3px 1px rgba(0, 0, 0, 0.15);\n",
              "      filter: drop-shadow(0px 1px 2px rgba(0, 0, 0, 0.3));\n",
              "      fill: #FFFFFF;\n",
              "    }\n",
              "  </style>\n",
              "\n",
              "      <script>\n",
              "        const buttonEl =\n",
              "          document.querySelector('#df-b4e9d1af-2b5a-49d8-a622-8128533eac2d button.colab-df-convert');\n",
              "        buttonEl.style.display =\n",
              "          google.colab.kernel.accessAllowed ? 'block' : 'none';\n",
              "\n",
              "        async function convertToInteractive(key) {\n",
              "          const element = document.querySelector('#df-b4e9d1af-2b5a-49d8-a622-8128533eac2d');\n",
              "          const dataTable =\n",
              "            await google.colab.kernel.invokeFunction('convertToInteractive',\n",
              "                                                     [key], {});\n",
              "          if (!dataTable) return;\n",
              "\n",
              "          const docLinkHtml = 'Like what you see? Visit the ' +\n",
              "            '<a target=\"_blank\" href=https://colab.research.google.com/notebooks/data_table.ipynb>data table notebook</a>'\n",
              "            + ' to learn more about interactive tables.';\n",
              "          element.innerHTML = '';\n",
              "          dataTable['output_type'] = 'display_data';\n",
              "          await google.colab.output.renderOutput(dataTable, element);\n",
              "          const docLink = document.createElement('div');\n",
              "          docLink.innerHTML = docLinkHtml;\n",
              "          element.appendChild(docLink);\n",
              "        }\n",
              "      </script>\n",
              "    </div>\n",
              "  </div>\n",
              "  "
            ],
            "text/plain": [
              "                Timestamp  Borrowing Rate  ...  Borrow Volume  Supply Volume\n",
              "Timestamp        1.000000       -0.399600  ...       0.282469       0.304183\n",
              "Borrowing Rate  -0.399600        1.000000  ...       0.071091       0.008074\n",
              "Deposit Rate    -0.359850        0.987260  ...       0.153807       0.095174\n",
              "Borrow Volume    0.282469        0.071091  ...       1.000000       0.989007\n",
              "Supply Volume    0.304183        0.008074  ...       0.989007       1.000000\n",
              "\n",
              "[5 rows x 5 columns]"
            ]
          },
          "metadata": {},
          "execution_count": 11
        }
      ],
      "source": [
        "df.corr()"
      ]
    },
    {
      "cell_type": "code",
      "execution_count": 12,
      "metadata": {
        "id": "Qc3ALkVRjM1o"
      },
      "outputs": [],
      "source": [
        "df1 = pd.DataFrame()"
      ]
    },
    {
      "cell_type": "markdown",
      "metadata": {
        "id": "kpaT_uLcOuVE"
      },
      "source": [
        "# New df - one row for each timepoint"
      ]
    },
    {
      "cell_type": "markdown",
      "metadata": {
        "id": "cb8nZKonsxUs"
      },
      "source": [
        "Next, we will make a new df (df1) where each row is data for a single timestamp with deposit/borrowing rates and the volume data for respective token made into different columns"
      ]
    },
    {
      "cell_type": "code",
      "execution_count": 13,
      "metadata": {
        "id": "zju0sZKkiuMX"
      },
      "outputs": [],
      "source": [
        "for tok in tokens:\n",
        "    df_tok = df[df['Token']==tok]\n",
        "    df_tok = df_tok.drop(['Token', 'Date'], axis=1)\n",
        "\n",
        "    col_names = []\n",
        "    for col in df_tok.columns:\n",
        "        if col == 'Timestamp':\n",
        "            col_names.append(f'{col}')\n",
        "        else:\n",
        "            col_names.append(f'{tok}_{col}')\n",
        "        \n",
        "    df_tok.columns = col_names\n",
        "    #df_tok = df_tok.set_index('Timestamp', drop=True)\n",
        "    \n",
        "    if df1.empty:\n",
        "        df1 = df_tok\n",
        "    else:\n",
        "        df1 = pd.merge(df1, df_tok, on='Timestamp')"
      ]
    },
    {
      "cell_type": "code",
      "execution_count": 14,
      "metadata": {
        "id": "_zGVSbCV04D7"
      },
      "outputs": [],
      "source": [
        "#lets check if the data is 30mins apart \n",
        "df1.sort_values('Timestamp', inplace=True)\n",
        "df1[\"Date\"] = pd.to_datetime(df1[\"Timestamp\"], unit='s', origin='unix')\n",
        "df1['Timediff'] = df1['Timestamp'].shift(-1) - df1['Timestamp'] "
      ]
    },
    {
      "cell_type": "code",
      "execution_count": 15,
      "metadata": {
        "colab": {
          "base_uri": "https://localhost:8080/",
          "height": 852
        },
        "id": "TdMr11g82dyr",
        "outputId": "123983e9-8e03-4eb1-cf7e-309dfb37f258"
      },
      "outputs": [
        {
          "output_type": "execute_result",
          "data": {
            "text/html": [
              "\n",
              "  <div id=\"df-a1c71980-cd2c-435f-9760-4661fb9888c4\">\n",
              "    <div class=\"colab-df-container\">\n",
              "      <div>\n",
              "<style scoped>\n",
              "    .dataframe tbody tr th:only-of-type {\n",
              "        vertical-align: middle;\n",
              "    }\n",
              "\n",
              "    .dataframe tbody tr th {\n",
              "        vertical-align: top;\n",
              "    }\n",
              "\n",
              "    .dataframe thead th {\n",
              "        text-align: right;\n",
              "    }\n",
              "</style>\n",
              "<table border=\"1\" class=\"dataframe\">\n",
              "  <thead>\n",
              "    <tr style=\"text-align: right;\">\n",
              "      <th></th>\n",
              "      <th>Timestamp</th>\n",
              "      <th>DAI_Borrowing Rate</th>\n",
              "      <th>DAI_Deposit Rate</th>\n",
              "      <th>DAI_Borrow Volume</th>\n",
              "      <th>DAI_Supply Volume</th>\n",
              "      <th>USDC_Borrowing Rate</th>\n",
              "      <th>USDC_Deposit Rate</th>\n",
              "      <th>USDC_Borrow Volume</th>\n",
              "      <th>USDC_Supply Volume</th>\n",
              "      <th>USDT_Borrowing Rate</th>\n",
              "      <th>USDT_Deposit Rate</th>\n",
              "      <th>USDT_Borrow Volume</th>\n",
              "      <th>USDT_Supply Volume</th>\n",
              "      <th>ETH_Borrowing Rate</th>\n",
              "      <th>ETH_Deposit Rate</th>\n",
              "      <th>ETH_Borrow Volume</th>\n",
              "      <th>ETH_Supply Volume</th>\n",
              "      <th>Date</th>\n",
              "      <th>Timediff</th>\n",
              "    </tr>\n",
              "  </thead>\n",
              "  <tbody>\n",
              "    <tr>\n",
              "      <th>41</th>\n",
              "      <td>1609545600</td>\n",
              "      <td>0.063523</td>\n",
              "      <td>0.043852</td>\n",
              "      <td>1.067021e+09</td>\n",
              "      <td>6.241300e+10</td>\n",
              "      <td>0.067594</td>\n",
              "      <td>0.051075</td>\n",
              "      <td>7.309947e+08</td>\n",
              "      <td>4.158213e+10</td>\n",
              "      <td>0.032718</td>\n",
              "      <td>0.019360</td>\n",
              "      <td>6.877474e+07</td>\n",
              "      <td>5.220557e+09</td>\n",
              "      <td>0.022948</td>\n",
              "      <td>0.000488</td>\n",
              "      <td>30524.825154</td>\n",
              "      <td>5.665241e+07</td>\n",
              "      <td>2021-01-02 00:00:00</td>\n",
              "      <td>3600.0</td>\n",
              "    </tr>\n",
              "    <tr>\n",
              "      <th>46</th>\n",
              "      <td>1609556400</td>\n",
              "      <td>0.063880</td>\n",
              "      <td>0.044113</td>\n",
              "      <td>1.063785e+09</td>\n",
              "      <td>6.219935e+10</td>\n",
              "      <td>0.067746</td>\n",
              "      <td>0.051197</td>\n",
              "      <td>7.315060e+08</td>\n",
              "      <td>4.160380e+10</td>\n",
              "      <td>0.032860</td>\n",
              "      <td>0.019528</td>\n",
              "      <td>6.904040e+07</td>\n",
              "      <td>5.218337e+09</td>\n",
              "      <td>0.022956</td>\n",
              "      <td>0.000490</td>\n",
              "      <td>30588.842346</td>\n",
              "      <td>5.661911e+07</td>\n",
              "      <td>2021-01-02 03:00:00</td>\n",
              "      <td>3600.0</td>\n",
              "    </tr>\n",
              "    <tr>\n",
              "      <th>77</th>\n",
              "      <td>1609614000</td>\n",
              "      <td>0.066365</td>\n",
              "      <td>0.045935</td>\n",
              "      <td>1.067251e+09</td>\n",
              "      <td>6.223375e+10</td>\n",
              "      <td>0.070455</td>\n",
              "      <td>0.053382</td>\n",
              "      <td>7.332425e+08</td>\n",
              "      <td>4.158076e+10</td>\n",
              "      <td>0.035466</td>\n",
              "      <td>0.022730</td>\n",
              "      <td>7.319423e+07</td>\n",
              "      <td>5.131985e+09</td>\n",
              "      <td>0.023061</td>\n",
              "      <td>0.000511</td>\n",
              "      <td>31838.275651</td>\n",
              "      <td>5.676279e+07</td>\n",
              "      <td>2021-01-02 19:00:00</td>\n",
              "      <td>3600.0</td>\n",
              "    </tr>\n",
              "    <tr>\n",
              "      <th>89</th>\n",
              "      <td>1609637400</td>\n",
              "      <td>0.066775</td>\n",
              "      <td>0.046236</td>\n",
              "      <td>1.069207e+09</td>\n",
              "      <td>6.231882e+10</td>\n",
              "      <td>0.075910</td>\n",
              "      <td>0.057814</td>\n",
              "      <td>7.357357e+08</td>\n",
              "      <td>4.148591e+10</td>\n",
              "      <td>0.037753</td>\n",
              "      <td>0.025734</td>\n",
              "      <td>7.749330e+07</td>\n",
              "      <td>5.109811e+09</td>\n",
              "      <td>0.023061</td>\n",
              "      <td>0.000511</td>\n",
              "      <td>31854.357432</td>\n",
              "      <td>5.679561e+07</td>\n",
              "      <td>2021-01-03 01:30:00</td>\n",
              "      <td>3600.0</td>\n",
              "    </tr>\n",
              "    <tr>\n",
              "      <th>135</th>\n",
              "      <td>1609722000</td>\n",
              "      <td>0.089589</td>\n",
              "      <td>0.063337</td>\n",
              "      <td>9.908163e+08</td>\n",
              "      <td>5.640809e+10</td>\n",
              "      <td>0.071830</td>\n",
              "      <td>0.054495</td>\n",
              "      <td>7.525530e+08</td>\n",
              "      <td>4.260561e+10</td>\n",
              "      <td>0.074524</td>\n",
              "      <td>0.056684</td>\n",
              "      <td>7.291709e+07</td>\n",
              "      <td>4.296899e+09</td>\n",
              "      <td>0.022545</td>\n",
              "      <td>0.000410</td>\n",
              "      <td>25964.070871</td>\n",
              "      <td>5.646787e+07</td>\n",
              "      <td>2021-01-04 01:00:00</td>\n",
              "      <td>3600.0</td>\n",
              "    </tr>\n",
              "    <tr>\n",
              "      <th>...</th>\n",
              "      <td>...</td>\n",
              "      <td>...</td>\n",
              "      <td>...</td>\n",
              "      <td>...</td>\n",
              "      <td>...</td>\n",
              "      <td>...</td>\n",
              "      <td>...</td>\n",
              "      <td>...</td>\n",
              "      <td>...</td>\n",
              "      <td>...</td>\n",
              "      <td>...</td>\n",
              "      <td>...</td>\n",
              "      <td>...</td>\n",
              "      <td>...</td>\n",
              "      <td>...</td>\n",
              "      <td>...</td>\n",
              "      <td>...</td>\n",
              "      <td>...</td>\n",
              "      <td>...</td>\n",
              "    </tr>\n",
              "    <tr>\n",
              "      <th>13754</th>\n",
              "      <td>1639479600</td>\n",
              "      <td>0.046662</td>\n",
              "      <td>0.031487</td>\n",
              "      <td>3.672638e+09</td>\n",
              "      <td>2.110130e+11</td>\n",
              "      <td>0.040323</td>\n",
              "      <td>0.025672</td>\n",
              "      <td>2.588005e+09</td>\n",
              "      <td>1.666436e+11</td>\n",
              "      <td>0.039164</td>\n",
              "      <td>0.024227</td>\n",
              "      <td>6.064673e+08</td>\n",
              "      <td>4.165026e+10</td>\n",
              "      <td>0.027217</td>\n",
              "      <td>0.000762</td>\n",
              "      <td>53139.826663</td>\n",
              "      <td>7.473801e+07</td>\n",
              "      <td>2021-12-14 11:00:00</td>\n",
              "      <td>3600.0</td>\n",
              "    </tr>\n",
              "    <tr>\n",
              "      <th>13761</th>\n",
              "      <td>1639494000</td>\n",
              "      <td>0.046639</td>\n",
              "      <td>0.031456</td>\n",
              "      <td>3.669928e+09</td>\n",
              "      <td>2.109559e+11</td>\n",
              "      <td>0.040312</td>\n",
              "      <td>0.025658</td>\n",
              "      <td>2.588043e+09</td>\n",
              "      <td>1.666908e+11</td>\n",
              "      <td>0.039243</td>\n",
              "      <td>0.024325</td>\n",
              "      <td>6.072526e+08</td>\n",
              "      <td>4.162081e+10</td>\n",
              "      <td>0.027233</td>\n",
              "      <td>0.000765</td>\n",
              "      <td>53162.061654</td>\n",
              "      <td>7.448759e+07</td>\n",
              "      <td>2021-12-14 15:00:00</td>\n",
              "      <td>3600.0</td>\n",
              "    </tr>\n",
              "    <tr>\n",
              "      <th>13762</th>\n",
              "      <td>1639497600</td>\n",
              "      <td>0.046638</td>\n",
              "      <td>0.031456</td>\n",
              "      <td>3.669944e+09</td>\n",
              "      <td>2.109575e+11</td>\n",
              "      <td>0.040311</td>\n",
              "      <td>0.025657</td>\n",
              "      <td>2.587365e+09</td>\n",
              "      <td>1.666495e+11</td>\n",
              "      <td>0.039302</td>\n",
              "      <td>0.024397</td>\n",
              "      <td>6.075364e+08</td>\n",
              "      <td>4.157885e+10</td>\n",
              "      <td>0.027234</td>\n",
              "      <td>0.000765</td>\n",
              "      <td>53173.698145</td>\n",
              "      <td>7.448781e+07</td>\n",
              "      <td>2021-12-14 16:00:00</td>\n",
              "      <td>3600.0</td>\n",
              "    </tr>\n",
              "    <tr>\n",
              "      <th>13763</th>\n",
              "      <td>1639501200</td>\n",
              "      <td>0.046638</td>\n",
              "      <td>0.031456</td>\n",
              "      <td>3.669965e+09</td>\n",
              "      <td>2.109580e+11</td>\n",
              "      <td>0.040320</td>\n",
              "      <td>0.025668</td>\n",
              "      <td>2.585915e+09</td>\n",
              "      <td>1.665187e+11</td>\n",
              "      <td>0.039309</td>\n",
              "      <td>0.024405</td>\n",
              "      <td>6.076393e+08</td>\n",
              "      <td>4.157875e+10</td>\n",
              "      <td>0.027240</td>\n",
              "      <td>0.000767</td>\n",
              "      <td>53163.371786</td>\n",
              "      <td>7.435258e+07</td>\n",
              "      <td>2021-12-14 17:00:00</td>\n",
              "      <td>3600.0</td>\n",
              "    </tr>\n",
              "    <tr>\n",
              "      <th>13765</th>\n",
              "      <td>1639506600</td>\n",
              "      <td>0.046691</td>\n",
              "      <td>0.031337</td>\n",
              "      <td>3.506399e+09</td>\n",
              "      <td>2.026302e+11</td>\n",
              "      <td>0.040563</td>\n",
              "      <td>0.025976</td>\n",
              "      <td>2.585726e+09</td>\n",
              "      <td>1.655307e+11</td>\n",
              "      <td>0.039305</td>\n",
              "      <td>0.024400</td>\n",
              "      <td>6.075774e+08</td>\n",
              "      <td>4.157862e+10</td>\n",
              "      <td>0.027247</td>\n",
              "      <td>0.000768</td>\n",
              "      <td>53163.653493</td>\n",
              "      <td>7.422878e+07</td>\n",
              "      <td>2021-12-14 18:30:00</td>\n",
              "      <td>NaN</td>\n",
              "    </tr>\n",
              "  </tbody>\n",
              "</table>\n",
              "<p>1802 rows × 19 columns</p>\n",
              "</div>\n",
              "      <button class=\"colab-df-convert\" onclick=\"convertToInteractive('df-a1c71980-cd2c-435f-9760-4661fb9888c4')\"\n",
              "              title=\"Convert this dataframe to an interactive table.\"\n",
              "              style=\"display:none;\">\n",
              "        \n",
              "  <svg xmlns=\"http://www.w3.org/2000/svg\" height=\"24px\"viewBox=\"0 0 24 24\"\n",
              "       width=\"24px\">\n",
              "    <path d=\"M0 0h24v24H0V0z\" fill=\"none\"/>\n",
              "    <path d=\"M18.56 5.44l.94 2.06.94-2.06 2.06-.94-2.06-.94-.94-2.06-.94 2.06-2.06.94zm-11 1L8.5 8.5l.94-2.06 2.06-.94-2.06-.94L8.5 2.5l-.94 2.06-2.06.94zm10 10l.94 2.06.94-2.06 2.06-.94-2.06-.94-.94-2.06-.94 2.06-2.06.94z\"/><path d=\"M17.41 7.96l-1.37-1.37c-.4-.4-.92-.59-1.43-.59-.52 0-1.04.2-1.43.59L10.3 9.45l-7.72 7.72c-.78.78-.78 2.05 0 2.83L4 21.41c.39.39.9.59 1.41.59.51 0 1.02-.2 1.41-.59l7.78-7.78 2.81-2.81c.8-.78.8-2.07 0-2.86zM5.41 20L4 18.59l7.72-7.72 1.47 1.35L5.41 20z\"/>\n",
              "  </svg>\n",
              "      </button>\n",
              "      \n",
              "  <style>\n",
              "    .colab-df-container {\n",
              "      display:flex;\n",
              "      flex-wrap:wrap;\n",
              "      gap: 12px;\n",
              "    }\n",
              "\n",
              "    .colab-df-convert {\n",
              "      background-color: #E8F0FE;\n",
              "      border: none;\n",
              "      border-radius: 50%;\n",
              "      cursor: pointer;\n",
              "      display: none;\n",
              "      fill: #1967D2;\n",
              "      height: 32px;\n",
              "      padding: 0 0 0 0;\n",
              "      width: 32px;\n",
              "    }\n",
              "\n",
              "    .colab-df-convert:hover {\n",
              "      background-color: #E2EBFA;\n",
              "      box-shadow: 0px 1px 2px rgba(60, 64, 67, 0.3), 0px 1px 3px 1px rgba(60, 64, 67, 0.15);\n",
              "      fill: #174EA6;\n",
              "    }\n",
              "\n",
              "    [theme=dark] .colab-df-convert {\n",
              "      background-color: #3B4455;\n",
              "      fill: #D2E3FC;\n",
              "    }\n",
              "\n",
              "    [theme=dark] .colab-df-convert:hover {\n",
              "      background-color: #434B5C;\n",
              "      box-shadow: 0px 1px 3px 1px rgba(0, 0, 0, 0.15);\n",
              "      filter: drop-shadow(0px 1px 2px rgba(0, 0, 0, 0.3));\n",
              "      fill: #FFFFFF;\n",
              "    }\n",
              "  </style>\n",
              "\n",
              "      <script>\n",
              "        const buttonEl =\n",
              "          document.querySelector('#df-a1c71980-cd2c-435f-9760-4661fb9888c4 button.colab-df-convert');\n",
              "        buttonEl.style.display =\n",
              "          google.colab.kernel.accessAllowed ? 'block' : 'none';\n",
              "\n",
              "        async function convertToInteractive(key) {\n",
              "          const element = document.querySelector('#df-a1c71980-cd2c-435f-9760-4661fb9888c4');\n",
              "          const dataTable =\n",
              "            await google.colab.kernel.invokeFunction('convertToInteractive',\n",
              "                                                     [key], {});\n",
              "          if (!dataTable) return;\n",
              "\n",
              "          const docLinkHtml = 'Like what you see? Visit the ' +\n",
              "            '<a target=\"_blank\" href=https://colab.research.google.com/notebooks/data_table.ipynb>data table notebook</a>'\n",
              "            + ' to learn more about interactive tables.';\n",
              "          element.innerHTML = '';\n",
              "          dataTable['output_type'] = 'display_data';\n",
              "          await google.colab.output.renderOutput(dataTable, element);\n",
              "          const docLink = document.createElement('div');\n",
              "          docLink.innerHTML = docLinkHtml;\n",
              "          element.appendChild(docLink);\n",
              "        }\n",
              "      </script>\n",
              "    </div>\n",
              "  </div>\n",
              "  "
            ],
            "text/plain": [
              "        Timestamp  DAI_Borrowing Rate  ...                Date  Timediff\n",
              "41     1609545600            0.063523  ... 2021-01-02 00:00:00    3600.0\n",
              "46     1609556400            0.063880  ... 2021-01-02 03:00:00    3600.0\n",
              "77     1609614000            0.066365  ... 2021-01-02 19:00:00    3600.0\n",
              "89     1609637400            0.066775  ... 2021-01-03 01:30:00    3600.0\n",
              "135    1609722000            0.089589  ... 2021-01-04 01:00:00    3600.0\n",
              "...           ...                 ...  ...                 ...       ...\n",
              "13754  1639479600            0.046662  ... 2021-12-14 11:00:00    3600.0\n",
              "13761  1639494000            0.046639  ... 2021-12-14 15:00:00    3600.0\n",
              "13762  1639497600            0.046638  ... 2021-12-14 16:00:00    3600.0\n",
              "13763  1639501200            0.046638  ... 2021-12-14 17:00:00    3600.0\n",
              "13765  1639506600            0.046691  ... 2021-12-14 18:30:00       NaN\n",
              "\n",
              "[1802 rows x 19 columns]"
            ]
          },
          "metadata": {},
          "execution_count": 15
        }
      ],
      "source": [
        "df1[df1['Timediff'] != 1800.0]"
      ]
    },
    {
      "cell_type": "markdown",
      "metadata": {
        "id": "oS6_eedk26y-"
      },
      "source": [
        "There might be data (timepoint) missing. Hence, cant use `df1.shift(-3)` to shift data"
      ]
    },
    {
      "cell_type": "code",
      "execution_count": 16,
      "metadata": {
        "colab": {
          "base_uri": "https://localhost:8080/",
          "height": 873
        },
        "id": "pbU5hDayqj13",
        "outputId": "cd5a6987-dcb6-43f5-8720-19ac457826c2"
      },
      "outputs": [
        {
          "output_type": "display_data",
          "data": {
            "image/png": "[encoded data removed]",
            "text/plain": [
              "<Figure size 864x864 with 2 Axes>"
            ]
          },
          "metadata": {
            "needs_background": "light"
          }
        }
      ],
      "source": [
        "plt.figure(figsize=(12,12))\n",
        "sns.heatmap(df1.drop('Timestamp', axis=1).corr(), annot=True, cmap=\"YlGnBu\")\n",
        "plt.tight_layout()"
      ]
    },
    {
      "cell_type": "markdown",
      "metadata": {
        "id": "enmRSJ5MtLDl"
      },
      "source": [
        "Some interesting observation, dai borrow rate is highly coorelated with usdc/usdt borrow rate but not eth, similarly for usdc and usdt"
      ]
    },
    {
      "cell_type": "markdown",
      "metadata": {
        "id": "feD8Cay2tmWt"
      },
      "source": [
        "# Problem scoping\n",
        "**Scope 1**\n",
        "Can we predict a token's borrow rate at timepoint `t+n_windowns` in future given DAI, USDC, USDT, ETH  - borrow rate, deposit rate, borrow volume and supply volume at `t-0`? \n",
        "\n",
        "**Scope 2**\n",
        "Can we predict a token's borrow rate at timepoint `t+n_windowns` in future given DAI, USDC, USDT, ETH  - borrow rate, deposit rate, borrow volume and supply volume at `n_timepoints` example at t-3, t-2, t-1, t-0? "
      ]
    },
    {
      "cell_type": "code",
      "execution_count": 17,
      "metadata": {
        "id": "6Fly0l3erDlE"
      },
      "outputs": [],
      "source": [
        "# df1['DAI_Target'] = df1['DAI_Borrowing Rate'].shift(-3) cannot use this??"
      ]
    },
    {
      "cell_type": "code",
      "execution_count": 18,
      "metadata": {
        "id": "wCKNqQy_6r-1"
      },
      "outputs": [],
      "source": [
        "target_token = 'DAI'\n",
        "target_column = f'{target_token}_Borrowing Rate'\n",
        "target_window = 3\n",
        "def get_target(row):\n",
        "\n",
        "    try:\n",
        "        target = df1[df1['Timestamp'] == row['Timestamp'] + 1800.0*target_window][target_column].values[0]\n",
        "    except:\n",
        "        target = np.NaN\n",
        "    \n",
        "    return target"
      ]
    },
    {
      "cell_type": "code",
      "execution_count": 19,
      "metadata": {
        "id": "K9bkqccI67wL"
      },
      "outputs": [],
      "source": [
        "df1[f'{target_token}_Target'] =  df1.apply(lambda x: get_target(x), axis=1)"
      ]
    },
    {
      "cell_type": "code",
      "execution_count": 20,
      "metadata": {
        "id": "sojkbkYZuYF4"
      },
      "outputs": [],
      "source": [
        "df1 = df1.dropna()\n",
        "df1 = df1.drop(['Timestamp', 'Date', 'Timediff'], axis=1)"
      ]
    },
    {
      "cell_type": "code",
      "execution_count": 21,
      "metadata": {
        "id": "umDtK6-m0Sov"
      },
      "outputs": [],
      "source": [
        "#train_test_split\n",
        "df1['Train'] = None\n",
        "train_index = int(len(df1)*0.8)\n",
        "df1.loc[:train_index, 'Train'] = True\n",
        "df1.loc[train_index:, 'Train'] = False"
      ]
    },
    {
      "cell_type": "code",
      "execution_count": 22,
      "metadata": {
        "colab": {
          "base_uri": "https://localhost:8080/",
          "height": 504
        },
        "id": "r6YTYbGG88gR",
        "outputId": "ac90f60b-7556-43b8-d276-ca87a88db211"
      },
      "outputs": [
        {
          "output_type": "execute_result",
          "data": {
            "text/html": [
              "\n",
              "  <div id=\"df-e0e31f0d-20ad-43aa-80e5-57cd371d5ca6\">\n",
              "    <div class=\"colab-df-container\">\n",
              "      <div>\n",
              "<style scoped>\n",
              "    .dataframe tbody tr th:only-of-type {\n",
              "        vertical-align: middle;\n",
              "    }\n",
              "\n",
              "    .dataframe tbody tr th {\n",
              "        vertical-align: top;\n",
              "    }\n",
              "\n",
              "    .dataframe thead th {\n",
              "        text-align: right;\n",
              "    }\n",
              "</style>\n",
              "<table border=\"1\" class=\"dataframe\">\n",
              "  <thead>\n",
              "    <tr style=\"text-align: right;\">\n",
              "      <th></th>\n",
              "      <th>DAI_Borrowing Rate</th>\n",
              "      <th>DAI_Deposit Rate</th>\n",
              "      <th>DAI_Borrow Volume</th>\n",
              "      <th>DAI_Supply Volume</th>\n",
              "      <th>USDC_Borrowing Rate</th>\n",
              "      <th>USDC_Deposit Rate</th>\n",
              "      <th>USDC_Borrow Volume</th>\n",
              "      <th>USDC_Supply Volume</th>\n",
              "      <th>USDT_Borrowing Rate</th>\n",
              "      <th>USDT_Deposit Rate</th>\n",
              "      <th>USDT_Borrow Volume</th>\n",
              "      <th>USDT_Supply Volume</th>\n",
              "      <th>ETH_Borrowing Rate</th>\n",
              "      <th>ETH_Deposit Rate</th>\n",
              "      <th>ETH_Borrow Volume</th>\n",
              "      <th>ETH_Supply Volume</th>\n",
              "      <th>DAI_Target</th>\n",
              "      <th>Train</th>\n",
              "    </tr>\n",
              "  </thead>\n",
              "  <tbody>\n",
              "    <tr>\n",
              "      <th>0</th>\n",
              "      <td>0.073195</td>\n",
              "      <td>0.050982</td>\n",
              "      <td>1.069964e+09</td>\n",
              "      <td>6.196481e+10</td>\n",
              "      <td>0.087046</td>\n",
              "      <td>0.066993</td>\n",
              "      <td>7.285430e+08</td>\n",
              "      <td>4.063042e+10</td>\n",
              "      <td>0.099588</td>\n",
              "      <td>0.077548</td>\n",
              "      <td>6.430536e+07</td>\n",
              "      <td>3.696225e+09</td>\n",
              "      <td>0.022952</td>\n",
              "      <td>0.000489</td>\n",
              "      <td>30553.654354</td>\n",
              "      <td>5.663257e+07</td>\n",
              "      <td>0.073436</td>\n",
              "      <td>True</td>\n",
              "    </tr>\n",
              "    <tr>\n",
              "      <th>1</th>\n",
              "      <td>0.073101</td>\n",
              "      <td>0.050912</td>\n",
              "      <td>1.069961e+09</td>\n",
              "      <td>6.197050e+10</td>\n",
              "      <td>0.087053</td>\n",
              "      <td>0.066998</td>\n",
              "      <td>7.285469e+08</td>\n",
              "      <td>4.063019e+10</td>\n",
              "      <td>0.094890</td>\n",
              "      <td>0.073569</td>\n",
              "      <td>6.407877e+07</td>\n",
              "      <td>3.700299e+09</td>\n",
              "      <td>0.022952</td>\n",
              "      <td>0.000489</td>\n",
              "      <td>30553.703955</td>\n",
              "      <td>5.663353e+07</td>\n",
              "      <td>0.067829</td>\n",
              "      <td>True</td>\n",
              "    </tr>\n",
              "    <tr>\n",
              "      <th>2</th>\n",
              "      <td>0.073061</td>\n",
              "      <td>0.050882</td>\n",
              "      <td>1.069972e+09</td>\n",
              "      <td>6.197354e+10</td>\n",
              "      <td>0.087058</td>\n",
              "      <td>0.067003</td>\n",
              "      <td>7.285528e+08</td>\n",
              "      <td>4.063019e+10</td>\n",
              "      <td>0.085767</td>\n",
              "      <td>0.065933</td>\n",
              "      <td>6.399418e+07</td>\n",
              "      <td>3.729213e+09</td>\n",
              "      <td>0.022951</td>\n",
              "      <td>0.000489</td>\n",
              "      <td>30553.830472</td>\n",
              "      <td>5.664534e+07</td>\n",
              "      <td>0.066704</td>\n",
              "      <td>True</td>\n",
              "    </tr>\n",
              "    <tr>\n",
              "      <th>3</th>\n",
              "      <td>0.073436</td>\n",
              "      <td>0.051161</td>\n",
              "      <td>1.070496e+09</td>\n",
              "      <td>6.197966e+10</td>\n",
              "      <td>0.086921</td>\n",
              "      <td>0.066889</td>\n",
              "      <td>7.285713e+08</td>\n",
              "      <td>4.063660e+10</td>\n",
              "      <td>0.072946</td>\n",
              "      <td>0.055500</td>\n",
              "      <td>6.317162e+07</td>\n",
              "      <td>3.730028e+09</td>\n",
              "      <td>0.022952</td>\n",
              "      <td>0.000489</td>\n",
              "      <td>30553.786270</td>\n",
              "      <td>5.663860e+07</td>\n",
              "      <td>0.066708</td>\n",
              "      <td>True</td>\n",
              "    </tr>\n",
              "    <tr>\n",
              "      <th>4</th>\n",
              "      <td>0.067829</td>\n",
              "      <td>0.047015</td>\n",
              "      <td>1.070566e+09</td>\n",
              "      <td>6.234580e+10</td>\n",
              "      <td>0.086312</td>\n",
              "      <td>0.066383</td>\n",
              "      <td>7.285755e+08</td>\n",
              "      <td>4.066162e+10</td>\n",
              "      <td>0.057764</td>\n",
              "      <td>0.043239</td>\n",
              "      <td>6.256095e+07</td>\n",
              "      <td>3.752927e+09</td>\n",
              "      <td>0.022952</td>\n",
              "      <td>0.000489</td>\n",
              "      <td>30553.841412</td>\n",
              "      <td>5.663440e+07</td>\n",
              "      <td>0.066790</td>\n",
              "      <td>True</td>\n",
              "    </tr>\n",
              "    <tr>\n",
              "      <th>...</th>\n",
              "      <td>...</td>\n",
              "      <td>...</td>\n",
              "      <td>...</td>\n",
              "      <td>...</td>\n",
              "      <td>...</td>\n",
              "      <td>...</td>\n",
              "      <td>...</td>\n",
              "      <td>...</td>\n",
              "      <td>...</td>\n",
              "      <td>...</td>\n",
              "      <td>...</td>\n",
              "      <td>...</td>\n",
              "      <td>...</td>\n",
              "      <td>...</td>\n",
              "      <td>...</td>\n",
              "      <td>...</td>\n",
              "      <td>...</td>\n",
              "      <td>...</td>\n",
              "    </tr>\n",
              "    <tr>\n",
              "      <th>13756</th>\n",
              "      <td>0.046650</td>\n",
              "      <td>0.031471</td>\n",
              "      <td>3.669882e+09</td>\n",
              "      <td>2.109054e+11</td>\n",
              "      <td>0.040323</td>\n",
              "      <td>0.025672</td>\n",
              "      <td>2.588018e+09</td>\n",
              "      <td>1.666458e+11</td>\n",
              "      <td>0.039179</td>\n",
              "      <td>0.024246</td>\n",
              "      <td>6.062863e+08</td>\n",
              "      <td>4.162129e+10</td>\n",
              "      <td>0.027231</td>\n",
              "      <td>0.000765</td>\n",
              "      <td>53139.698365</td>\n",
              "      <td>7.448813e+07</td>\n",
              "      <td>0.046637</td>\n",
              "      <td>False</td>\n",
              "    </tr>\n",
              "    <tr>\n",
              "      <th>13757</th>\n",
              "      <td>0.046646</td>\n",
              "      <td>0.031465</td>\n",
              "      <td>3.669895e+09</td>\n",
              "      <td>2.109253e+11</td>\n",
              "      <td>0.040317</td>\n",
              "      <td>0.025664</td>\n",
              "      <td>2.587664e+09</td>\n",
              "      <td>1.666482e+11</td>\n",
              "      <td>0.039127</td>\n",
              "      <td>0.024181</td>\n",
              "      <td>6.054853e+08</td>\n",
              "      <td>4.162108e+10</td>\n",
              "      <td>0.027231</td>\n",
              "      <td>0.000765</td>\n",
              "      <td>53139.770109</td>\n",
              "      <td>7.448817e+07</td>\n",
              "      <td>0.046636</td>\n",
              "      <td>False</td>\n",
              "    </tr>\n",
              "    <tr>\n",
              "      <th>13758</th>\n",
              "      <td>0.046644</td>\n",
              "      <td>0.031464</td>\n",
              "      <td>3.669904e+09</td>\n",
              "      <td>2.109312e+11</td>\n",
              "      <td>0.040301</td>\n",
              "      <td>0.025643</td>\n",
              "      <td>2.587190e+09</td>\n",
              "      <td>1.666826e+11</td>\n",
              "      <td>0.039243</td>\n",
              "      <td>0.024324</td>\n",
              "      <td>6.072485e+08</td>\n",
              "      <td>4.162099e+10</td>\n",
              "      <td>0.027232</td>\n",
              "      <td>0.000765</td>\n",
              "      <td>53143.491452</td>\n",
              "      <td>7.447149e+07</td>\n",
              "      <td>0.046639</td>\n",
              "      <td>False</td>\n",
              "    </tr>\n",
              "    <tr>\n",
              "      <th>13760</th>\n",
              "      <td>0.046636</td>\n",
              "      <td>0.031453</td>\n",
              "      <td>3.669920e+09</td>\n",
              "      <td>2.109667e+11</td>\n",
              "      <td>0.040307</td>\n",
              "      <td>0.025651</td>\n",
              "      <td>2.587711e+09</td>\n",
              "      <td>1.666908e+11</td>\n",
              "      <td>0.039234</td>\n",
              "      <td>0.024314</td>\n",
              "      <td>6.072520e+08</td>\n",
              "      <td>4.162990e+10</td>\n",
              "      <td>0.027234</td>\n",
              "      <td>0.000765</td>\n",
              "      <td>53161.994342</td>\n",
              "      <td>7.447244e+07</td>\n",
              "      <td>0.046638</td>\n",
              "      <td>False</td>\n",
              "    </tr>\n",
              "    <tr>\n",
              "      <th>13763</th>\n",
              "      <td>0.046638</td>\n",
              "      <td>0.031456</td>\n",
              "      <td>3.669965e+09</td>\n",
              "      <td>2.109580e+11</td>\n",
              "      <td>0.040320</td>\n",
              "      <td>0.025668</td>\n",
              "      <td>2.585915e+09</td>\n",
              "      <td>1.665187e+11</td>\n",
              "      <td>0.039309</td>\n",
              "      <td>0.024405</td>\n",
              "      <td>6.076393e+08</td>\n",
              "      <td>4.157875e+10</td>\n",
              "      <td>0.027240</td>\n",
              "      <td>0.000767</td>\n",
              "      <td>53163.371786</td>\n",
              "      <td>7.435258e+07</td>\n",
              "      <td>0.046691</td>\n",
              "      <td>False</td>\n",
              "    </tr>\n",
              "  </tbody>\n",
              "</table>\n",
              "<p>11918 rows × 18 columns</p>\n",
              "</div>\n",
              "      <button class=\"colab-df-convert\" onclick=\"convertToInteractive('df-e0e31f0d-20ad-43aa-80e5-57cd371d5ca6')\"\n",
              "              title=\"Convert this dataframe to an interactive table.\"\n",
              "              style=\"display:none;\">\n",
              "        \n",
              "  <svg xmlns=\"http://www.w3.org/2000/svg\" height=\"24px\"viewBox=\"0 0 24 24\"\n",
              "       width=\"24px\">\n",
              "    <path d=\"M0 0h24v24H0V0z\" fill=\"none\"/>\n",
              "    <path d=\"M18.56 5.44l.94 2.06.94-2.06 2.06-.94-2.06-.94-.94-2.06-.94 2.06-2.06.94zm-11 1L8.5 8.5l.94-2.06 2.06-.94-2.06-.94L8.5 2.5l-.94 2.06-2.06.94zm10 10l.94 2.06.94-2.06 2.06-.94-2.06-.94-.94-2.06-.94 2.06-2.06.94z\"/><path d=\"M17.41 7.96l-1.37-1.37c-.4-.4-.92-.59-1.43-.59-.52 0-1.04.2-1.43.59L10.3 9.45l-7.72 7.72c-.78.78-.78 2.05 0 2.83L4 21.41c.39.39.9.59 1.41.59.51 0 1.02-.2 1.41-.59l7.78-7.78 2.81-2.81c.8-.78.8-2.07 0-2.86zM5.41 20L4 18.59l7.72-7.72 1.47 1.35L5.41 20z\"/>\n",
              "  </svg>\n",
              "      </button>\n",
              "      \n",
              "  <style>\n",
              "    .colab-df-container {\n",
              "      display:flex;\n",
              "      flex-wrap:wrap;\n",
              "      gap: 12px;\n",
              "    }\n",
              "\n",
              "    .colab-df-convert {\n",
              "      background-color: #E8F0FE;\n",
              "      border: none;\n",
              "      border-radius: 50%;\n",
              "      cursor: pointer;\n",
              "      display: none;\n",
              "      fill: #1967D2;\n",
              "      height: 32px;\n",
              "      padding: 0 0 0 0;\n",
              "      width: 32px;\n",
              "    }\n",
              "\n",
              "    .colab-df-convert:hover {\n",
              "      background-color: #E2EBFA;\n",
              "      box-shadow: 0px 1px 2px rgba(60, 64, 67, 0.3), 0px 1px 3px 1px rgba(60, 64, 67, 0.15);\n",
              "      fill: #174EA6;\n",
              "    }\n",
              "\n",
              "    [theme=dark] .colab-df-convert {\n",
              "      background-color: #3B4455;\n",
              "      fill: #D2E3FC;\n",
              "    }\n",
              "\n",
              "    [theme=dark] .colab-df-convert:hover {\n",
              "      background-color: #434B5C;\n",
              "      box-shadow: 0px 1px 3px 1px rgba(0, 0, 0, 0.15);\n",
              "      filter: drop-shadow(0px 1px 2px rgba(0, 0, 0, 0.3));\n",
              "      fill: #FFFFFF;\n",
              "    }\n",
              "  </style>\n",
              "\n",
              "      <script>\n",
              "        const buttonEl =\n",
              "          document.querySelector('#df-e0e31f0d-20ad-43aa-80e5-57cd371d5ca6 button.colab-df-convert');\n",
              "        buttonEl.style.display =\n",
              "          google.colab.kernel.accessAllowed ? 'block' : 'none';\n",
              "\n",
              "        async function convertToInteractive(key) {\n",
              "          const element = document.querySelector('#df-e0e31f0d-20ad-43aa-80e5-57cd371d5ca6');\n",
              "          const dataTable =\n",
              "            await google.colab.kernel.invokeFunction('convertToInteractive',\n",
              "                                                     [key], {});\n",
              "          if (!dataTable) return;\n",
              "\n",
              "          const docLinkHtml = 'Like what you see? Visit the ' +\n",
              "            '<a target=\"_blank\" href=https://colab.research.google.com/notebooks/data_table.ipynb>data table notebook</a>'\n",
              "            + ' to learn more about interactive tables.';\n",
              "          element.innerHTML = '';\n",
              "          dataTable['output_type'] = 'display_data';\n",
              "          await google.colab.output.renderOutput(dataTable, element);\n",
              "          const docLink = document.createElement('div');\n",
              "          docLink.innerHTML = docLinkHtml;\n",
              "          element.appendChild(docLink);\n",
              "        }\n",
              "      </script>\n",
              "    </div>\n",
              "  </div>\n",
              "  "
            ],
            "text/plain": [
              "       DAI_Borrowing Rate  DAI_Deposit Rate  ...  DAI_Target  Train\n",
              "0                0.073195          0.050982  ...    0.073436   True\n",
              "1                0.073101          0.050912  ...    0.067829   True\n",
              "2                0.073061          0.050882  ...    0.066704   True\n",
              "3                0.073436          0.051161  ...    0.066708   True\n",
              "4                0.067829          0.047015  ...    0.066790   True\n",
              "...                   ...               ...  ...         ...    ...\n",
              "13756            0.046650          0.031471  ...    0.046637  False\n",
              "13757            0.046646          0.031465  ...    0.046636  False\n",
              "13758            0.046644          0.031464  ...    0.046639  False\n",
              "13760            0.046636          0.031453  ...    0.046638  False\n",
              "13763            0.046638          0.031456  ...    0.046691  False\n",
              "\n",
              "[11918 rows x 18 columns]"
            ]
          },
          "metadata": {},
          "execution_count": 22
        }
      ],
      "source": [
        "df1"
      ]
    },
    {
      "cell_type": "markdown",
      "metadata": {
        "id": "Q8ccLgrpRJq9"
      },
      "source": [
        "# Scope 1 "
      ]
    },
    {
      "cell_type": "markdown",
      "metadata": {
        "id": "FJd8WBUG9jYB"
      },
      "source": [
        "## sklearn's linear regression"
      ]
    },
    {
      "cell_type": "code",
      "execution_count": 23,
      "metadata": {
        "id": "kK7yPPXs9jxg"
      },
      "outputs": [],
      "source": [
        "#Build a simple Linear regression and split train test - from VintageGold\n",
        "\n",
        "from sklearn.linear_model import LinearRegression as LR\n",
        "from sklearn.preprocessing import MinMaxScaler\n",
        "from sklearn.metrics import r2_score"
      ]
    },
    {
      "cell_type": "code",
      "execution_count": 24,
      "metadata": {
        "id": "LZRzkSjoEqhR"
      },
      "outputs": [],
      "source": [
        "train_X = df1[df1['Train']==True].drop(['Train', f'{target_token}_Target'], axis=1).values\n",
        "train_y = df1[df1['Train']==True][f'{target_token}_Target'].values\n",
        "test_X = df1[df1['Train']!=True].drop(['Train', f'{target_token}_Target'], axis=1).values\n",
        "test_y = df1[df1['Train']!=True][f'{target_token}_Target'].values"
      ]
    },
    {
      "cell_type": "code",
      "execution_count": 25,
      "metadata": {
        "id": "otLTaPlSFtWQ"
      },
      "outputs": [],
      "source": [
        "scaler = MinMaxScaler()"
      ]
    },
    {
      "cell_type": "code",
      "execution_count": 26,
      "metadata": {
        "id": "jPzlpmz8Fz2m"
      },
      "outputs": [],
      "source": [
        "train_X = scaler.fit_transform(train_X)\n",
        "test_X = scaler.transform(test_X)\n",
        "#not sure if y should be scaled"
      ]
    },
    {
      "cell_type": "code",
      "execution_count": 27,
      "metadata": {
        "id": "cagkJ1sMF-rj"
      },
      "outputs": [],
      "source": [
        "model = LR()\n",
        "model.fit(train_X,train_y)\n",
        "preds = model.predict(test_X)"
      ]
    },
    {
      "cell_type": "code",
      "execution_count": 28,
      "metadata": {
        "colab": {
          "base_uri": "https://localhost:8080/"
        },
        "id": "g5TrnUmUGS3I",
        "outputId": "3d52fd11-899b-4b39-dba9-7fbc53cc3809"
      },
      "outputs": [
        {
          "output_type": "stream",
          "name": "stdout",
          "text": [
            "LinearRegression : 0.8538437276980357\n"
          ]
        }
      ],
      "source": [
        "print(type(model).__name__,\":\",r2_score(test_y, preds))"
      ]
    },
    {
      "cell_type": "code",
      "execution_count": 29,
      "metadata": {
        "colab": {
          "base_uri": "https://localhost:8080/",
          "height": 423
        },
        "id": "PWBCDY0lHj9n",
        "outputId": "be9b1467-4c7a-464f-9a71-e2b7cf3c8b65"
      },
      "outputs": [
        {
          "output_type": "execute_result",
          "data": {
            "text/html": [
              "\n",
              "  <div id=\"df-53755442-b83b-47b1-8d70-d52a8a3015ec\">\n",
              "    <div class=\"colab-df-container\">\n",
              "      <div>\n",
              "<style scoped>\n",
              "    .dataframe tbody tr th:only-of-type {\n",
              "        vertical-align: middle;\n",
              "    }\n",
              "\n",
              "    .dataframe tbody tr th {\n",
              "        vertical-align: top;\n",
              "    }\n",
              "\n",
              "    .dataframe thead th {\n",
              "        text-align: right;\n",
              "    }\n",
              "</style>\n",
              "<table border=\"1\" class=\"dataframe\">\n",
              "  <thead>\n",
              "    <tr style=\"text-align: right;\">\n",
              "      <th></th>\n",
              "      <th>0</th>\n",
              "      <th>1</th>\n",
              "    </tr>\n",
              "  </thead>\n",
              "  <tbody>\n",
              "    <tr>\n",
              "      <th>0</th>\n",
              "      <td>0.041877</td>\n",
              "      <td>0.041774</td>\n",
              "    </tr>\n",
              "    <tr>\n",
              "      <th>1</th>\n",
              "      <td>0.041875</td>\n",
              "      <td>0.041778</td>\n",
              "    </tr>\n",
              "    <tr>\n",
              "      <th>2</th>\n",
              "      <td>0.041870</td>\n",
              "      <td>0.041780</td>\n",
              "    </tr>\n",
              "    <tr>\n",
              "      <th>3</th>\n",
              "      <td>0.041870</td>\n",
              "      <td>0.041776</td>\n",
              "    </tr>\n",
              "    <tr>\n",
              "      <th>4</th>\n",
              "      <td>0.041898</td>\n",
              "      <td>0.041765</td>\n",
              "    </tr>\n",
              "    <tr>\n",
              "      <th>...</th>\n",
              "      <td>...</td>\n",
              "      <td>...</td>\n",
              "    </tr>\n",
              "    <tr>\n",
              "      <th>2948</th>\n",
              "      <td>0.046637</td>\n",
              "      <td>0.046887</td>\n",
              "    </tr>\n",
              "    <tr>\n",
              "      <th>2949</th>\n",
              "      <td>0.046636</td>\n",
              "      <td>0.046882</td>\n",
              "    </tr>\n",
              "    <tr>\n",
              "      <th>2950</th>\n",
              "      <td>0.046639</td>\n",
              "      <td>0.046885</td>\n",
              "    </tr>\n",
              "    <tr>\n",
              "      <th>2951</th>\n",
              "      <td>0.046638</td>\n",
              "      <td>0.046875</td>\n",
              "    </tr>\n",
              "    <tr>\n",
              "      <th>2952</th>\n",
              "      <td>0.046691</td>\n",
              "      <td>0.046879</td>\n",
              "    </tr>\n",
              "  </tbody>\n",
              "</table>\n",
              "<p>2953 rows × 2 columns</p>\n",
              "</div>\n",
              "      <button class=\"colab-df-convert\" onclick=\"convertToInteractive('df-53755442-b83b-47b1-8d70-d52a8a3015ec')\"\n",
              "              title=\"Convert this dataframe to an interactive table.\"\n",
              "              style=\"display:none;\">\n",
              "        \n",
              "  <svg xmlns=\"http://www.w3.org/2000/svg\" height=\"24px\"viewBox=\"0 0 24 24\"\n",
              "       width=\"24px\">\n",
              "    <path d=\"M0 0h24v24H0V0z\" fill=\"none\"/>\n",
              "    <path d=\"M18.56 5.44l.94 2.06.94-2.06 2.06-.94-2.06-.94-.94-2.06-.94 2.06-2.06.94zm-11 1L8.5 8.5l.94-2.06 2.06-.94-2.06-.94L8.5 2.5l-.94 2.06-2.06.94zm10 10l.94 2.06.94-2.06 2.06-.94-2.06-.94-.94-2.06-.94 2.06-2.06.94z\"/><path d=\"M17.41 7.96l-1.37-1.37c-.4-.4-.92-.59-1.43-.59-.52 0-1.04.2-1.43.59L10.3 9.45l-7.72 7.72c-.78.78-.78 2.05 0 2.83L4 21.41c.39.39.9.59 1.41.59.51 0 1.02-.2 1.41-.59l7.78-7.78 2.81-2.81c.8-.78.8-2.07 0-2.86zM5.41 20L4 18.59l7.72-7.72 1.47 1.35L5.41 20z\"/>\n",
              "  </svg>\n",
              "      </button>\n",
              "      \n",
              "  <style>\n",
              "    .colab-df-container {\n",
              "      display:flex;\n",
              "      flex-wrap:wrap;\n",
              "      gap: 12px;\n",
              "    }\n",
              "\n",
              "    .colab-df-convert {\n",
              "      background-color: #E8F0FE;\n",
              "      border: none;\n",
              "      border-radius: 50%;\n",
              "      cursor: pointer;\n",
              "      display: none;\n",
              "      fill: #1967D2;\n",
              "      height: 32px;\n",
              "      padding: 0 0 0 0;\n",
              "      width: 32px;\n",
              "    }\n",
              "\n",
              "    .colab-df-convert:hover {\n",
              "      background-color: #E2EBFA;\n",
              "      box-shadow: 0px 1px 2px rgba(60, 64, 67, 0.3), 0px 1px 3px 1px rgba(60, 64, 67, 0.15);\n",
              "      fill: #174EA6;\n",
              "    }\n",
              "\n",
              "    [theme=dark] .colab-df-convert {\n",
              "      background-color: #3B4455;\n",
              "      fill: #D2E3FC;\n",
              "    }\n",
              "\n",
              "    [theme=dark] .colab-df-convert:hover {\n",
              "      background-color: #434B5C;\n",
              "      box-shadow: 0px 1px 3px 1px rgba(0, 0, 0, 0.15);\n",
              "      filter: drop-shadow(0px 1px 2px rgba(0, 0, 0, 0.3));\n",
              "      fill: #FFFFFF;\n",
              "    }\n",
              "  </style>\n",
              "\n",
              "      <script>\n",
              "        const buttonEl =\n",
              "          document.querySelector('#df-53755442-b83b-47b1-8d70-d52a8a3015ec button.colab-df-convert');\n",
              "        buttonEl.style.display =\n",
              "          google.colab.kernel.accessAllowed ? 'block' : 'none';\n",
              "\n",
              "        async function convertToInteractive(key) {\n",
              "          const element = document.querySelector('#df-53755442-b83b-47b1-8d70-d52a8a3015ec');\n",
              "          const dataTable =\n",
              "            await google.colab.kernel.invokeFunction('convertToInteractive',\n",
              "                                                     [key], {});\n",
              "          if (!dataTable) return;\n",
              "\n",
              "          const docLinkHtml = 'Like what you see? Visit the ' +\n",
              "            '<a target=\"_blank\" href=https://colab.research.google.com/notebooks/data_table.ipynb>data table notebook</a>'\n",
              "            + ' to learn more about interactive tables.';\n",
              "          element.innerHTML = '';\n",
              "          dataTable['output_type'] = 'display_data';\n",
              "          await google.colab.output.renderOutput(dataTable, element);\n",
              "          const docLink = document.createElement('div');\n",
              "          docLink.innerHTML = docLinkHtml;\n",
              "          element.appendChild(docLink);\n",
              "        }\n",
              "      </script>\n",
              "    </div>\n",
              "  </div>\n",
              "  "
            ],
            "text/plain": [
              "             0         1\n",
              "0     0.041877  0.041774\n",
              "1     0.041875  0.041778\n",
              "2     0.041870  0.041780\n",
              "3     0.041870  0.041776\n",
              "4     0.041898  0.041765\n",
              "...        ...       ...\n",
              "2948  0.046637  0.046887\n",
              "2949  0.046636  0.046882\n",
              "2950  0.046639  0.046885\n",
              "2951  0.046638  0.046875\n",
              "2952  0.046691  0.046879\n",
              "\n",
              "[2953 rows x 2 columns]"
            ]
          },
          "metadata": {},
          "execution_count": 29
        }
      ],
      "source": [
        "pd.DataFrame([test_y, preds]).T"
      ]
    },
    {
      "cell_type": "markdown",
      "metadata": {
        "id": "CB6Z7Eku9c0Y"
      },
      "source": [
        "# Simple Tabular Model Using fastai"
      ]
    },
    {
      "cell_type": "code",
      "execution_count": 30,
      "metadata": {
        "colab": {
          "base_uri": "https://localhost:8080/"
        },
        "id": "4oWcpdRuSbCr",
        "outputId": "28326f6f-01f9-4d07-ee69-ee0c4918736c"
      },
      "outputs": [
        {
          "output_type": "execute_result",
          "data": {
            "text/plain": [
              "Index(['DAI_Borrowing Rate', 'DAI_Deposit Rate', 'DAI_Borrow Volume',\n",
              "       'DAI_Supply Volume', 'USDC_Borrowing Rate', 'USDC_Deposit Rate',\n",
              "       'USDC_Borrow Volume', 'USDC_Supply Volume', 'USDT_Borrowing Rate',\n",
              "       'USDT_Deposit Rate', 'USDT_Borrow Volume', 'USDT_Supply Volume',\n",
              "       'ETH_Borrowing Rate', 'ETH_Deposit Rate', 'ETH_Borrow Volume',\n",
              "       'ETH_Supply Volume', 'DAI_Target', 'Train'],\n",
              "      dtype='object')"
            ]
          },
          "metadata": {},
          "execution_count": 30
        }
      ],
      "source": [
        "df1.columns"
      ]
    },
    {
      "cell_type": "code",
      "execution_count": 31,
      "metadata": {
        "id": "FhWFj3cmVMCD"
      },
      "outputs": [],
      "source": [
        "df1 = df1.reset_index(drop=True)"
      ]
    },
    {
      "cell_type": "code",
      "execution_count": 32,
      "metadata": {
        "id": "Ty4qrAT6UW-D"
      },
      "outputs": [],
      "source": [
        "splits = (list(df1[df1['Train']==True].index), list(df1[df1['Train']==False].index))"
      ]
    },
    {
      "cell_type": "code",
      "execution_count": 33,
      "metadata": {
        "colab": {
          "base_uri": "https://localhost:8080/"
        },
        "id": "A6wTj5wF1BAV",
        "outputId": "d6e5d42c-aa36-44bb-aa23-19f593d8d099"
      },
      "outputs": [
        {
          "output_type": "execute_result",
          "data": {
            "text/plain": [
              "Index(['DAI_Borrowing Rate', 'DAI_Deposit Rate', 'DAI_Borrow Volume',\n",
              "       'DAI_Supply Volume', 'USDC_Borrowing Rate', 'USDC_Deposit Rate',\n",
              "       'USDC_Borrow Volume', 'USDC_Supply Volume', 'USDT_Borrowing Rate',\n",
              "       'USDT_Deposit Rate', 'USDT_Borrow Volume', 'USDT_Supply Volume',\n",
              "       'ETH_Borrowing Rate', 'ETH_Deposit Rate', 'ETH_Borrow Volume',\n",
              "       'ETH_Supply Volume', 'DAI_Target', 'Train'],\n",
              "      dtype='object')"
            ]
          },
          "metadata": {},
          "execution_count": 33
        }
      ],
      "source": [
        "df1.columns"
      ]
    },
    {
      "cell_type": "code",
      "execution_count": 34,
      "metadata": {
        "id": "4FTCgI3q9IKp"
      },
      "outputs": [],
      "source": [
        "cont_names = ['DAI_Borrowing Rate', 'DAI_Deposit Rate', 'DAI_Borrow Volume', 'DAI_Supply Volume', \n",
        "              'USDC_Borrowing Rate', 'USDC_Deposit Rate', 'USDC_Borrow Volume', 'USDC_Supply Volume', \n",
        "              'USDT_Borrowing Rate', 'USDT_Deposit Rate', 'USDT_Borrow Volume', 'USDT_Supply Volume',\n",
        "              'ETH_Borrowing Rate', 'ETH_Deposit Rate', 'ETH_Borrow Volume', 'ETH_Supply Volume']\n",
        "\n",
        "procs = [Categorify, FillMissing, Normalize]\n",
        "y_names = f'{target_token}_Target'\n",
        "y_block = RegressionBlock()\n",
        "\n",
        "to = TabularPandas(df1, procs=procs, cont_names=cont_names,\n",
        "                   y_names=y_names, y_block=y_block, splits=splits)\n",
        "dls = to.dataloaders(bs=128)"
      ]
    },
    {
      "cell_type": "code",
      "execution_count": 35,
      "metadata": {
        "colab": {
          "base_uri": "https://localhost:8080/"
        },
        "id": "w2H0KVHvTu07",
        "outputId": "31491a45-3de0-45b3-d288-6043f3ef75ff"
      },
      "outputs": [
        {
          "output_type": "execute_result",
          "data": {
            "text/plain": [
              "(8965, 2953)"
            ]
          },
          "metadata": {},
          "execution_count": 35
        }
      ],
      "source": [
        "len(to.train), len(to.valid) "
      ]
    },
    {
      "cell_type": "code",
      "execution_count": 36,
      "metadata": {
        "id": "JGqXWOelydfg"
      },
      "outputs": [],
      "source": [
        "sm = SaveModelCallback(fname='scope1_fastaitabmodel')"
      ]
    },
    {
      "cell_type": "code",
      "execution_count": 37,
      "metadata": {
        "id": "vwmmfhmYVcQq"
      },
      "outputs": [],
      "source": [
        "learn = tabular_learner(dls, \n",
        "                        [200,100], \n",
        "                        metrics=rmse,\n",
        "                        cbs=sm)"
      ]
    },
    {
      "cell_type": "code",
      "execution_count": 38,
      "metadata": {
        "colab": {
          "base_uri": "https://localhost:8080/"
        },
        "id": "Rm394mUyVvi_",
        "outputId": "5bb4991b-fc04-4ca2-934e-34030c03b5d2"
      },
      "outputs": [
        {
          "output_type": "execute_result",
          "data": {
            "text/plain": [
              "TabularModel(\n",
              "  (embeds): ModuleList()\n",
              "  (emb_drop): Dropout(p=0.0, inplace=False)\n",
              "  (bn_cont): BatchNorm1d(16, eps=1e-05, momentum=0.1, affine=True, track_running_stats=True)\n",
              "  (layers): Sequential(\n",
              "    (0): LinBnDrop(\n",
              "      (0): Linear(in_features=16, out_features=200, bias=False)\n",
              "      (1): ReLU(inplace=True)\n",
              "      (2): BatchNorm1d(200, eps=1e-05, momentum=0.1, affine=True, track_running_stats=True)\n",
              "    )\n",
              "    (1): LinBnDrop(\n",
              "      (0): Linear(in_features=200, out_features=100, bias=False)\n",
              "      (1): ReLU(inplace=True)\n",
              "      (2): BatchNorm1d(100, eps=1e-05, momentum=0.1, affine=True, track_running_stats=True)\n",
              "    )\n",
              "    (2): LinBnDrop(\n",
              "      (0): Linear(in_features=100, out_features=1, bias=True)\n",
              "    )\n",
              "  )\n",
              ")"
            ]
          },
          "metadata": {},
          "execution_count": 38
        }
      ],
      "source": [
        "learn.model"
      ]
    },
    {
      "cell_type": "code",
      "execution_count": 39,
      "metadata": {
        "colab": {
          "base_uri": "https://localhost:8080/"
        },
        "id": "xA2zrGKAV1r0",
        "outputId": "db24aeb5-9a27-40e8-a7ae-5eea65ebb032"
      },
      "outputs": [
        {
          "output_type": "execute_result",
          "data": {
            "text/plain": [
              "FlattenedLoss of MSELoss()"
            ]
          },
          "metadata": {},
          "execution_count": 39
        }
      ],
      "source": [
        "learn.loss_func"
      ]
    },
    {
      "cell_type": "code",
      "execution_count": 40,
      "metadata": {
        "colab": {
          "base_uri": "https://localhost:8080/",
          "height": 301
        },
        "id": "OWqCodhhV5pb",
        "outputId": "78c99642-7a1b-40dc-a231-7d2d0e4befa1"
      },
      "outputs": [
        {
          "output_type": "display_data",
          "data": {
            "text/html": [
              ""
            ],
            "text/plain": [
              "<IPython.core.display.HTML object>"
            ]
          },
          "metadata": {}
        },
        {
          "output_type": "execute_result",
          "data": {
            "text/plain": [
              "SuggestedLRs(valley=0.00019054606673307717)"
            ]
          },
          "metadata": {},
          "execution_count": 40
        },
        {
          "output_type": "display_data",
          "data": {
            "image/png": "[encoded data removed]",
            "text/plain": [
              "<Figure size 432x288 with 1 Axes>"
            ]
          },
          "metadata": {
            "needs_background": "light"
          }
        }
      ],
      "source": [
        "learn.lr_find()"
      ]
    },
    {
      "cell_type": "code",
      "execution_count": 41,
      "metadata": {
        "colab": {
          "base_uri": "https://localhost:8080/",
          "height": 1000
        },
        "id": "kgUGEUhBV9it",
        "outputId": "11a2209b-44c6-4cbf-99a6-b5ad9a461f47"
      },
      "outputs": [
        {
          "output_type": "display_data",
          "data": {
            "text/html": [
              "<table border=\"1\" class=\"dataframe\">\n",
              "  <thead>\n",
              "    <tr style=\"text-align: left;\">\n",
              "      <th>epoch</th>\n",
              "      <th>train_loss</th>\n",
              "      <th>valid_loss</th>\n",
              "      <th>_rmse</th>\n",
              "      <th>time</th>\n",
              "    </tr>\n",
              "  </thead>\n",
              "  <tbody>\n",
              "    <tr>\n",
              "      <td>0</td>\n",
              "      <td>0.017845</td>\n",
              "      <td>0.003559</td>\n",
              "      <td>0.059654</td>\n",
              "      <td>00:00</td>\n",
              "    </tr>\n",
              "    <tr>\n",
              "      <td>1</td>\n",
              "      <td>0.004419</td>\n",
              "      <td>0.003394</td>\n",
              "      <td>0.058258</td>\n",
              "      <td>00:00</td>\n",
              "    </tr>\n",
              "    <tr>\n",
              "      <td>2</td>\n",
              "      <td>0.001696</td>\n",
              "      <td>0.003510</td>\n",
              "      <td>0.059248</td>\n",
              "      <td>00:00</td>\n",
              "    </tr>\n",
              "    <tr>\n",
              "      <td>3</td>\n",
              "      <td>0.000910</td>\n",
              "      <td>0.001355</td>\n",
              "      <td>0.036812</td>\n",
              "      <td>00:00</td>\n",
              "    </tr>\n",
              "    <tr>\n",
              "      <td>4</td>\n",
              "      <td>0.000790</td>\n",
              "      <td>0.001006</td>\n",
              "      <td>0.031713</td>\n",
              "      <td>00:00</td>\n",
              "    </tr>\n",
              "    <tr>\n",
              "      <td>5</td>\n",
              "      <td>0.000600</td>\n",
              "      <td>0.001000</td>\n",
              "      <td>0.031619</td>\n",
              "      <td>00:00</td>\n",
              "    </tr>\n",
              "    <tr>\n",
              "      <td>6</td>\n",
              "      <td>0.000761</td>\n",
              "      <td>0.001274</td>\n",
              "      <td>0.035694</td>\n",
              "      <td>00:00</td>\n",
              "    </tr>\n",
              "    <tr>\n",
              "      <td>7</td>\n",
              "      <td>0.000909</td>\n",
              "      <td>0.000659</td>\n",
              "      <td>0.025663</td>\n",
              "      <td>00:00</td>\n",
              "    </tr>\n",
              "    <tr>\n",
              "      <td>8</td>\n",
              "      <td>0.000454</td>\n",
              "      <td>0.000284</td>\n",
              "      <td>0.016846</td>\n",
              "      <td>00:00</td>\n",
              "    </tr>\n",
              "    <tr>\n",
              "      <td>9</td>\n",
              "      <td>0.000403</td>\n",
              "      <td>0.000244</td>\n",
              "      <td>0.015617</td>\n",
              "      <td>00:00</td>\n",
              "    </tr>\n",
              "    <tr>\n",
              "      <td>10</td>\n",
              "      <td>0.000495</td>\n",
              "      <td>0.001761</td>\n",
              "      <td>0.041967</td>\n",
              "      <td>00:00</td>\n",
              "    </tr>\n",
              "    <tr>\n",
              "      <td>11</td>\n",
              "      <td>0.000638</td>\n",
              "      <td>0.000707</td>\n",
              "      <td>0.026587</td>\n",
              "      <td>00:00</td>\n",
              "    </tr>\n",
              "    <tr>\n",
              "      <td>12</td>\n",
              "      <td>0.000464</td>\n",
              "      <td>0.000237</td>\n",
              "      <td>0.015391</td>\n",
              "      <td>00:00</td>\n",
              "    </tr>\n",
              "    <tr>\n",
              "      <td>13</td>\n",
              "      <td>0.000387</td>\n",
              "      <td>0.000065</td>\n",
              "      <td>0.008033</td>\n",
              "      <td>00:00</td>\n",
              "    </tr>\n",
              "    <tr>\n",
              "      <td>14</td>\n",
              "      <td>0.000417</td>\n",
              "      <td>0.000260</td>\n",
              "      <td>0.016112</td>\n",
              "      <td>00:00</td>\n",
              "    </tr>\n",
              "    <tr>\n",
              "      <td>15</td>\n",
              "      <td>0.000276</td>\n",
              "      <td>0.000054</td>\n",
              "      <td>0.007357</td>\n",
              "      <td>00:00</td>\n",
              "    </tr>\n",
              "    <tr>\n",
              "      <td>16</td>\n",
              "      <td>0.000255</td>\n",
              "      <td>0.000251</td>\n",
              "      <td>0.015845</td>\n",
              "      <td>00:00</td>\n",
              "    </tr>\n",
              "    <tr>\n",
              "      <td>17</td>\n",
              "      <td>0.000177</td>\n",
              "      <td>0.000191</td>\n",
              "      <td>0.013821</td>\n",
              "      <td>00:00</td>\n",
              "    </tr>\n",
              "    <tr>\n",
              "      <td>18</td>\n",
              "      <td>0.000168</td>\n",
              "      <td>0.000073</td>\n",
              "      <td>0.008558</td>\n",
              "      <td>00:00</td>\n",
              "    </tr>\n",
              "    <tr>\n",
              "      <td>19</td>\n",
              "      <td>0.000138</td>\n",
              "      <td>0.000009</td>\n",
              "      <td>0.002954</td>\n",
              "      <td>00:00</td>\n",
              "    </tr>\n",
              "    <tr>\n",
              "      <td>20</td>\n",
              "      <td>0.000097</td>\n",
              "      <td>0.000008</td>\n",
              "      <td>0.002754</td>\n",
              "      <td>00:00</td>\n",
              "    </tr>\n",
              "    <tr>\n",
              "      <td>21</td>\n",
              "      <td>0.000105</td>\n",
              "      <td>0.000006</td>\n",
              "      <td>0.002383</td>\n",
              "      <td>00:00</td>\n",
              "    </tr>\n",
              "    <tr>\n",
              "      <td>22</td>\n",
              "      <td>0.000105</td>\n",
              "      <td>0.000084</td>\n",
              "      <td>0.009147</td>\n",
              "      <td>00:00</td>\n",
              "    </tr>\n",
              "    <tr>\n",
              "      <td>23</td>\n",
              "      <td>0.000082</td>\n",
              "      <td>0.000051</td>\n",
              "      <td>0.007172</td>\n",
              "      <td>00:00</td>\n",
              "    </tr>\n",
              "    <tr>\n",
              "      <td>24</td>\n",
              "      <td>0.000062</td>\n",
              "      <td>0.000019</td>\n",
              "      <td>0.004363</td>\n",
              "      <td>00:00</td>\n",
              "    </tr>\n",
              "    <tr>\n",
              "      <td>25</td>\n",
              "      <td>0.000095</td>\n",
              "      <td>0.000102</td>\n",
              "      <td>0.010077</td>\n",
              "      <td>00:00</td>\n",
              "    </tr>\n",
              "    <tr>\n",
              "      <td>26</td>\n",
              "      <td>0.000106</td>\n",
              "      <td>0.000059</td>\n",
              "      <td>0.007702</td>\n",
              "      <td>00:00</td>\n",
              "    </tr>\n",
              "    <tr>\n",
              "      <td>27</td>\n",
              "      <td>0.000128</td>\n",
              "      <td>0.000030</td>\n",
              "      <td>0.005495</td>\n",
              "      <td>00:00</td>\n",
              "    </tr>\n",
              "    <tr>\n",
              "      <td>28</td>\n",
              "      <td>0.000091</td>\n",
              "      <td>0.000024</td>\n",
              "      <td>0.004943</td>\n",
              "      <td>00:00</td>\n",
              "    </tr>\n",
              "    <tr>\n",
              "      <td>29</td>\n",
              "      <td>0.000095</td>\n",
              "      <td>0.000083</td>\n",
              "      <td>0.009125</td>\n",
              "      <td>00:00</td>\n",
              "    </tr>\n",
              "    <tr>\n",
              "      <td>30</td>\n",
              "      <td>0.000131</td>\n",
              "      <td>0.000576</td>\n",
              "      <td>0.023994</td>\n",
              "      <td>00:00</td>\n",
              "    </tr>\n",
              "    <tr>\n",
              "      <td>31</td>\n",
              "      <td>0.000115</td>\n",
              "      <td>0.000003</td>\n",
              "      <td>0.001801</td>\n",
              "      <td>00:00</td>\n",
              "    </tr>\n",
              "    <tr>\n",
              "      <td>32</td>\n",
              "      <td>0.000090</td>\n",
              "      <td>0.000006</td>\n",
              "      <td>0.002549</td>\n",
              "      <td>00:00</td>\n",
              "    </tr>\n",
              "    <tr>\n",
              "      <td>33</td>\n",
              "      <td>0.000088</td>\n",
              "      <td>0.000004</td>\n",
              "      <td>0.001922</td>\n",
              "      <td>00:00</td>\n",
              "    </tr>\n",
              "    <tr>\n",
              "      <td>34</td>\n",
              "      <td>0.000082</td>\n",
              "      <td>0.000004</td>\n",
              "      <td>0.002117</td>\n",
              "      <td>00:00</td>\n",
              "    </tr>\n",
              "    <tr>\n",
              "      <td>35</td>\n",
              "      <td>0.000142</td>\n",
              "      <td>0.000358</td>\n",
              "      <td>0.018927</td>\n",
              "      <td>00:00</td>\n",
              "    </tr>\n",
              "    <tr>\n",
              "      <td>36</td>\n",
              "      <td>0.000111</td>\n",
              "      <td>0.000101</td>\n",
              "      <td>0.010026</td>\n",
              "      <td>00:00</td>\n",
              "    </tr>\n",
              "    <tr>\n",
              "      <td>37</td>\n",
              "      <td>0.000092</td>\n",
              "      <td>0.000027</td>\n",
              "      <td>0.005155</td>\n",
              "      <td>00:00</td>\n",
              "    </tr>\n",
              "    <tr>\n",
              "      <td>38</td>\n",
              "      <td>0.000081</td>\n",
              "      <td>0.000015</td>\n",
              "      <td>0.003884</td>\n",
              "      <td>00:00</td>\n",
              "    </tr>\n",
              "    <tr>\n",
              "      <td>39</td>\n",
              "      <td>0.000112</td>\n",
              "      <td>0.000127</td>\n",
              "      <td>0.011251</td>\n",
              "      <td>00:00</td>\n",
              "    </tr>\n",
              "    <tr>\n",
              "      <td>40</td>\n",
              "      <td>0.000086</td>\n",
              "      <td>0.000006</td>\n",
              "      <td>0.002523</td>\n",
              "      <td>00:00</td>\n",
              "    </tr>\n",
              "    <tr>\n",
              "      <td>41</td>\n",
              "      <td>0.000077</td>\n",
              "      <td>0.000008</td>\n",
              "      <td>0.002757</td>\n",
              "      <td>00:00</td>\n",
              "    </tr>\n",
              "    <tr>\n",
              "      <td>42</td>\n",
              "      <td>0.000070</td>\n",
              "      <td>0.000092</td>\n",
              "      <td>0.009577</td>\n",
              "      <td>00:00</td>\n",
              "    </tr>\n",
              "    <tr>\n",
              "      <td>43</td>\n",
              "      <td>0.000108</td>\n",
              "      <td>0.000032</td>\n",
              "      <td>0.005676</td>\n",
              "      <td>00:00</td>\n",
              "    </tr>\n",
              "    <tr>\n",
              "      <td>44</td>\n",
              "      <td>0.000086</td>\n",
              "      <td>0.000019</td>\n",
              "      <td>0.004409</td>\n",
              "      <td>00:00</td>\n",
              "    </tr>\n",
              "    <tr>\n",
              "      <td>45</td>\n",
              "      <td>0.000096</td>\n",
              "      <td>0.000026</td>\n",
              "      <td>0.005053</td>\n",
              "      <td>00:00</td>\n",
              "    </tr>\n",
              "    <tr>\n",
              "      <td>46</td>\n",
              "      <td>0.000067</td>\n",
              "      <td>0.000003</td>\n",
              "      <td>0.001818</td>\n",
              "      <td>00:00</td>\n",
              "    </tr>\n",
              "    <tr>\n",
              "      <td>47</td>\n",
              "      <td>0.000072</td>\n",
              "      <td>0.000006</td>\n",
              "      <td>0.002396</td>\n",
              "      <td>00:00</td>\n",
              "    </tr>\n",
              "    <tr>\n",
              "      <td>48</td>\n",
              "      <td>0.000103</td>\n",
              "      <td>0.000105</td>\n",
              "      <td>0.010232</td>\n",
              "      <td>00:00</td>\n",
              "    </tr>\n",
              "    <tr>\n",
              "      <td>49</td>\n",
              "      <td>0.000077</td>\n",
              "      <td>0.000002</td>\n",
              "      <td>0.001528</td>\n",
              "      <td>00:00</td>\n",
              "    </tr>\n",
              "    <tr>\n",
              "      <td>50</td>\n",
              "      <td>0.000118</td>\n",
              "      <td>0.000063</td>\n",
              "      <td>0.007911</td>\n",
              "      <td>00:00</td>\n",
              "    </tr>\n",
              "    <tr>\n",
              "      <td>51</td>\n",
              "      <td>0.000103</td>\n",
              "      <td>0.000006</td>\n",
              "      <td>0.002546</td>\n",
              "      <td>00:00</td>\n",
              "    </tr>\n",
              "    <tr>\n",
              "      <td>52</td>\n",
              "      <td>0.000089</td>\n",
              "      <td>0.000014</td>\n",
              "      <td>0.003804</td>\n",
              "      <td>00:00</td>\n",
              "    </tr>\n",
              "    <tr>\n",
              "      <td>53</td>\n",
              "      <td>0.000067</td>\n",
              "      <td>0.000021</td>\n",
              "      <td>0.004608</td>\n",
              "      <td>00:00</td>\n",
              "    </tr>\n",
              "    <tr>\n",
              "      <td>54</td>\n",
              "      <td>0.000064</td>\n",
              "      <td>0.000006</td>\n",
              "      <td>0.002505</td>\n",
              "      <td>00:00</td>\n",
              "    </tr>\n",
              "    <tr>\n",
              "      <td>55</td>\n",
              "      <td>0.000075</td>\n",
              "      <td>0.000026</td>\n",
              "      <td>0.005092</td>\n",
              "      <td>00:00</td>\n",
              "    </tr>\n",
              "    <tr>\n",
              "      <td>56</td>\n",
              "      <td>0.000071</td>\n",
              "      <td>0.000012</td>\n",
              "      <td>0.003447</td>\n",
              "      <td>00:00</td>\n",
              "    </tr>\n",
              "    <tr>\n",
              "      <td>57</td>\n",
              "      <td>0.000080</td>\n",
              "      <td>0.000005</td>\n",
              "      <td>0.002262</td>\n",
              "      <td>00:00</td>\n",
              "    </tr>\n",
              "    <tr>\n",
              "      <td>58</td>\n",
              "      <td>0.000063</td>\n",
              "      <td>0.000003</td>\n",
              "      <td>0.001783</td>\n",
              "      <td>00:00</td>\n",
              "    </tr>\n",
              "    <tr>\n",
              "      <td>59</td>\n",
              "      <td>0.000064</td>\n",
              "      <td>0.000061</td>\n",
              "      <td>0.007826</td>\n",
              "      <td>00:00</td>\n",
              "    </tr>\n",
              "    <tr>\n",
              "      <td>60</td>\n",
              "      <td>0.000091</td>\n",
              "      <td>0.000032</td>\n",
              "      <td>0.005620</td>\n",
              "      <td>00:00</td>\n",
              "    </tr>\n",
              "    <tr>\n",
              "      <td>61</td>\n",
              "      <td>0.000064</td>\n",
              "      <td>0.000013</td>\n",
              "      <td>0.003670</td>\n",
              "      <td>00:00</td>\n",
              "    </tr>\n",
              "    <tr>\n",
              "      <td>62</td>\n",
              "      <td>0.000074</td>\n",
              "      <td>0.000169</td>\n",
              "      <td>0.012988</td>\n",
              "      <td>00:00</td>\n",
              "    </tr>\n",
              "    <tr>\n",
              "      <td>63</td>\n",
              "      <td>0.000072</td>\n",
              "      <td>0.000006</td>\n",
              "      <td>0.002502</td>\n",
              "      <td>00:00</td>\n",
              "    </tr>\n",
              "    <tr>\n",
              "      <td>64</td>\n",
              "      <td>0.000051</td>\n",
              "      <td>0.000039</td>\n",
              "      <td>0.006220</td>\n",
              "      <td>00:00</td>\n",
              "    </tr>\n",
              "    <tr>\n",
              "      <td>65</td>\n",
              "      <td>0.000051</td>\n",
              "      <td>0.000018</td>\n",
              "      <td>0.004186</td>\n",
              "      <td>00:00</td>\n",
              "    </tr>\n",
              "    <tr>\n",
              "      <td>66</td>\n",
              "      <td>0.000072</td>\n",
              "      <td>0.000005</td>\n",
              "      <td>0.002319</td>\n",
              "      <td>00:00</td>\n",
              "    </tr>\n",
              "    <tr>\n",
              "      <td>67</td>\n",
              "      <td>0.000072</td>\n",
              "      <td>0.000059</td>\n",
              "      <td>0.007688</td>\n",
              "      <td>00:00</td>\n",
              "    </tr>\n",
              "    <tr>\n",
              "      <td>68</td>\n",
              "      <td>0.000050</td>\n",
              "      <td>0.000004</td>\n",
              "      <td>0.001978</td>\n",
              "      <td>00:00</td>\n",
              "    </tr>\n",
              "    <tr>\n",
              "      <td>69</td>\n",
              "      <td>0.000046</td>\n",
              "      <td>0.000021</td>\n",
              "      <td>0.004608</td>\n",
              "      <td>00:00</td>\n",
              "    </tr>\n",
              "    <tr>\n",
              "      <td>70</td>\n",
              "      <td>0.000048</td>\n",
              "      <td>0.000004</td>\n",
              "      <td>0.001975</td>\n",
              "      <td>00:00</td>\n",
              "    </tr>\n",
              "    <tr>\n",
              "      <td>71</td>\n",
              "      <td>0.000058</td>\n",
              "      <td>0.000015</td>\n",
              "      <td>0.003870</td>\n",
              "      <td>00:00</td>\n",
              "    </tr>\n",
              "    <tr>\n",
              "      <td>72</td>\n",
              "      <td>0.000056</td>\n",
              "      <td>0.000015</td>\n",
              "      <td>0.003898</td>\n",
              "      <td>00:00</td>\n",
              "    </tr>\n",
              "    <tr>\n",
              "      <td>73</td>\n",
              "      <td>0.000049</td>\n",
              "      <td>0.000008</td>\n",
              "      <td>0.002896</td>\n",
              "      <td>00:00</td>\n",
              "    </tr>\n",
              "    <tr>\n",
              "      <td>74</td>\n",
              "      <td>0.000046</td>\n",
              "      <td>0.000011</td>\n",
              "      <td>0.003241</td>\n",
              "      <td>00:00</td>\n",
              "    </tr>\n",
              "    <tr>\n",
              "      <td>75</td>\n",
              "      <td>0.000060</td>\n",
              "      <td>0.000027</td>\n",
              "      <td>0.005180</td>\n",
              "      <td>00:00</td>\n",
              "    </tr>\n",
              "    <tr>\n",
              "      <td>76</td>\n",
              "      <td>0.000053</td>\n",
              "      <td>0.000005</td>\n",
              "      <td>0.002152</td>\n",
              "      <td>00:00</td>\n",
              "    </tr>\n",
              "    <tr>\n",
              "      <td>77</td>\n",
              "      <td>0.000049</td>\n",
              "      <td>0.000003</td>\n",
              "      <td>0.001780</td>\n",
              "      <td>00:00</td>\n",
              "    </tr>\n",
              "    <tr>\n",
              "      <td>78</td>\n",
              "      <td>0.000051</td>\n",
              "      <td>0.000003</td>\n",
              "      <td>0.001591</td>\n",
              "      <td>00:00</td>\n",
              "    </tr>\n",
              "    <tr>\n",
              "      <td>79</td>\n",
              "      <td>0.000044</td>\n",
              "      <td>0.000008</td>\n",
              "      <td>0.002837</td>\n",
              "      <td>00:00</td>\n",
              "    </tr>\n",
              "    <tr>\n",
              "      <td>80</td>\n",
              "      <td>0.000044</td>\n",
              "      <td>0.000004</td>\n",
              "      <td>0.001924</td>\n",
              "      <td>00:00</td>\n",
              "    </tr>\n",
              "    <tr>\n",
              "      <td>81</td>\n",
              "      <td>0.000037</td>\n",
              "      <td>0.000002</td>\n",
              "      <td>0.001508</td>\n",
              "      <td>00:00</td>\n",
              "    </tr>\n",
              "    <tr>\n",
              "      <td>82</td>\n",
              "      <td>0.000040</td>\n",
              "      <td>0.000002</td>\n",
              "      <td>0.001574</td>\n",
              "      <td>00:00</td>\n",
              "    </tr>\n",
              "    <tr>\n",
              "      <td>83</td>\n",
              "      <td>0.000051</td>\n",
              "      <td>0.000023</td>\n",
              "      <td>0.004763</td>\n",
              "      <td>00:00</td>\n",
              "    </tr>\n",
              "    <tr>\n",
              "      <td>84</td>\n",
              "      <td>0.000043</td>\n",
              "      <td>0.000002</td>\n",
              "      <td>0.001343</td>\n",
              "      <td>00:00</td>\n",
              "    </tr>\n",
              "    <tr>\n",
              "      <td>85</td>\n",
              "      <td>0.000042</td>\n",
              "      <td>0.000004</td>\n",
              "      <td>0.001934</td>\n",
              "      <td>00:00</td>\n",
              "    </tr>\n",
              "    <tr>\n",
              "      <td>86</td>\n",
              "      <td>0.000039</td>\n",
              "      <td>0.000005</td>\n",
              "      <td>0.002292</td>\n",
              "      <td>00:00</td>\n",
              "    </tr>\n",
              "    <tr>\n",
              "      <td>87</td>\n",
              "      <td>0.000037</td>\n",
              "      <td>0.000006</td>\n",
              "      <td>0.002491</td>\n",
              "      <td>00:00</td>\n",
              "    </tr>\n",
              "    <tr>\n",
              "      <td>88</td>\n",
              "      <td>0.000038</td>\n",
              "      <td>0.000002</td>\n",
              "      <td>0.001328</td>\n",
              "      <td>00:00</td>\n",
              "    </tr>\n",
              "    <tr>\n",
              "      <td>89</td>\n",
              "      <td>0.000042</td>\n",
              "      <td>0.000006</td>\n",
              "      <td>0.002392</td>\n",
              "      <td>00:00</td>\n",
              "    </tr>\n",
              "    <tr>\n",
              "      <td>90</td>\n",
              "      <td>0.000039</td>\n",
              "      <td>0.000006</td>\n",
              "      <td>0.002397</td>\n",
              "      <td>00:00</td>\n",
              "    </tr>\n",
              "    <tr>\n",
              "      <td>91</td>\n",
              "      <td>0.000039</td>\n",
              "      <td>0.000008</td>\n",
              "      <td>0.002760</td>\n",
              "      <td>00:00</td>\n",
              "    </tr>\n",
              "    <tr>\n",
              "      <td>92</td>\n",
              "      <td>0.000032</td>\n",
              "      <td>0.000002</td>\n",
              "      <td>0.001427</td>\n",
              "      <td>00:00</td>\n",
              "    </tr>\n",
              "    <tr>\n",
              "      <td>93</td>\n",
              "      <td>0.000035</td>\n",
              "      <td>0.000004</td>\n",
              "      <td>0.001975</td>\n",
              "      <td>00:00</td>\n",
              "    </tr>\n",
              "    <tr>\n",
              "      <td>94</td>\n",
              "      <td>0.000036</td>\n",
              "      <td>0.000005</td>\n",
              "      <td>0.002311</td>\n",
              "      <td>00:00</td>\n",
              "    </tr>\n",
              "    <tr>\n",
              "      <td>95</td>\n",
              "      <td>0.000036</td>\n",
              "      <td>0.000003</td>\n",
              "      <td>0.001652</td>\n",
              "      <td>00:00</td>\n",
              "    </tr>\n",
              "    <tr>\n",
              "      <td>96</td>\n",
              "      <td>0.000036</td>\n",
              "      <td>0.000002</td>\n",
              "      <td>0.001505</td>\n",
              "      <td>00:00</td>\n",
              "    </tr>\n",
              "    <tr>\n",
              "      <td>97</td>\n",
              "      <td>0.000036</td>\n",
              "      <td>0.000002</td>\n",
              "      <td>0.001301</td>\n",
              "      <td>00:01</td>\n",
              "    </tr>\n",
              "    <tr>\n",
              "      <td>98</td>\n",
              "      <td>0.000032</td>\n",
              "      <td>0.000002</td>\n",
              "      <td>0.001305</td>\n",
              "      <td>00:00</td>\n",
              "    </tr>\n",
              "    <tr>\n",
              "      <td>99</td>\n",
              "      <td>0.000038</td>\n",
              "      <td>0.000002</td>\n",
              "      <td>0.001432</td>\n",
              "      <td>00:00</td>\n",
              "    </tr>\n",
              "  </tbody>\n",
              "</table>"
            ],
            "text/plain": [
              "<IPython.core.display.HTML object>"
            ]
          },
          "metadata": {}
        },
        {
          "output_type": "stream",
          "name": "stdout",
          "text": [
            "Better model found at epoch 0 with valid_loss value: 0.003558550728484988.\n",
            "Better model found at epoch 1 with valid_loss value: 0.0033940423745661974.\n",
            "Better model found at epoch 3 with valid_loss value: 0.0013551206793636084.\n",
            "Better model found at epoch 4 with valid_loss value: 0.0010057393228635192.\n",
            "Better model found at epoch 5 with valid_loss value: 0.0009997361339628696.\n",
            "Better model found at epoch 7 with valid_loss value: 0.0006586056551896036.\n",
            "Better model found at epoch 8 with valid_loss value: 0.0002837809734046459.\n",
            "Better model found at epoch 9 with valid_loss value: 0.00024390558246523142.\n",
            "Better model found at epoch 12 with valid_loss value: 0.00023688023793511093.\n",
            "Better model found at epoch 13 with valid_loss value: 6.453095556935295e-05.\n",
            "Better model found at epoch 15 with valid_loss value: 5.412257814896293e-05.\n",
            "Better model found at epoch 19 with valid_loss value: 8.72501823323546e-06.\n",
            "Better model found at epoch 20 with valid_loss value: 7.5844486673304345e-06.\n",
            "Better model found at epoch 21 with valid_loss value: 5.679630703525618e-06.\n",
            "Better model found at epoch 31 with valid_loss value: 3.2447399007651256e-06.\n",
            "Better model found at epoch 49 with valid_loss value: 2.3335235255217412e-06.\n",
            "Better model found at epoch 81 with valid_loss value: 2.275118504257989e-06.\n",
            "Better model found at epoch 84 with valid_loss value: 1.804277644623653e-06.\n",
            "Better model found at epoch 88 with valid_loss value: 1.7624213342060102e-06.\n",
            "Better model found at epoch 97 with valid_loss value: 1.6932394828472752e-06.\n"
          ]
        }
      ],
      "source": [
        "learn.fit_one_cycle(100, 0.03)"
      ]
    },
    {
      "cell_type": "code",
      "execution_count": 42,
      "metadata": {
        "colab": {
          "base_uri": "https://localhost:8080/",
          "height": 17
        },
        "id": "gz2m-XdIWewb",
        "outputId": "872a40cf-d038-4038-aefb-7d178563a197"
      },
      "outputs": [
        {
          "output_type": "display_data",
          "data": {
            "text/html": [
              ""
            ],
            "text/plain": [
              "<IPython.core.display.HTML object>"
            ]
          },
          "metadata": {}
        }
      ],
      "source": [
        "preds, targs = learn.get_preds(dl=dls.valid)"
      ]
    },
    {
      "cell_type": "code",
      "execution_count": 43,
      "metadata": {
        "colab": {
          "base_uri": "https://localhost:8080/"
        },
        "id": "t-Y0drIVYyYM",
        "outputId": "cad82683-05f5-4523-cb61-0e7f021c5b03"
      },
      "outputs": [
        {
          "output_type": "stream",
          "name": "stdout",
          "text": [
            "fastai TabModel : 0.9050618317267276\n"
          ]
        }
      ],
      "source": [
        "print(\"fastai TabModel\",\":\",r2_score(preds.numpy(), targs.numpy()))"
      ]
    },
    {
      "cell_type": "markdown",
      "metadata": {
        "id": "k6gB5yqbIg-h"
      },
      "source": [
        "## TabNet/SAINT"
      ]
    },
    {
      "cell_type": "code",
      "execution_count": null,
      "metadata": {
        "id": "whnugKiZIjIj"
      },
      "outputs": [],
      "source": [
        ""
      ]
    },
    {
      "cell_type": "markdown",
      "metadata": {
        "id": "lrGovfOKRbfT"
      },
      "source": [
        "# Scope - 2"
      ]
    },
    {
      "cell_type": "markdown",
      "metadata": {
        "id": "dhu7UV52m_lt"
      },
      "source": [
        "For scope 2, we will assume each timepoint is 30mins apart "
      ]
    },
    {
      "cell_type": "markdown",
      "metadata": {
        "id": "cuL6DemZRd0F"
      },
      "source": [
        "## Simple Tabular Model Using fastai"
      ]
    },
    {
      "cell_type": "code",
      "execution_count": 62,
      "metadata": {
        "id": "IY4g-JETRdQw"
      },
      "outputs": [],
      "source": [
        "target_token = 'DAI'\n",
        "target_column = f'{target_token}_Borrowing Rate'\n",
        "target_window = 3\n",
        "n_sequence = 3"
      ]
    },
    {
      "cell_type": "code",
      "execution_count": 63,
      "metadata": {
        "colab": {
          "base_uri": "https://localhost:8080/"
        },
        "id": "W015JC3WoZEl",
        "outputId": "8206874c-3fab-487d-bc27-41bc61166e70"
      },
      "outputs": [
        {
          "output_type": "execute_result",
          "data": {
            "text/plain": [
              "['DAI_Borrowing Rate',\n",
              " 'DAI_Deposit Rate',\n",
              " 'DAI_Borrow Volume',\n",
              " 'DAI_Supply Volume',\n",
              " 'USDC_Borrowing Rate',\n",
              " 'USDC_Deposit Rate',\n",
              " 'USDC_Borrow Volume',\n",
              " 'USDC_Supply Volume',\n",
              " 'USDT_Borrowing Rate',\n",
              " 'USDT_Deposit Rate',\n",
              " 'USDT_Borrow Volume',\n",
              " 'USDT_Supply Volume',\n",
              " 'ETH_Borrowing Rate',\n",
              " 'ETH_Deposit Rate',\n",
              " 'ETH_Borrow Volume',\n",
              " 'ETH_Supply Volume']"
            ]
          },
          "metadata": {},
          "execution_count": 63
        }
      ],
      "source": [
        "feature_cols = ['DAI_Borrowing Rate', 'DAI_Deposit Rate', 'DAI_Borrow Volume', 'DAI_Supply Volume', \n",
        "                'USDC_Borrowing Rate', 'USDC_Deposit Rate', 'USDC_Borrow Volume', 'USDC_Supply Volume', \n",
        "                'USDT_Borrowing Rate', 'USDT_Deposit Rate', 'USDT_Borrow Volume', 'USDT_Supply Volume',\n",
        "                'ETH_Borrowing Rate', 'ETH_Deposit Rate', 'ETH_Borrow Volume', 'ETH_Supply Volume']\n",
        "\n",
        "feature_cols"
      ]
    },
    {
      "cell_type": "code",
      "execution_count": 64,
      "metadata": {
        "id": "gYrY9uaisdGA"
      },
      "outputs": [],
      "source": [
        "cols_names = []\n",
        "for j in range(n_sequence):\n",
        "    for col in feature_cols:\n",
        "        cols_names.append(f'{col}_t-{n_sequence -j-1}')\n",
        "cols_names.append(f'{target_token}_Target')"
      ]
    },
    {
      "cell_type": "code",
      "execution_count": 47,
      "metadata": {
        "colab": {
          "base_uri": "https://localhost:8080/"
        },
        "id": "QV-v9eEwRck-",
        "outputId": "c4124846-b577-4a15-a389-0c8cba347413"
      },
      "outputs": [
        {
          "output_type": "stream",
          "name": "stderr",
          "text": [
            "11918it [00:12, 974.77it/s] \n"
          ]
        }
      ],
      "source": [
        "pairs = []\n",
        "for i, row in tqdm(df1.iterrows()):\n",
        "    if i < len(df1)-target_window-5:\n",
        "        features = df1.loc[i:i+n_sequence-1, feature_cols].values\n",
        "        features = [item for sublist in features for item in sublist]\n",
        "        targ = df1.loc[i+n_sequence-1+target_window, target_column]\n",
        "        features.append(targ)\n",
        "        pairs.append(features)"
      ]
    },
    {
      "cell_type": "code",
      "execution_count": 48,
      "metadata": {
        "id": "4t8RhMDUus1t"
      },
      "outputs": [],
      "source": [
        "df2 = pd.DataFrame(pairs,columns=cols_names)"
      ]
    },
    {
      "cell_type": "code",
      "execution_count": 65,
      "metadata": {
        "id": "IKPgJmzIzg3U"
      },
      "outputs": [],
      "source": [
        "#train_test_split\n",
        "df2['Train'] = None\n",
        "train_index = int(len(df2)*0.8)\n",
        "df2.loc[:train_index, 'Train'] = True\n",
        "df2.loc[train_index:, 'Train'] = False"
      ]
    },
    {
      "cell_type": "code",
      "execution_count": 66,
      "metadata": {
        "id": "gZJMfWudzmEl"
      },
      "outputs": [],
      "source": [
        "splits = (list(df2[df2['Train']==True].index), list(df2[df2['Train']==False].index))"
      ]
    },
    {
      "cell_type": "code",
      "execution_count": 67,
      "metadata": {
        "id": "qyvZLOA8ztp_"
      },
      "outputs": [],
      "source": [
        "cont_names = ['DAI_Borrowing Rate_t-2', 'DAI_Deposit Rate_t-2', 'DAI_Borrow Volume_t-2', 'DAI_Supply Volume_t-2',\n",
        "              'USDC_Borrowing Rate_t-2', 'USDC_Deposit Rate_t-2', 'USDC_Borrow Volume_t-2', 'USDC_Supply Volume_t-2',\n",
        "              'USDT_Borrowing Rate_t-2', 'USDT_Deposit Rate_t-2', 'USDT_Borrow Volume_t-2', 'USDT_Supply Volume_t-2',\n",
        "              'ETH_Borrowing Rate_t-2', 'ETH_Deposit Rate_t-2', 'ETH_Borrow Volume_t-2', 'ETH_Supply Volume_t-2',\n",
        "              'DAI_Borrowing Rate_t-1', 'DAI_Deposit Rate_t-1', 'DAI_Borrow Volume_t-1', 'DAI_Supply Volume_t-1',\n",
        "              'USDC_Borrowing Rate_t-1', 'USDC_Deposit Rate_t-1', 'USDC_Borrow Volume_t-1', 'USDC_Supply Volume_t-1',\n",
        "              'USDT_Borrowing Rate_t-1', 'USDT_Deposit Rate_t-1', 'USDT_Borrow Volume_t-1', 'USDT_Supply Volume_t-1',\n",
        "              'ETH_Borrowing Rate_t-1', 'ETH_Deposit Rate_t-1', 'ETH_Borrow Volume_t-1', 'ETH_Supply Volume_t-1',\n",
        "              'DAI_Borrowing Rate_t-0', 'DAI_Deposit Rate_t-0', 'DAI_Borrow Volume_t-0', 'DAI_Supply Volume_t-0',\n",
        "              'USDC_Borrowing Rate_t-0', 'USDC_Deposit Rate_t-0', 'USDC_Borrow Volume_t-0', 'USDC_Supply Volume_t-0',\n",
        "              'USDT_Borrowing Rate_t-0', 'USDT_Deposit Rate_t-0', 'USDT_Borrow Volume_t-0', 'USDT_Supply Volume_t-0', \n",
        "              'ETH_Borrowing Rate_t-0', 'ETH_Deposit Rate_t-0', 'ETH_Borrow Volume_t-0', 'ETH_Supply Volume_t-0']"
      ]
    },
    {
      "cell_type": "code",
      "execution_count": 68,
      "metadata": {
        "id": "GfR8V6Tf0P5V"
      },
      "outputs": [],
      "source": [
        "procs = [Categorify, FillMissing, Normalize]\n",
        "y_names = f'{target_token}_Target'\n",
        "y_block = RegressionBlock()\n",
        "\n",
        "to = TabularPandas(df2, procs=procs, cont_names=cont_names, y_names=y_names, y_block=y_block, splits=splits)\n",
        "dls = to.dataloaders(bs=128)"
      ]
    },
    {
      "cell_type": "code",
      "execution_count": 69,
      "metadata": {
        "colab": {
          "base_uri": "https://localhost:8080/"
        },
        "id": "riR_rAN20SOE",
        "outputId": "256f2a6d-9212-4a8a-b484-36149fbbef8d"
      },
      "outputs": [
        {
          "output_type": "execute_result",
          "data": {
            "text/plain": [
              "(9528, 2382)"
            ]
          },
          "metadata": {},
          "execution_count": 69
        }
      ],
      "source": [
        "len(to.train), len(to.valid) "
      ]
    },
    {
      "cell_type": "code",
      "execution_count": 70,
      "metadata": {
        "id": "SvV1cB87zjCX"
      },
      "outputs": [],
      "source": [
        "sm = SaveModelCallback(fname='scope2_fastaitabmodel')"
      ]
    },
    {
      "cell_type": "code",
      "execution_count": 71,
      "metadata": {
        "id": "c7dfDd4V0WQ0"
      },
      "outputs": [],
      "source": [
        "learn = tabular_learner(dls, \n",
        "                        [200,100], \n",
        "                        metrics=rmse,\n",
        "                        cbs=sm)"
      ]
    },
    {
      "cell_type": "code",
      "execution_count": 72,
      "metadata": {
        "id": "X_qhJsgZ0bi9",
        "colab": {
          "base_uri": "https://localhost:8080/"
        },
        "outputId": "8d484dd2-be17-48dd-dded-109bf87ef0dc"
      },
      "outputs": [
        {
          "output_type": "execute_result",
          "data": {
            "text/plain": [
              "TabularModel(\n",
              "  (embeds): ModuleList()\n",
              "  (emb_drop): Dropout(p=0.0, inplace=False)\n",
              "  (bn_cont): BatchNorm1d(48, eps=1e-05, momentum=0.1, affine=True, track_running_stats=True)\n",
              "  (layers): Sequential(\n",
              "    (0): LinBnDrop(\n",
              "      (0): Linear(in_features=48, out_features=200, bias=False)\n",
              "      (1): ReLU(inplace=True)\n",
              "      (2): BatchNorm1d(200, eps=1e-05, momentum=0.1, affine=True, track_running_stats=True)\n",
              "    )\n",
              "    (1): LinBnDrop(\n",
              "      (0): Linear(in_features=200, out_features=100, bias=False)\n",
              "      (1): ReLU(inplace=True)\n",
              "      (2): BatchNorm1d(100, eps=1e-05, momentum=0.1, affine=True, track_running_stats=True)\n",
              "    )\n",
              "    (2): LinBnDrop(\n",
              "      (0): Linear(in_features=100, out_features=1, bias=True)\n",
              "    )\n",
              "  )\n",
              ")"
            ]
          },
          "metadata": {},
          "execution_count": 72
        }
      ],
      "source": [
        "learn.model"
      ]
    },
    {
      "cell_type": "code",
      "execution_count": 73,
      "metadata": {
        "id": "AjGk0EXA0bgc",
        "colab": {
          "base_uri": "https://localhost:8080/"
        },
        "outputId": "8b7c4184-1d7c-4a6f-cf49-23a249973d59"
      },
      "outputs": [
        {
          "output_type": "execute_result",
          "data": {
            "text/plain": [
              "FlattenedLoss of MSELoss()"
            ]
          },
          "metadata": {},
          "execution_count": 73
        }
      ],
      "source": [
        "learn.loss_func"
      ]
    },
    {
      "cell_type": "code",
      "execution_count": 74,
      "metadata": {
        "id": "Jn9s4QMt0idE",
        "colab": {
          "base_uri": "https://localhost:8080/",
          "height": 301
        },
        "outputId": "af18f8d0-c62e-4577-f925-d06346296ef7"
      },
      "outputs": [
        {
          "output_type": "display_data",
          "data": {
            "text/html": [
              ""
            ],
            "text/plain": [
              "<IPython.core.display.HTML object>"
            ]
          },
          "metadata": {}
        },
        {
          "output_type": "execute_result",
          "data": {
            "text/plain": [
              "SuggestedLRs(valley=0.0006918309954926372)"
            ]
          },
          "metadata": {},
          "execution_count": 74
        },
        {
          "output_type": "display_data",
          "data": {
            "image/png": "[encoded data removed]",
            "text/plain": [
              "<Figure size 432x288 with 1 Axes>"
            ]
          },
          "metadata": {
            "needs_background": "light"
          }
        }
      ],
      "source": [
        "learn.lr_find()"
      ]
    },
    {
      "cell_type": "code",
      "execution_count": 59,
      "metadata": {
        "id": "z7nIWBy12vnJ",
        "colab": {
          "base_uri": "https://localhost:8080/",
          "height": 1000
        },
        "outputId": "a0c5e81e-7bff-4db5-b6e1-30ff8bf09d80"
      },
      "outputs": [
        {
          "output_type": "display_data",
          "data": {
            "text/html": [
              "<table border=\"1\" class=\"dataframe\">\n",
              "  <thead>\n",
              "    <tr style=\"text-align: left;\">\n",
              "      <th>epoch</th>\n",
              "      <th>train_loss</th>\n",
              "      <th>valid_loss</th>\n",
              "      <th>_rmse</th>\n",
              "      <th>time</th>\n",
              "    </tr>\n",
              "  </thead>\n",
              "  <tbody>\n",
              "    <tr>\n",
              "      <td>0</td>\n",
              "      <td>0.023014</td>\n",
              "      <td>0.008198</td>\n",
              "      <td>0.090545</td>\n",
              "      <td>00:00</td>\n",
              "    </tr>\n",
              "    <tr>\n",
              "      <td>1</td>\n",
              "      <td>0.005105</td>\n",
              "      <td>0.003949</td>\n",
              "      <td>0.062843</td>\n",
              "      <td>00:00</td>\n",
              "    </tr>\n",
              "    <tr>\n",
              "      <td>2</td>\n",
              "      <td>0.001571</td>\n",
              "      <td>0.002540</td>\n",
              "      <td>0.050398</td>\n",
              "      <td>00:00</td>\n",
              "    </tr>\n",
              "    <tr>\n",
              "      <td>3</td>\n",
              "      <td>0.000753</td>\n",
              "      <td>0.001865</td>\n",
              "      <td>0.043185</td>\n",
              "      <td>00:00</td>\n",
              "    </tr>\n",
              "    <tr>\n",
              "      <td>4</td>\n",
              "      <td>0.000649</td>\n",
              "      <td>0.001125</td>\n",
              "      <td>0.033539</td>\n",
              "      <td>00:00</td>\n",
              "    </tr>\n",
              "    <tr>\n",
              "      <td>5</td>\n",
              "      <td>0.000938</td>\n",
              "      <td>0.000749</td>\n",
              "      <td>0.027365</td>\n",
              "      <td>00:00</td>\n",
              "    </tr>\n",
              "    <tr>\n",
              "      <td>6</td>\n",
              "      <td>0.000765</td>\n",
              "      <td>0.001592</td>\n",
              "      <td>0.039901</td>\n",
              "      <td>00:00</td>\n",
              "    </tr>\n",
              "    <tr>\n",
              "      <td>7</td>\n",
              "      <td>0.000476</td>\n",
              "      <td>0.001762</td>\n",
              "      <td>0.041974</td>\n",
              "      <td>00:00</td>\n",
              "    </tr>\n",
              "    <tr>\n",
              "      <td>8</td>\n",
              "      <td>0.000821</td>\n",
              "      <td>0.000569</td>\n",
              "      <td>0.023861</td>\n",
              "      <td>00:00</td>\n",
              "    </tr>\n",
              "    <tr>\n",
              "      <td>9</td>\n",
              "      <td>0.000589</td>\n",
              "      <td>0.000467</td>\n",
              "      <td>0.021618</td>\n",
              "      <td>00:00</td>\n",
              "    </tr>\n",
              "    <tr>\n",
              "      <td>10</td>\n",
              "      <td>0.000571</td>\n",
              "      <td>0.000224</td>\n",
              "      <td>0.014983</td>\n",
              "      <td>00:00</td>\n",
              "    </tr>\n",
              "    <tr>\n",
              "      <td>11</td>\n",
              "      <td>0.000720</td>\n",
              "      <td>0.000170</td>\n",
              "      <td>0.013021</td>\n",
              "      <td>00:00</td>\n",
              "    </tr>\n",
              "    <tr>\n",
              "      <td>12</td>\n",
              "      <td>0.000535</td>\n",
              "      <td>0.000058</td>\n",
              "      <td>0.007606</td>\n",
              "      <td>00:00</td>\n",
              "    </tr>\n",
              "    <tr>\n",
              "      <td>13</td>\n",
              "      <td>0.000551</td>\n",
              "      <td>0.000725</td>\n",
              "      <td>0.026924</td>\n",
              "      <td>00:00</td>\n",
              "    </tr>\n",
              "    <tr>\n",
              "      <td>14</td>\n",
              "      <td>0.000459</td>\n",
              "      <td>0.000171</td>\n",
              "      <td>0.013094</td>\n",
              "      <td>00:00</td>\n",
              "    </tr>\n",
              "    <tr>\n",
              "      <td>15</td>\n",
              "      <td>0.000398</td>\n",
              "      <td>0.000223</td>\n",
              "      <td>0.014947</td>\n",
              "      <td>00:00</td>\n",
              "    </tr>\n",
              "    <tr>\n",
              "      <td>16</td>\n",
              "      <td>0.000340</td>\n",
              "      <td>0.000151</td>\n",
              "      <td>0.012269</td>\n",
              "      <td>00:00</td>\n",
              "    </tr>\n",
              "    <tr>\n",
              "      <td>17</td>\n",
              "      <td>0.000354</td>\n",
              "      <td>0.000228</td>\n",
              "      <td>0.015113</td>\n",
              "      <td>00:00</td>\n",
              "    </tr>\n",
              "    <tr>\n",
              "      <td>18</td>\n",
              "      <td>0.000212</td>\n",
              "      <td>0.000029</td>\n",
              "      <td>0.005404</td>\n",
              "      <td>00:00</td>\n",
              "    </tr>\n",
              "    <tr>\n",
              "      <td>19</td>\n",
              "      <td>0.000165</td>\n",
              "      <td>0.000116</td>\n",
              "      <td>0.010776</td>\n",
              "      <td>00:00</td>\n",
              "    </tr>\n",
              "    <tr>\n",
              "      <td>20</td>\n",
              "      <td>0.000140</td>\n",
              "      <td>0.000371</td>\n",
              "      <td>0.019255</td>\n",
              "      <td>00:00</td>\n",
              "    </tr>\n",
              "    <tr>\n",
              "      <td>21</td>\n",
              "      <td>0.000116</td>\n",
              "      <td>0.000034</td>\n",
              "      <td>0.005814</td>\n",
              "      <td>00:00</td>\n",
              "    </tr>\n",
              "    <tr>\n",
              "      <td>22</td>\n",
              "      <td>0.000088</td>\n",
              "      <td>0.000054</td>\n",
              "      <td>0.007315</td>\n",
              "      <td>00:00</td>\n",
              "    </tr>\n",
              "    <tr>\n",
              "      <td>23</td>\n",
              "      <td>0.000089</td>\n",
              "      <td>0.000023</td>\n",
              "      <td>0.004763</td>\n",
              "      <td>00:00</td>\n",
              "    </tr>\n",
              "    <tr>\n",
              "      <td>24</td>\n",
              "      <td>0.000077</td>\n",
              "      <td>0.000014</td>\n",
              "      <td>0.003760</td>\n",
              "      <td>00:00</td>\n",
              "    </tr>\n",
              "    <tr>\n",
              "      <td>25</td>\n",
              "      <td>0.000091</td>\n",
              "      <td>0.000014</td>\n",
              "      <td>0.003696</td>\n",
              "      <td>00:00</td>\n",
              "    </tr>\n",
              "    <tr>\n",
              "      <td>26</td>\n",
              "      <td>0.000100</td>\n",
              "      <td>0.000064</td>\n",
              "      <td>0.007992</td>\n",
              "      <td>00:00</td>\n",
              "    </tr>\n",
              "    <tr>\n",
              "      <td>27</td>\n",
              "      <td>0.000116</td>\n",
              "      <td>0.000012</td>\n",
              "      <td>0.003533</td>\n",
              "      <td>00:00</td>\n",
              "    </tr>\n",
              "    <tr>\n",
              "      <td>28</td>\n",
              "      <td>0.000094</td>\n",
              "      <td>0.000052</td>\n",
              "      <td>0.007225</td>\n",
              "      <td>00:00</td>\n",
              "    </tr>\n",
              "    <tr>\n",
              "      <td>29</td>\n",
              "      <td>0.000072</td>\n",
              "      <td>0.000048</td>\n",
              "      <td>0.006920</td>\n",
              "      <td>00:00</td>\n",
              "    </tr>\n",
              "    <tr>\n",
              "      <td>30</td>\n",
              "      <td>0.000133</td>\n",
              "      <td>0.000036</td>\n",
              "      <td>0.005962</td>\n",
              "      <td>00:00</td>\n",
              "    </tr>\n",
              "    <tr>\n",
              "      <td>31</td>\n",
              "      <td>0.000112</td>\n",
              "      <td>0.000066</td>\n",
              "      <td>0.008127</td>\n",
              "      <td>00:00</td>\n",
              "    </tr>\n",
              "    <tr>\n",
              "      <td>32</td>\n",
              "      <td>0.000094</td>\n",
              "      <td>0.000061</td>\n",
              "      <td>0.007811</td>\n",
              "      <td>00:00</td>\n",
              "    </tr>\n",
              "    <tr>\n",
              "      <td>33</td>\n",
              "      <td>0.000101</td>\n",
              "      <td>0.000047</td>\n",
              "      <td>0.006876</td>\n",
              "      <td>00:00</td>\n",
              "    </tr>\n",
              "    <tr>\n",
              "      <td>34</td>\n",
              "      <td>0.000102</td>\n",
              "      <td>0.000009</td>\n",
              "      <td>0.003030</td>\n",
              "      <td>00:00</td>\n",
              "    </tr>\n",
              "    <tr>\n",
              "      <td>35</td>\n",
              "      <td>0.000092</td>\n",
              "      <td>0.000031</td>\n",
              "      <td>0.005580</td>\n",
              "      <td>00:00</td>\n",
              "    </tr>\n",
              "    <tr>\n",
              "      <td>36</td>\n",
              "      <td>0.000104</td>\n",
              "      <td>0.000005</td>\n",
              "      <td>0.002343</td>\n",
              "      <td>00:00</td>\n",
              "    </tr>\n",
              "    <tr>\n",
              "      <td>37</td>\n",
              "      <td>0.000107</td>\n",
              "      <td>0.000149</td>\n",
              "      <td>0.012210</td>\n",
              "      <td>00:00</td>\n",
              "    </tr>\n",
              "    <tr>\n",
              "      <td>38</td>\n",
              "      <td>0.000071</td>\n",
              "      <td>0.000009</td>\n",
              "      <td>0.002951</td>\n",
              "      <td>00:00</td>\n",
              "    </tr>\n",
              "    <tr>\n",
              "      <td>39</td>\n",
              "      <td>0.000101</td>\n",
              "      <td>0.000052</td>\n",
              "      <td>0.007235</td>\n",
              "      <td>00:00</td>\n",
              "    </tr>\n",
              "    <tr>\n",
              "      <td>40</td>\n",
              "      <td>0.000087</td>\n",
              "      <td>0.000024</td>\n",
              "      <td>0.004865</td>\n",
              "      <td>00:00</td>\n",
              "    </tr>\n",
              "    <tr>\n",
              "      <td>41</td>\n",
              "      <td>0.000079</td>\n",
              "      <td>0.000189</td>\n",
              "      <td>0.013747</td>\n",
              "      <td>00:00</td>\n",
              "    </tr>\n",
              "    <tr>\n",
              "      <td>42</td>\n",
              "      <td>0.000070</td>\n",
              "      <td>0.000034</td>\n",
              "      <td>0.005795</td>\n",
              "      <td>00:00</td>\n",
              "    </tr>\n",
              "    <tr>\n",
              "      <td>43</td>\n",
              "      <td>0.000088</td>\n",
              "      <td>0.000044</td>\n",
              "      <td>0.006627</td>\n",
              "      <td>00:00</td>\n",
              "    </tr>\n",
              "    <tr>\n",
              "      <td>44</td>\n",
              "      <td>0.000083</td>\n",
              "      <td>0.000107</td>\n",
              "      <td>0.010352</td>\n",
              "      <td>00:00</td>\n",
              "    </tr>\n",
              "    <tr>\n",
              "      <td>45</td>\n",
              "      <td>0.000105</td>\n",
              "      <td>0.000007</td>\n",
              "      <td>0.002571</td>\n",
              "      <td>00:00</td>\n",
              "    </tr>\n",
              "    <tr>\n",
              "      <td>46</td>\n",
              "      <td>0.000072</td>\n",
              "      <td>0.000010</td>\n",
              "      <td>0.003107</td>\n",
              "      <td>00:00</td>\n",
              "    </tr>\n",
              "    <tr>\n",
              "      <td>47</td>\n",
              "      <td>0.000091</td>\n",
              "      <td>0.000011</td>\n",
              "      <td>0.003257</td>\n",
              "      <td>00:00</td>\n",
              "    </tr>\n",
              "    <tr>\n",
              "      <td>48</td>\n",
              "      <td>0.000067</td>\n",
              "      <td>0.000013</td>\n",
              "      <td>0.003563</td>\n",
              "      <td>00:00</td>\n",
              "    </tr>\n",
              "    <tr>\n",
              "      <td>49</td>\n",
              "      <td>0.000091</td>\n",
              "      <td>0.000004</td>\n",
              "      <td>0.002065</td>\n",
              "      <td>00:00</td>\n",
              "    </tr>\n",
              "    <tr>\n",
              "      <td>50</td>\n",
              "      <td>0.000073</td>\n",
              "      <td>0.000029</td>\n",
              "      <td>0.005364</td>\n",
              "      <td>00:00</td>\n",
              "    </tr>\n",
              "    <tr>\n",
              "      <td>51</td>\n",
              "      <td>0.000065</td>\n",
              "      <td>0.000080</td>\n",
              "      <td>0.008943</td>\n",
              "      <td>00:00</td>\n",
              "    </tr>\n",
              "    <tr>\n",
              "      <td>52</td>\n",
              "      <td>0.000062</td>\n",
              "      <td>0.000013</td>\n",
              "      <td>0.003543</td>\n",
              "      <td>00:00</td>\n",
              "    </tr>\n",
              "    <tr>\n",
              "      <td>53</td>\n",
              "      <td>0.000076</td>\n",
              "      <td>0.000004</td>\n",
              "      <td>0.002053</td>\n",
              "      <td>00:00</td>\n",
              "    </tr>\n",
              "    <tr>\n",
              "      <td>54</td>\n",
              "      <td>0.000072</td>\n",
              "      <td>0.000034</td>\n",
              "      <td>0.005844</td>\n",
              "      <td>00:00</td>\n",
              "    </tr>\n",
              "    <tr>\n",
              "      <td>55</td>\n",
              "      <td>0.000078</td>\n",
              "      <td>0.000053</td>\n",
              "      <td>0.007306</td>\n",
              "      <td>00:00</td>\n",
              "    </tr>\n",
              "    <tr>\n",
              "      <td>56</td>\n",
              "      <td>0.000077</td>\n",
              "      <td>0.000013</td>\n",
              "      <td>0.003672</td>\n",
              "      <td>00:00</td>\n",
              "    </tr>\n",
              "    <tr>\n",
              "      <td>57</td>\n",
              "      <td>0.000058</td>\n",
              "      <td>0.000015</td>\n",
              "      <td>0.003865</td>\n",
              "      <td>00:00</td>\n",
              "    </tr>\n",
              "    <tr>\n",
              "      <td>58</td>\n",
              "      <td>0.000057</td>\n",
              "      <td>0.000083</td>\n",
              "      <td>0.009100</td>\n",
              "      <td>00:00</td>\n",
              "    </tr>\n",
              "    <tr>\n",
              "      <td>59</td>\n",
              "      <td>0.000093</td>\n",
              "      <td>0.000175</td>\n",
              "      <td>0.013237</td>\n",
              "      <td>00:00</td>\n",
              "    </tr>\n",
              "    <tr>\n",
              "      <td>60</td>\n",
              "      <td>0.000063</td>\n",
              "      <td>0.000006</td>\n",
              "      <td>0.002519</td>\n",
              "      <td>00:00</td>\n",
              "    </tr>\n",
              "    <tr>\n",
              "      <td>61</td>\n",
              "      <td>0.000051</td>\n",
              "      <td>0.000004</td>\n",
              "      <td>0.001939</td>\n",
              "      <td>00:00</td>\n",
              "    </tr>\n",
              "    <tr>\n",
              "      <td>62</td>\n",
              "      <td>0.000055</td>\n",
              "      <td>0.000024</td>\n",
              "      <td>0.004883</td>\n",
              "      <td>00:00</td>\n",
              "    </tr>\n",
              "    <tr>\n",
              "      <td>63</td>\n",
              "      <td>0.000066</td>\n",
              "      <td>0.000066</td>\n",
              "      <td>0.008114</td>\n",
              "      <td>00:00</td>\n",
              "    </tr>\n",
              "    <tr>\n",
              "      <td>64</td>\n",
              "      <td>0.000065</td>\n",
              "      <td>0.000018</td>\n",
              "      <td>0.004297</td>\n",
              "      <td>00:00</td>\n",
              "    </tr>\n",
              "    <tr>\n",
              "      <td>65</td>\n",
              "      <td>0.000058</td>\n",
              "      <td>0.000008</td>\n",
              "      <td>0.002849</td>\n",
              "      <td>00:00</td>\n",
              "    </tr>\n",
              "    <tr>\n",
              "      <td>66</td>\n",
              "      <td>0.000055</td>\n",
              "      <td>0.000006</td>\n",
              "      <td>0.002523</td>\n",
              "      <td>00:00</td>\n",
              "    </tr>\n",
              "    <tr>\n",
              "      <td>67</td>\n",
              "      <td>0.000054</td>\n",
              "      <td>0.000016</td>\n",
              "      <td>0.003955</td>\n",
              "      <td>00:00</td>\n",
              "    </tr>\n",
              "    <tr>\n",
              "      <td>68</td>\n",
              "      <td>0.000050</td>\n",
              "      <td>0.000017</td>\n",
              "      <td>0.004128</td>\n",
              "      <td>00:00</td>\n",
              "    </tr>\n",
              "    <tr>\n",
              "      <td>69</td>\n",
              "      <td>0.000051</td>\n",
              "      <td>0.000004</td>\n",
              "      <td>0.001966</td>\n",
              "      <td>00:00</td>\n",
              "    </tr>\n",
              "    <tr>\n",
              "      <td>70</td>\n",
              "      <td>0.000041</td>\n",
              "      <td>0.000009</td>\n",
              "      <td>0.003004</td>\n",
              "      <td>00:00</td>\n",
              "    </tr>\n",
              "    <tr>\n",
              "      <td>71</td>\n",
              "      <td>0.000043</td>\n",
              "      <td>0.000017</td>\n",
              "      <td>0.004157</td>\n",
              "      <td>00:00</td>\n",
              "    </tr>\n",
              "    <tr>\n",
              "      <td>72</td>\n",
              "      <td>0.000053</td>\n",
              "      <td>0.000007</td>\n",
              "      <td>0.002596</td>\n",
              "      <td>00:00</td>\n",
              "    </tr>\n",
              "    <tr>\n",
              "      <td>73</td>\n",
              "      <td>0.000044</td>\n",
              "      <td>0.000014</td>\n",
              "      <td>0.003805</td>\n",
              "      <td>00:00</td>\n",
              "    </tr>\n",
              "    <tr>\n",
              "      <td>74</td>\n",
              "      <td>0.000040</td>\n",
              "      <td>0.000011</td>\n",
              "      <td>0.003345</td>\n",
              "      <td>00:00</td>\n",
              "    </tr>\n",
              "    <tr>\n",
              "      <td>75</td>\n",
              "      <td>0.000038</td>\n",
              "      <td>0.000015</td>\n",
              "      <td>0.003922</td>\n",
              "      <td>00:00</td>\n",
              "    </tr>\n",
              "    <tr>\n",
              "      <td>76</td>\n",
              "      <td>0.000038</td>\n",
              "      <td>0.000011</td>\n",
              "      <td>0.003254</td>\n",
              "      <td>00:00</td>\n",
              "    </tr>\n",
              "    <tr>\n",
              "      <td>77</td>\n",
              "      <td>0.000041</td>\n",
              "      <td>0.000005</td>\n",
              "      <td>0.002296</td>\n",
              "      <td>00:00</td>\n",
              "    </tr>\n",
              "    <tr>\n",
              "      <td>78</td>\n",
              "      <td>0.000039</td>\n",
              "      <td>0.000005</td>\n",
              "      <td>0.002131</td>\n",
              "      <td>00:01</td>\n",
              "    </tr>\n",
              "    <tr>\n",
              "      <td>79</td>\n",
              "      <td>0.000042</td>\n",
              "      <td>0.000020</td>\n",
              "      <td>0.004464</td>\n",
              "      <td>00:00</td>\n",
              "    </tr>\n",
              "    <tr>\n",
              "      <td>80</td>\n",
              "      <td>0.000044</td>\n",
              "      <td>0.000005</td>\n",
              "      <td>0.002296</td>\n",
              "      <td>00:00</td>\n",
              "    </tr>\n",
              "    <tr>\n",
              "      <td>81</td>\n",
              "      <td>0.000045</td>\n",
              "      <td>0.000024</td>\n",
              "      <td>0.004896</td>\n",
              "      <td>00:01</td>\n",
              "    </tr>\n",
              "    <tr>\n",
              "      <td>82</td>\n",
              "      <td>0.000045</td>\n",
              "      <td>0.000005</td>\n",
              "      <td>0.002147</td>\n",
              "      <td>00:00</td>\n",
              "    </tr>\n",
              "    <tr>\n",
              "      <td>83</td>\n",
              "      <td>0.000038</td>\n",
              "      <td>0.000005</td>\n",
              "      <td>0.002138</td>\n",
              "      <td>00:00</td>\n",
              "    </tr>\n",
              "    <tr>\n",
              "      <td>84</td>\n",
              "      <td>0.000042</td>\n",
              "      <td>0.000022</td>\n",
              "      <td>0.004638</td>\n",
              "      <td>00:00</td>\n",
              "    </tr>\n",
              "    <tr>\n",
              "      <td>85</td>\n",
              "      <td>0.000035</td>\n",
              "      <td>0.000009</td>\n",
              "      <td>0.002994</td>\n",
              "      <td>00:00</td>\n",
              "    </tr>\n",
              "    <tr>\n",
              "      <td>86</td>\n",
              "      <td>0.000037</td>\n",
              "      <td>0.000004</td>\n",
              "      <td>0.002100</td>\n",
              "      <td>00:00</td>\n",
              "    </tr>\n",
              "    <tr>\n",
              "      <td>87</td>\n",
              "      <td>0.000041</td>\n",
              "      <td>0.000006</td>\n",
              "      <td>0.002531</td>\n",
              "      <td>00:00</td>\n",
              "    </tr>\n",
              "    <tr>\n",
              "      <td>88</td>\n",
              "      <td>0.000033</td>\n",
              "      <td>0.000007</td>\n",
              "      <td>0.002689</td>\n",
              "      <td>00:00</td>\n",
              "    </tr>\n",
              "    <tr>\n",
              "      <td>89</td>\n",
              "      <td>0.000029</td>\n",
              "      <td>0.000008</td>\n",
              "      <td>0.002787</td>\n",
              "      <td>00:00</td>\n",
              "    </tr>\n",
              "    <tr>\n",
              "      <td>90</td>\n",
              "      <td>0.000032</td>\n",
              "      <td>0.000007</td>\n",
              "      <td>0.002644</td>\n",
              "      <td>00:00</td>\n",
              "    </tr>\n",
              "    <tr>\n",
              "      <td>91</td>\n",
              "      <td>0.000033</td>\n",
              "      <td>0.000005</td>\n",
              "      <td>0.002220</td>\n",
              "      <td>00:01</td>\n",
              "    </tr>\n",
              "    <tr>\n",
              "      <td>92</td>\n",
              "      <td>0.000033</td>\n",
              "      <td>0.000007</td>\n",
              "      <td>0.002588</td>\n",
              "      <td>00:01</td>\n",
              "    </tr>\n",
              "    <tr>\n",
              "      <td>93</td>\n",
              "      <td>0.000031</td>\n",
              "      <td>0.000006</td>\n",
              "      <td>0.002397</td>\n",
              "      <td>00:00</td>\n",
              "    </tr>\n",
              "    <tr>\n",
              "      <td>94</td>\n",
              "      <td>0.000031</td>\n",
              "      <td>0.000007</td>\n",
              "      <td>0.002662</td>\n",
              "      <td>00:00</td>\n",
              "    </tr>\n",
              "    <tr>\n",
              "      <td>95</td>\n",
              "      <td>0.000031</td>\n",
              "      <td>0.000008</td>\n",
              "      <td>0.002818</td>\n",
              "      <td>00:00</td>\n",
              "    </tr>\n",
              "    <tr>\n",
              "      <td>96</td>\n",
              "      <td>0.000030</td>\n",
              "      <td>0.000008</td>\n",
              "      <td>0.002815</td>\n",
              "      <td>00:00</td>\n",
              "    </tr>\n",
              "    <tr>\n",
              "      <td>97</td>\n",
              "      <td>0.000028</td>\n",
              "      <td>0.000005</td>\n",
              "      <td>0.002343</td>\n",
              "      <td>00:00</td>\n",
              "    </tr>\n",
              "    <tr>\n",
              "      <td>98</td>\n",
              "      <td>0.000029</td>\n",
              "      <td>0.000005</td>\n",
              "      <td>0.002322</td>\n",
              "      <td>00:01</td>\n",
              "    </tr>\n",
              "    <tr>\n",
              "      <td>99</td>\n",
              "      <td>0.000028</td>\n",
              "      <td>0.000006</td>\n",
              "      <td>0.002538</td>\n",
              "      <td>00:01</td>\n",
              "    </tr>\n",
              "  </tbody>\n",
              "</table>"
            ],
            "text/plain": [
              "<IPython.core.display.HTML object>"
            ]
          },
          "metadata": {}
        },
        {
          "output_type": "stream",
          "name": "stdout",
          "text": [
            "Better model found at epoch 0 with valid_loss value: 0.008198380470275879.\n",
            "Better model found at epoch 1 with valid_loss value: 0.0039492445066571236.\n",
            "Better model found at epoch 2 with valid_loss value: 0.0025399483274668455.\n",
            "Better model found at epoch 3 with valid_loss value: 0.0018649715930223465.\n",
            "Better model found at epoch 4 with valid_loss value: 0.0011248566443100572.\n",
            "Better model found at epoch 5 with valid_loss value: 0.0007488356786780059.\n",
            "Better model found at epoch 8 with valid_loss value: 0.0005693563143722713.\n",
            "Better model found at epoch 9 with valid_loss value: 0.00046735111391171813.\n",
            "Better model found at epoch 10 with valid_loss value: 0.00022449949756264687.\n",
            "Better model found at epoch 11 with valid_loss value: 0.00016955562750808895.\n",
            "Better model found at epoch 12 with valid_loss value: 5.7857261708704755e-05.\n",
            "Better model found at epoch 18 with valid_loss value: 2.9198930860729888e-05.\n",
            "Better model found at epoch 23 with valid_loss value: 2.268754724354949e-05.\n",
            "Better model found at epoch 24 with valid_loss value: 1.4139332961349282e-05.\n",
            "Better model found at epoch 25 with valid_loss value: 1.3659971955348738e-05.\n",
            "Better model found at epoch 27 with valid_loss value: 1.2485065781220328e-05.\n",
            "Better model found at epoch 34 with valid_loss value: 9.179119842883665e-06.\n",
            "Better model found at epoch 36 with valid_loss value: 5.491367119248025e-06.\n",
            "Better model found at epoch 49 with valid_loss value: 4.26290716859512e-06.\n",
            "Better model found at epoch 53 with valid_loss value: 4.216102752252482e-06.\n",
            "Better model found at epoch 61 with valid_loss value: 3.7602496831823373e-06.\n"
          ]
        }
      ],
      "source": [
        "learn.fit_one_cycle(100, 0.03)"
      ]
    },
    {
      "cell_type": "code",
      "execution_count": 60,
      "metadata": {
        "colab": {
          "base_uri": "https://localhost:8080/",
          "height": 17
        },
        "id": "wqfze-BU27il",
        "outputId": "6e6a886d-7316-4a31-9893-f6696ec07ca8"
      },
      "outputs": [
        {
          "output_type": "display_data",
          "data": {
            "text/html": [
              ""
            ],
            "text/plain": [
              "<IPython.core.display.HTML object>"
            ]
          },
          "metadata": {}
        }
      ],
      "source": [
        "preds, targs = learn.get_preds(dl=dls.valid)"
      ]
    },
    {
      "cell_type": "code",
      "execution_count": 61,
      "metadata": {
        "colab": {
          "base_uri": "https://localhost:8080/"
        },
        "id": "3ByepaBE3L_0",
        "outputId": "cc99eb93-4ccf-4f98-beeb-4c7bf636dcbd"
      },
      "outputs": [
        {
          "output_type": "stream",
          "name": "stdout",
          "text": [
            "fastai TabModel using n_timepoints : 0.868915958923015\n"
          ]
        }
      ],
      "source": [
        "print(\"fastai TabModel using n_timepoints\",\":\",r2_score(preds.numpy(), targs.numpy()))"
      ]
    },
    {
      "cell_type": "markdown",
      "metadata": {
        "id": "Dxj7BSrIRkAr"
      },
      "source": [
        "## LSTM"
      ]
    },
    {
      "cell_type": "code",
      "source": [
        "#https://towardsdatascience.com/building-rnn-lstm-and-gru-for-time-series-using-pytorch-a46e5b094e7b"
      ],
      "metadata": {
        "id": "EBOAwSYwBtwF"
      },
      "execution_count": null,
      "outputs": []
    },
    {
      "cell_type": "code",
      "execution_count": 76,
      "metadata": {
        "id": "d9oimUgHRlC7"
      },
      "outputs": [],
      "source": [
        "from torch.utils.data import Dataset"
      ]
    },
    {
      "cell_type": "code",
      "execution_count": 110,
      "metadata": {
        "id": "KgGN6CNvlhhe"
      },
      "outputs": [],
      "source": [
        "class LSTMDataset(Dataset):\n",
        "    def __init__(self, df, \n",
        "                 n_timepoints=n_sequence, \n",
        "                 targetcol=target_token, \n",
        "                 numfeatpertimepoint=len(feature_cols)):\n",
        "        self.df = df.items.reset_index(drop=True)\n",
        "        self.n_sequence = n_sequence\n",
        "        self.numfeatures = numfeatpertimepoint\n",
        "        self.targetcol = f'{target_token}_Target'\n",
        "\n",
        "    def __len__(self):\n",
        "        return len(self.df)\n",
        "\n",
        "    def __getitem__(self, index):\n",
        "        row = self.df.loc[index,:]\n",
        "        target = tensor(row[self.targetcol])\n",
        "        features = [tensor(list(row[i*self.numfeatures:(i*self.numfeatures+self.numfeatures)].values)) for i in range(self.n_sequence)]\n",
        "        features = torch.stack(features)\n",
        "        return (features, target)"
      ]
    },
    {
      "cell_type": "code",
      "execution_count": 111,
      "metadata": {
        "id": "3_uGT1Ox4icP"
      },
      "outputs": [],
      "source": [
        "train_dset = LSTMDataset(to.train)\n",
        "valid_dset = LSTMDataset(to.valid)"
      ]
    },
    {
      "cell_type": "code",
      "execution_count": 112,
      "metadata": {
        "id": "b8cABxIe4sU7"
      },
      "outputs": [],
      "source": [
        "dls = DataLoaders.from_dsets(train_dset, valid_dset, bs=128)"
      ]
    },
    {
      "cell_type": "code",
      "execution_count": 113,
      "metadata": {
        "colab": {
          "base_uri": "https://localhost:8080/"
        },
        "id": "ppWKo_EN40TF",
        "outputId": "fd7e2512-5736-45f5-a763-94a61455a568"
      },
      "outputs": [
        {
          "output_type": "execute_result",
          "data": {
            "text/plain": [
              "(tensor([[[-0.9310, -0.9224,  1.1617,  ...,  0.7311,  0.8004,  0.2496],\n",
              "          [-0.9302, -0.9213,  1.1721,  ...,  0.7312,  0.8003,  0.2493],\n",
              "          [-0.9300, -0.9210,  1.1732,  ...,  0.7295,  0.8012,  0.2520]],\n",
              " \n",
              "         [[ 2.3163,  2.3261, -1.5246,  ...,  1.0872,  0.1673, -1.0529],\n",
              "          [ 2.3017,  2.3107, -1.5247,  ...,  1.0991,  0.1670, -1.0605],\n",
              "          [ 2.2292,  2.2342, -1.5260,  ...,  1.0867,  0.1668, -1.0530]],\n",
              " \n",
              "         [[-1.0576, -1.1116, -0.0396,  ...,  0.7791,  0.1289, -0.5385],\n",
              "          [-1.0575, -1.1115, -0.0399,  ...,  0.7790,  0.1286, -0.5387],\n",
              "          [-1.0573, -1.1113, -0.0402,  ...,  0.7788,  0.1283, -0.5388]],\n",
              " \n",
              "         ...,\n",
              " \n",
              "         [[-0.9847, -1.0049,  1.2630,  ...,  0.3864,  0.4924,  0.2603],\n",
              "          [-0.9839, -1.0039,  1.2625,  ...,  0.3829,  0.4922,  0.2641],\n",
              "          [-0.9838, -1.0037,  1.2622,  ...,  0.3804,  0.4920,  0.2665]],\n",
              " \n",
              "         [[ 0.1321,  0.1139,  0.6783,  ..., -0.2942,  0.2285,  0.8579],\n",
              "          [ 0.1321,  0.1140,  0.6781,  ..., -0.2938,  0.2284,  0.8569],\n",
              "          [ 0.1312,  0.1131,  0.6777,  ..., -0.2931,  0.2288,  0.8561]],\n",
              " \n",
              "         [[ 0.5588,  0.5444,  0.0506,  ...,  1.7180,  1.2434, -0.4989],\n",
              "          [ 0.5708,  0.5560,  0.0513,  ...,  1.7120,  1.2397, -0.4984],\n",
              "          [ 0.5751,  0.5602,  0.0512,  ...,  1.7117,  1.2396, -0.4983]]]),\n",
              " tensor([0.0433, 0.1523, 0.0391, 0.0967, 0.0436, 0.0764, 0.0417, 0.0879, 0.0950,\n",
              "         0.1512, 0.0737, 0.0767, 0.0990, 0.0431, 0.0411, 0.0416, 0.0411, 0.0418,\n",
              "         0.0705, 0.0785, 0.1423, 0.0419, 0.1351, 0.0576, 0.0421, 0.0432, 0.1181,\n",
              "         0.0387, 0.0555, 0.1409, 0.0533, 0.0753, 0.1660, 0.0416, 0.0817, 0.0814,\n",
              "         0.0457, 0.0454, 0.0951, 0.0798, 0.0387, 0.0756, 0.0696, 0.0727, 0.0420,\n",
              "         0.0439, 0.0417, 0.1005, 0.0591, 0.0969, 0.0739, 0.0387, 0.0421, 0.0763,\n",
              "         0.0957, 0.0762, 0.0441, 0.0457, 0.1158, 0.0414, 0.0525, 0.1497, 0.0959,\n",
              "         0.0466, 0.0553, 0.1354, 0.0388, 0.0752, 0.0441, 0.0415, 0.0391, 0.0486,\n",
              "         0.1423, 0.0417, 0.1057, 0.0431, 0.0439, 0.0752, 0.1059, 0.0639, 0.0514,\n",
              "         0.0550, 0.1021, 0.0955, 0.0433, 0.0857, 0.0462, 0.0970, 0.0559, 0.1077,\n",
              "         0.1157, 0.0817, 0.0728, 0.0435, 0.0433, 0.0700, 0.0464, 0.0811, 0.0651,\n",
              "         0.1038, 0.0439, 0.0417, 0.1027, 0.0466, 0.0433, 0.0988, 0.1491, 0.0480,\n",
              "         0.0438, 0.0405, 0.1531, 0.1151, 0.1017, 0.0783, 0.1187, 0.0388, 0.0811,\n",
              "         0.0408, 0.0878, 0.1218, 0.1038, 0.0417, 0.1015, 0.0667, 0.0809, 0.0415,\n",
              "         0.0787, 0.0941]))"
            ]
          },
          "metadata": {},
          "execution_count": 113
        }
      ],
      "source": [
        "dls.one_batch()"
      ]
    },
    {
      "cell_type": "code",
      "source": [
        "input_size = len(feature_cols)\n",
        "sequence_length = n_sequence\n",
        "num_layers = 2\n",
        "hidden_size = 128"
      ],
      "metadata": {
        "id": "rq3Wr_amB13t"
      },
      "execution_count": 114,
      "outputs": []
    },
    {
      "cell_type": "code",
      "source": [
        "class LSTMModel(nn.Module):\n",
        "    def __init__(self, input_size, hidden_size, num_layers=2, num_classes=1):\n",
        "        super(LSTMModel, self).__init__()\n",
        "        self.hidden_size = hidden_size\n",
        "        self.num_layers = num_layers\n",
        "        self.lstm = nn.LSTM(input_size, hidden_size, num_layers, batch_first=True)\n",
        "        self.fc = nn.Linear(hidden_size, num_classes)\n",
        "\n",
        "\n",
        "    def forward(self, x):\n",
        "        h0 = torch.zeros(self.num_layers, x.size(0), self.hidden_size).requires_grad_()\n",
        "        c0 = torch.zeros(self.num_layers, x.size(0), self.hidden_size).requires_grad_()\n",
        "\n",
        "        out, (hn, cn) = self.lstm(x, (h0.detach(), c0.detach()))\n",
        "        out = out[:, -1, :]\n",
        "        out = self.fc(out)\n",
        "\n",
        "        return out"
      ],
      "metadata": {
        "id": "14Q7JBimBNUU"
      },
      "execution_count": 115,
      "outputs": []
    },
    {
      "cell_type": "code",
      "source": [
        "model = LSTMModel(input_size, hidden_size)"
      ],
      "metadata": {
        "id": "q8yuaV11CsR9"
      },
      "execution_count": 116,
      "outputs": []
    },
    {
      "cell_type": "code",
      "source": [
        "sm = SaveModelCallback(fname='scope2_lstm')\n",
        "learn = Learner(dls, model, loss_func=MSELossFlat(), metrics=rmse, cbs=sm)"
      ],
      "metadata": {
        "id": "xEZEcni9CxP8"
      },
      "execution_count": 117,
      "outputs": []
    },
    {
      "cell_type": "code",
      "source": [
        "learn.fit_one_cycle(20, 1e-3)"
      ],
      "metadata": {
        "colab": {
          "base_uri": "https://localhost:8080/",
          "height": 822
        },
        "id": "Q7KjocVaC859",
        "outputId": "7ed322e0-9f3e-4d80-c5b5-6b57ba48a69f"
      },
      "execution_count": 118,
      "outputs": [
        {
          "output_type": "display_data",
          "data": {
            "text/html": [
              "<table border=\"1\" class=\"dataframe\">\n",
              "  <thead>\n",
              "    <tr style=\"text-align: left;\">\n",
              "      <th>epoch</th>\n",
              "      <th>train_loss</th>\n",
              "      <th>valid_loss</th>\n",
              "      <th>_rmse</th>\n",
              "      <th>time</th>\n",
              "    </tr>\n",
              "  </thead>\n",
              "  <tbody>\n",
              "    <tr>\n",
              "      <td>0</td>\n",
              "      <td>0.003493</td>\n",
              "      <td>0.000132</td>\n",
              "      <td>0.011481</td>\n",
              "      <td>00:09</td>\n",
              "    </tr>\n",
              "    <tr>\n",
              "      <td>1</td>\n",
              "      <td>0.000755</td>\n",
              "      <td>0.000077</td>\n",
              "      <td>0.008779</td>\n",
              "      <td>00:09</td>\n",
              "    </tr>\n",
              "    <tr>\n",
              "      <td>2</td>\n",
              "      <td>0.000186</td>\n",
              "      <td>0.000012</td>\n",
              "      <td>0.003518</td>\n",
              "      <td>00:09</td>\n",
              "    </tr>\n",
              "    <tr>\n",
              "      <td>3</td>\n",
              "      <td>0.000062</td>\n",
              "      <td>0.000010</td>\n",
              "      <td>0.003117</td>\n",
              "      <td>00:09</td>\n",
              "    </tr>\n",
              "    <tr>\n",
              "      <td>4</td>\n",
              "      <td>0.000038</td>\n",
              "      <td>0.000012</td>\n",
              "      <td>0.003402</td>\n",
              "      <td>00:09</td>\n",
              "    </tr>\n",
              "    <tr>\n",
              "      <td>5</td>\n",
              "      <td>0.000028</td>\n",
              "      <td>0.000007</td>\n",
              "      <td>0.002726</td>\n",
              "      <td>00:09</td>\n",
              "    </tr>\n",
              "    <tr>\n",
              "      <td>6</td>\n",
              "      <td>0.000029</td>\n",
              "      <td>0.000005</td>\n",
              "      <td>0.002275</td>\n",
              "      <td>00:09</td>\n",
              "    </tr>\n",
              "    <tr>\n",
              "      <td>7</td>\n",
              "      <td>0.000031</td>\n",
              "      <td>0.000008</td>\n",
              "      <td>0.002860</td>\n",
              "      <td>00:09</td>\n",
              "    </tr>\n",
              "    <tr>\n",
              "      <td>8</td>\n",
              "      <td>0.000030</td>\n",
              "      <td>0.000005</td>\n",
              "      <td>0.002297</td>\n",
              "      <td>00:09</td>\n",
              "    </tr>\n",
              "    <tr>\n",
              "      <td>9</td>\n",
              "      <td>0.000025</td>\n",
              "      <td>0.000007</td>\n",
              "      <td>0.002607</td>\n",
              "      <td>00:09</td>\n",
              "    </tr>\n",
              "    <tr>\n",
              "      <td>10</td>\n",
              "      <td>0.000027</td>\n",
              "      <td>0.000008</td>\n",
              "      <td>0.002829</td>\n",
              "      <td>00:09</td>\n",
              "    </tr>\n",
              "    <tr>\n",
              "      <td>11</td>\n",
              "      <td>0.000031</td>\n",
              "      <td>0.000009</td>\n",
              "      <td>0.002960</td>\n",
              "      <td>00:09</td>\n",
              "    </tr>\n",
              "    <tr>\n",
              "      <td>12</td>\n",
              "      <td>0.000028</td>\n",
              "      <td>0.000008</td>\n",
              "      <td>0.002875</td>\n",
              "      <td>00:09</td>\n",
              "    </tr>\n",
              "    <tr>\n",
              "      <td>13</td>\n",
              "      <td>0.000028</td>\n",
              "      <td>0.000008</td>\n",
              "      <td>0.002854</td>\n",
              "      <td>00:09</td>\n",
              "    </tr>\n",
              "    <tr>\n",
              "      <td>14</td>\n",
              "      <td>0.000027</td>\n",
              "      <td>0.000007</td>\n",
              "      <td>0.002569</td>\n",
              "      <td>00:09</td>\n",
              "    </tr>\n",
              "    <tr>\n",
              "      <td>15</td>\n",
              "      <td>0.000027</td>\n",
              "      <td>0.000005</td>\n",
              "      <td>0.002231</td>\n",
              "      <td>00:09</td>\n",
              "    </tr>\n",
              "    <tr>\n",
              "      <td>16</td>\n",
              "      <td>0.000030</td>\n",
              "      <td>0.000005</td>\n",
              "      <td>0.002156</td>\n",
              "      <td>00:09</td>\n",
              "    </tr>\n",
              "    <tr>\n",
              "      <td>17</td>\n",
              "      <td>0.000026</td>\n",
              "      <td>0.000007</td>\n",
              "      <td>0.002554</td>\n",
              "      <td>00:09</td>\n",
              "    </tr>\n",
              "    <tr>\n",
              "      <td>18</td>\n",
              "      <td>0.000026</td>\n",
              "      <td>0.000005</td>\n",
              "      <td>0.002205</td>\n",
              "      <td>00:09</td>\n",
              "    </tr>\n",
              "    <tr>\n",
              "      <td>19</td>\n",
              "      <td>0.000024</td>\n",
              "      <td>0.000005</td>\n",
              "      <td>0.002216</td>\n",
              "      <td>00:09</td>\n",
              "    </tr>\n",
              "  </tbody>\n",
              "</table>"
            ],
            "text/plain": [
              "<IPython.core.display.HTML object>"
            ]
          },
          "metadata": {}
        },
        {
          "output_type": "stream",
          "name": "stdout",
          "text": [
            "Better model found at epoch 0 with valid_loss value: 0.00013181843678466976.\n",
            "Better model found at epoch 1 with valid_loss value: 7.707839540671557e-05.\n",
            "Better model found at epoch 2 with valid_loss value: 1.2375814549159259e-05.\n",
            "Better model found at epoch 3 with valid_loss value: 9.716943168314174e-06.\n",
            "Better model found at epoch 5 with valid_loss value: 7.4312533797638025e-06.\n",
            "Better model found at epoch 6 with valid_loss value: 5.1739079935941845e-06.\n",
            "Better model found at epoch 15 with valid_loss value: 4.975192950951168e-06.\n",
            "Better model found at epoch 16 with valid_loss value: 4.648171852750238e-06.\n"
          ]
        }
      ]
    },
    {
      "cell_type": "code",
      "source": [
        "preds, targs = learn.get_preds(dl=dls.valid)"
      ],
      "metadata": {
        "colab": {
          "base_uri": "https://localhost:8080/",
          "height": 17
        },
        "id": "wbgj0F79DZrF",
        "outputId": "d65c0518-c196-4a39-d483-9c3a233fd37b"
      },
      "execution_count": 119,
      "outputs": [
        {
          "output_type": "display_data",
          "data": {
            "text/html": [
              ""
            ],
            "text/plain": [
              "<IPython.core.display.HTML object>"
            ]
          },
          "metadata": {}
        }
      ]
    },
    {
      "cell_type": "code",
      "source": [
        "print(\"Scope 2 LSTM Model\",\":\",r2_score(preds.numpy(), targs.numpy()))"
      ],
      "metadata": {
        "colab": {
          "base_uri": "https://localhost:8080/"
        },
        "id": "rf3hyqWJDxro",
        "outputId": "ba7d4ca9-e9fc-4c81-9f40-39aa211ff7b0"
      },
      "execution_count": 120,
      "outputs": [
        {
          "output_type": "stream",
          "name": "stdout",
          "text": [
            "Scope 2 LSTM Model : 0.8303779789508886\n"
          ]
        }
      ]
    },
    {
      "cell_type": "markdown",
      "metadata": {
        "id": "4AR7lMB2RmGz"
      },
      "source": [
        "## TabNet/SAINT"
      ]
    },
    {
      "cell_type": "code",
      "execution_count": null,
      "metadata": {
        "id": "R-mdfumORofo"
      },
      "outputs": [],
      "source": [
        ""
      ]
    }
  ],
  "metadata": {
    "colab": {
      "collapsed_sections": [
        "k6gB5yqbIg-h"
      ],
      "name": "VG_01_compound_data_v2.ipynb",
      "provenance": []
    },
    "kernelspec": {
      "display_name": "Python 3",
      "name": "python3"
    },
    "language_info": {
      "name": "python"
    }
  },
  "nbformat": 4,
  "nbformat_minor": 0
}
