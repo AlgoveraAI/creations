{
 "cells": [
  {
   "cell_type": "code",
   "execution_count": null,
   "metadata": {},
   "outputs": [],
   "source": [
    "import gdrivefs\n",
    "# use this the first time you run\n",
    "token = 'browser'\n",
    "# use this on subsequent attempts\n",
    "#token = 'cache'\n",
    "\n",
    "# shareable link to folder generated with\n",
    "# https://drive.google.com/open?id=1FQzXM2E28WF6fV7vy1K7HdxNV-w6z_Wx\n",
    "root_file_id = '1FQzXM2E28WF6fV7vy1K7HdxNV-w6z_Wx'\n",
    "\n",
    "gdfs = gdrivefs.GoogleDriveFileSystem(token=token, root_file_id=root_file_id)\n",
    "gdfs"
   ]
  }
 ],
 "metadata": {
  "kernelspec": {
   "display_name": "Python 3",
   "language": "python",
   "name": "python3"
  },
  "language_info": {
   "codemirror_mode": {
    "name": "ipython",
    "version": 3
   },
   "file_extension": ".py",
   "mimetype": "text/x-python",
   "name": "python",
   "nbconvert_exporter": "python",
   "pygments_lexer": "ipython3",
   "version": "3.8.3"
  }
 },
 "nbformat": 4,
 "nbformat_minor": 5
}
