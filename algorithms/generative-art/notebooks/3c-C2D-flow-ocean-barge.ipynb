{
 "cells": [
  {
   "cell_type": "markdown",
   "id": "1241ea89",
   "metadata": {},
   "source": [
    "Converted from the ocean.py C2D flow example [here](https://github.com/oceanprotocol/ocean.py/blob/main/READMEs/c2d-flow.md). Our example uses the Rinkeby test net instead of a local blockchain (using barge and ganache)."
   ]
  },
  {
   "cell_type": "markdown",
   "id": "ea06c399",
   "metadata": {},
   "source": [
    "### Set envvars\n",
    "\n",
    "In the work console:\n",
    "```console\n",
    "#set private keys of two accounts\n",
    "export TEST_PRIVATE_KEY1=0x5d75837394b078ce97bc289fa8d75e21000573520bfa7784a9d28ccaae602bf8\n",
    "export TEST_PRIVATE_KEY2=0xef4b441145c1d0f3b4bc6d61d29f5c6e502359481152f869247c7a4244d45209\n",
    "```"
   ]
  },
  {
   "cell_type": "code",
   "execution_count": 15,
   "id": "75056f8f",
   "metadata": {},
   "outputs": [
    {
     "name": "stdout",
     "output_type": "stream",
     "text": [
      "config.network_url = 'http://127.0.0.1:8545'\n",
      "config.block_confirmations = 0\n",
      "config.metadata_cache_uri = 'http://localhost:5000'\n",
      "config.provider_url = 'http://localhost:8030'\n"
     ]
    }
   ],
   "source": [
    "#create ocean instance\n",
    "from ocean_lib.example_config import ExampleConfig\n",
    "from ocean_lib.ocean.ocean import Ocean\n",
    "config = ExampleConfig.get_config()\n",
    "ocean = Ocean(config)\n",
    "\n",
    "print(f\"config.network_url = '{config.network_url}'\")\n",
    "print(f\"config.block_confirmations = {config.block_confirmations.value}\")\n",
    "print(f\"config.metadata_cache_uri = '{config.metadata_cache_uri}'\")\n",
    "print(f\"config.provider_url = '{config.provider_url}'\")"
   ]
  },
  {
   "cell_type": "code",
   "execution_count": 26,
   "id": "d69f9486",
   "metadata": {},
   "outputs": [
    {
     "name": "stdout",
     "output_type": "stream",
     "text": [
      "config.network_url = 'http://127.0.0.1:8545'\n",
      "config.block_confirmations = 0\n",
      "config.metadata_cache_uri = 'https://aquarius.oceanprotocol.com'\n",
      "config.provider_url = 'http://localhost:8030'\n"
     ]
    }
   ],
   "source": [
    "import _init_paths\n",
    "from ocean_lib.ocean.ocean import Ocean\n",
    "from ocean_lib.config import Config\n",
    "\n",
    "config = Config('config-barge.ini')\n",
    "ocean = Ocean(config)\n",
    "\n",
    "print(f\"config.network_url = '{config.network_url}'\")\n",
    "print(f\"config.block_confirmations = {config.block_confirmations.value}\")\n",
    "print(f\"config.metadata_cache_uri = '{config.metadata_cache_uri}'\")\n",
    "print(f\"config.provider_url = '{config.provider_url}'\")"
   ]
  },
  {
   "cell_type": "code",
   "execution_count": 27,
   "id": "8989b37c",
   "metadata": {},
   "outputs": [
    {
     "name": "stdout",
     "output_type": "stream",
     "text": [
      "alice_wallet.address = '0xA78deb2Fa79463945C247991075E2a0e98Ba7A09'\n"
     ]
    }
   ],
   "source": [
    "# Create Alice's wallet\n",
    "import os\n",
    "from ocean_lib.web3_internal.wallet import Wallet\n",
    "alice_wallet = Wallet(ocean.web3, os.getenv('TEST_PRIVATE_KEY1'), transaction_timeout=20, block_confirmations=config.block_confirmations)\n",
    "print(f\"alice_wallet.address = '{alice_wallet.address}'\")"
   ]
  },
  {
   "cell_type": "code",
   "execution_count": 28,
   "id": "cd6b54fe",
   "metadata": {},
   "outputs": [],
   "source": [
    "assert alice_wallet.web3.eth.get_balance(alice_wallet.address) > 0, \"need ETH\""
   ]
  },
  {
   "cell_type": "markdown",
   "id": "c36805c5",
   "metadata": {},
   "source": [
    "If ETH balance is low, you can request some for alice_wallet.address from the Rinkeby faucet [here](https://faucet.rinkeby.io/) (you'll need to make a tweet). "
   ]
  },
  {
   "cell_type": "markdown",
   "id": "ce0a4f3b",
   "metadata": {},
   "source": [
    "## 2. Alice publishes data asset"
   ]
  },
  {
   "cell_type": "code",
   "execution_count": 29,
   "id": "897d9692",
   "metadata": {},
   "outputs": [
    {
     "name": "stdout",
     "output_type": "stream",
     "text": [
      "DATA_datatoken.address = '0xc32aE5DD8fd9999AE38e781B244Ab31151535da3'\n"
     ]
    }
   ],
   "source": [
    "# Publish DATA datatoken, mint tokens\n",
    "from ocean_lib.web3_internal.currency import to_wei\n",
    "\n",
    "DATA_datatoken = ocean.create_data_token('DATA1', 'DATA1', alice_wallet, blob=ocean.config.metadata_cache_uri)\n",
    "DATA_datatoken.mint(alice_wallet.address, to_wei(100), alice_wallet)\n",
    "print(f\"DATA_datatoken.address = '{DATA_datatoken.address}'\")"
   ]
  },
  {
   "cell_type": "code",
   "execution_count": 30,
   "id": "9fb0b7e3",
   "metadata": {},
   "outputs": [
    {
     "name": "stdout",
     "output_type": "stream",
     "text": [
      "signing message with nonce 3: 0xc32aE5DD8fd9999AE38e781B244Ab31151535da3, account=0xA78deb2Fa79463945C247991075E2a0e98Ba7A09\n"
     ]
    },
    {
     "name": "stderr",
     "output_type": "stream",
     "text": [
      "INFO:ocean_lib.data_provider.data_service_provider:Asset urls encrypted successfully, encrypted urls str: {\"encryptedDocument\": \"0x04fcac4a0743071602ed799abd24b88e89a59d737e786cd858c5cfe7ef5137c1ba1cf69cb8123f64e25443b776b19df03b409e0add3090c7bff6d13a2f2834d235d63b3a4757a37453314f7bdbb2dbe31c1ef639f53893cc294ccf345b51e990bea189872ac85ece1ea00bf5cecf77808446950421736edbefef3c5aabed3d309928392d2468096efad4fced76169f1e9668fc3d9569577d85baf7bb404845e118743834192522fbccd9e837438c5a989d85f4a81db5dc841f043f1d29f296c958a11bafeab99eaa60ac5a3c4747bc269de1\"}, encryptedEndpoint http://localhost:8030/api/v1/services/encrypt\n",
      "INFO:ocean:Asset/ddo published on-chain successfully.\n"
     ]
    },
    {
     "name": "stdout",
     "output_type": "stream",
     "text": [
      "DATA did = 'did:op:c32aE5DD8fd9999AE38e781B244Ab31151535da3'\n"
     ]
    }
   ],
   "source": [
    "# Specify metadata & service attributes for Branin test dataset.\n",
    "# It's specified using _local_ DDO metadata format; Aquarius will convert it to remote\n",
    "# by removing `url` and adding `encryptedFiles` field.\n",
    "DATA_metadata = {\n",
    "    \"main\": {\n",
    "        \"type\": \"dataset\",\n",
    "        \"files\": [\n",
    "      {\n",
    "        \"url\": \"https://raw.githubusercontent.com/trentmc/branin/main/branin.arff\",\n",
    "        \"index\": 0,\n",
    "        \"contentType\": \"text/text\"\n",
    "      }\n",
    "    ],\n",
    "    \"name\": \"branin\", \"author\": \"Trent\", \"license\": \"CC0\",\n",
    "    \"dateCreated\": \"2019-12-28T10:55:11Z\"\n",
    "    }\n",
    "}\n",
    "DATA_service_attributes = {\n",
    "    \"main\": {\n",
    "        \"name\": \"DATA_dataAssetAccessServiceAgreement\",\n",
    "        \"creator\": alice_wallet.address,\n",
    "        \"timeout\": 3600 * 24,\n",
    "        \"datePublished\": \"2019-12-28T10:55:11Z\",\n",
    "        \"cost\": 1.0, # <don't change, this is obsolete>\n",
    "        }\n",
    "    }\n",
    "\n",
    "# Set up a service provider. We'll use this same provider for ALG\n",
    "from ocean_lib.data_provider.data_service_provider import DataServiceProvider\n",
    "provider_url = DataServiceProvider.get_url(ocean.config)\n",
    "# returns \"http://localhost:8030\"\n",
    "\n",
    "# Calc DATA service compute descriptor\n",
    "from ocean_lib.services.service import Service\n",
    "from ocean_lib.common.agreements.service_types import ServiceTypes\n",
    "DATA_compute_service = Service(\n",
    "    service_endpoint=provider_url,\n",
    "    service_type=ServiceTypes.CLOUD_COMPUTE,\n",
    "    attributes=DATA_service_attributes\n",
    ")\n",
    "\n",
    "#Publish metadata and service info on-chain\n",
    "DATA_ddo = ocean.assets.create(\n",
    "  metadata=DATA_metadata, # {\"main\" : {\"type\" : \"dataset\", ..}, ..}\n",
    "  publisher_wallet=alice_wallet,\n",
    "  services=[DATA_compute_service],\n",
    "  data_token_address=DATA_datatoken.address)\n",
    "print(f\"DATA did = '{DATA_ddo.did}'\")"
   ]
  },
  {
   "cell_type": "markdown",
   "id": "290284ae",
   "metadata": {},
   "source": [
    "## 3. Alice publishes algorithm"
   ]
  },
  {
   "cell_type": "markdown",
   "id": "3f984444",
   "metadata": {},
   "source": [
    "For this step, there are some prerequisites needed. If you want to replace the sample algorithm with an algorithm of your choosing, you will need to do some dependency management.\n",
    "You can use one of the standard [Ocean algo_dockers images](https://github.com/oceanprotocol/algo_dockers) or publish a custom docker image.\n",
    "Use the image name and tag in the `container` part of the algorithm metadata.\n",
    "This docker image needs to have basic support for dependency installation e.g. in the case of Python, OS-level library installations, pip installations etc.\n",
    "Take a look at the [Ocean tutorials](https://docs.oceanprotocol.com/tutorials/compute-to-data-algorithms/) to learn more about docker image publishing."
   ]
  },
  {
   "cell_type": "code",
   "execution_count": 31,
   "id": "d2ef0dac",
   "metadata": {},
   "outputs": [
    {
     "name": "stdout",
     "output_type": "stream",
     "text": [
      "ALG_datatoken.address = '0x23D923B1aeA38A25D00F681e5Fff1dbe55a883a8'\n",
      "signing message with nonce 4: 0x23D923B1aeA38A25D00F681e5Fff1dbe55a883a8, account=0xA78deb2Fa79463945C247991075E2a0e98Ba7A09\n"
     ]
    },
    {
     "name": "stderr",
     "output_type": "stream",
     "text": [
      "INFO:ocean_lib.data_provider.data_service_provider:Asset urls encrypted successfully, encrypted urls str: {\"encryptedDocument\": \"0x04216450a71ea5b66ed0f9053b7cefb3f2a3c4d4f36a648719075995baef7231d702a31a58be3ed2e84b4e35a4840cdfbf4def24907cf663f3501b5e189783e27944c9960415ced2de28d5c0b727686e64fbbcc5d5b558cb2e33cf765e0f4fe24e155caa79e831be3eb28fc9bf8ffb948612885ea34fe1b789a7078d5f25c349fc9f2f890859ad24aade79d522e0fff4057dbd8c8faddf5431e2b683476ce5bef30da23b2f5de374234873045136cc7c4d3c403818c55c0d8806aa03babd925e64289364d584938d2612406977\"}, encryptedEndpoint http://localhost:8030/api/v1/services/encrypt\n",
      "INFO:ocean:Asset/ddo published on-chain successfully.\n"
     ]
    },
    {
     "name": "stdout",
     "output_type": "stream",
     "text": [
      "ALG did = 'did:op:23D923B1aeA38A25D00F681e5Fff1dbe55a883a8'\n"
     ]
    }
   ],
   "source": [
    "# Publish ALG datatoken\n",
    "ALG_datatoken = ocean.create_data_token('ALG1', 'ALG1', alice_wallet, blob=ocean.config.metadata_cache_uri)\n",
    "ALG_datatoken.mint(alice_wallet.address, to_wei(100), alice_wallet)\n",
    "print(f\"ALG_datatoken.address = '{ALG_datatoken.address}'\")\n",
    "\n",
    "# Specify metadata and service attributes, for \"GPR\" algorithm script.\n",
    "# In same location as Branin test dataset. GPR = Gaussian Process Regression.\n",
    "ALG_metadata =  {\n",
    "    \"main\": {\n",
    "        \"type\": \"algorithm\",\n",
    "        \"algorithm\": {\n",
    "            \"language\": \"python\",\n",
    "            \"format\": \"docker-image\",\n",
    "            \"version\": \"0.1\",\n",
    "            \"container\": {\n",
    "              \"entrypoint\": \"python $ALGO\",\n",
    "              \"image\": \"oceanprotocol/algo_dockers\",\n",
    "              \"tag\": \"python-branin\"\n",
    "            }\n",
    "        },\n",
    "        \"files\": [\n",
    "      {\n",
    "        \"url\": \"https://raw.githubusercontent.com/trentmc/branin/main/gpr.py\",\n",
    "        \"index\": 0,\n",
    "        \"contentType\": \"text/text\",\n",
    "      }\n",
    "    ],\n",
    "    \"name\": \"gpr\", \"author\": \"Trent\", \"license\": \"CC0\",\n",
    "    \"dateCreated\": \"2020-01-28T10:55:11Z\"\n",
    "    }\n",
    "}\n",
    "ALG_service_attributes = {\n",
    "        \"main\": {\n",
    "            \"name\": \"ALG_dataAssetAccessServiceAgreement\",\n",
    "            \"creator\": alice_wallet.address,\n",
    "            \"timeout\": 3600 * 24,\n",
    "            \"datePublished\": \"2020-01-28T10:55:11Z\",\n",
    "            \"cost\": 1.0, # <don't change, this is obsolete>\n",
    "        }\n",
    "    }\n",
    "\n",
    "# Calc ALG service access descriptor. We use the same service provider as DATA\n",
    "ALG_access_service = Service(\n",
    "    service_endpoint=provider_url,\n",
    "    service_type=ServiceTypes.CLOUD_COMPUTE,\n",
    "    attributes=ALG_service_attributes\n",
    ")\n",
    "\n",
    "# Publish metadata and service info on-chain\n",
    "ALG_ddo = ocean.assets.create(\n",
    "  metadata=ALG_metadata, # {\"main\" : {\"type\" : \"algorithm\", ..}, ..}\n",
    "  publisher_wallet=alice_wallet,\n",
    "  services=[ALG_access_service],\n",
    "  data_token_address=ALG_datatoken.address)\n",
    "print(f\"ALG did = '{ALG_ddo.did}'\")"
   ]
  },
  {
   "cell_type": "markdown",
   "id": "47573179",
   "metadata": {},
   "source": [
    "Full details: [ALG_ddo](ALG_ddo.md)\n",
    "\n",
    "Please note that this example features a simple Python algorithm. If you publish an algorithm in another language, make sure you have an appropriate container to run it, including dependencies.\n",
    "You can find more information about how to do this in the [Ocean tutorials](https://docs.oceanprotocol.com/tutorials/compute-to-data-algorithms/)."
   ]
  },
  {
   "cell_type": "markdown",
   "id": "b5360225",
   "metadata": {},
   "source": [
    "## 4. Alice allows the algorithm for C2D for that data asset"
   ]
  },
  {
   "cell_type": "markdown",
   "id": "d8a8551f",
   "metadata": {},
   "source": [
    "If you try to run the following cell immediately after publish, it might fail. This may be because the asset is not yet cached when the code tries to access it from Aquarius. If this is the case, re-run it and it should work."
   ]
  },
  {
   "cell_type": "code",
   "execution_count": 36,
   "id": "293fd329",
   "metadata": {},
   "outputs": [
    {
     "data": {
      "text/plain": [
       "'did:op:c32aE5DD8fd9999AE38e781B244Ab31151535da3'"
      ]
     },
     "execution_count": 36,
     "metadata": {},
     "output_type": "execute_result"
    }
   ],
   "source": [
    "DATA_ddo.did"
   ]
  },
  {
   "cell_type": "code",
   "execution_count": null,
   "id": "3dc6c075",
   "metadata": {},
   "outputs": [],
   "source": []
  },
  {
   "cell_type": "code",
   "execution_count": 34,
   "id": "9e0ffd94",
   "metadata": {},
   "outputs": [
    {
     "ename": "TypeError",
     "evalue": "Expected type 'typing.Union[str, ocean_lib.assets.asset.V3Asset]' for attribute 'asset_or_did' but received type '<class 'NoneType'>')",
     "output_type": "error",
     "traceback": [
      "\u001b[0;31m---------------------------------------------------------------------------\u001b[0m",
      "\u001b[0;31mTypeError\u001b[0m                                 Traceback (most recent call last)",
      "\u001b[0;32m/tmp/ipykernel_13004/3143087141.py\u001b[0m in \u001b[0;36m<module>\u001b[0;34m\u001b[0m\n\u001b[1;32m      1\u001b[0m \u001b[0;32mfrom\u001b[0m \u001b[0mocean_lib\u001b[0m\u001b[0;34m.\u001b[0m\u001b[0massets\u001b[0m\u001b[0;34m.\u001b[0m\u001b[0mtrusted_algorithms\u001b[0m \u001b[0;32mimport\u001b[0m \u001b[0madd_publisher_trusted_algorithm\u001b[0m\u001b[0;34m\u001b[0m\u001b[0;34m\u001b[0m\u001b[0m\n\u001b[0;32m----> 2\u001b[0;31m \u001b[0madd_publisher_trusted_algorithm\u001b[0m\u001b[0;34m(\u001b[0m\u001b[0mDATA_ddo\u001b[0m\u001b[0;34m,\u001b[0m \u001b[0mALG_ddo\u001b[0m\u001b[0;34m.\u001b[0m\u001b[0mdid\u001b[0m\u001b[0;34m,\u001b[0m \u001b[0mconfig\u001b[0m\u001b[0;34m.\u001b[0m\u001b[0mmetadata_cache_uri\u001b[0m\u001b[0;34m)\u001b[0m\u001b[0;34m\u001b[0m\u001b[0;34m\u001b[0m\u001b[0m\n\u001b[0m\u001b[1;32m      3\u001b[0m \u001b[0mocean\u001b[0m\u001b[0;34m.\u001b[0m\u001b[0massets\u001b[0m\u001b[0;34m.\u001b[0m\u001b[0mupdate\u001b[0m\u001b[0;34m(\u001b[0m\u001b[0mDATA_ddo\u001b[0m\u001b[0;34m,\u001b[0m \u001b[0mpublisher_wallet\u001b[0m\u001b[0;34m=\u001b[0m\u001b[0malice_wallet\u001b[0m\u001b[0;34m)\u001b[0m\u001b[0;34m\u001b[0m\u001b[0;34m\u001b[0m\u001b[0m\n",
      "\u001b[0;32m~/venv/lib/python3.8/site-packages/enforce_typing/decorator.py\u001b[0m in \u001b[0;36mwrapper\u001b[0;34m(*args, **kwargs)\u001b[0m\n\u001b[1;32m     27\u001b[0m         \u001b[0;32mdef\u001b[0m \u001b[0mwrapper\u001b[0m\u001b[0;34m(\u001b[0m\u001b[0;34m*\u001b[0m\u001b[0margs\u001b[0m\u001b[0;34m,\u001b[0m \u001b[0;34m**\u001b[0m\u001b[0mkwargs\u001b[0m\u001b[0;34m)\u001b[0m\u001b[0;34m:\u001b[0m\u001b[0;34m\u001b[0m\u001b[0;34m\u001b[0m\u001b[0m\n\u001b[1;32m     28\u001b[0m             \u001b[0mcheck_types\u001b[0m\u001b[0;34m(\u001b[0m\u001b[0;34m*\u001b[0m\u001b[0margs\u001b[0m\u001b[0;34m,\u001b[0m \u001b[0;34m**\u001b[0m\u001b[0mkwargs\u001b[0m\u001b[0;34m)\u001b[0m\u001b[0;34m\u001b[0m\u001b[0;34m\u001b[0m\u001b[0m\n\u001b[0;32m---> 29\u001b[0;31m             \u001b[0;32mreturn\u001b[0m \u001b[0mfunc\u001b[0m\u001b[0;34m(\u001b[0m\u001b[0;34m*\u001b[0m\u001b[0margs\u001b[0m\u001b[0;34m,\u001b[0m \u001b[0;34m**\u001b[0m\u001b[0mkwargs\u001b[0m\u001b[0;34m)\u001b[0m\u001b[0;34m\u001b[0m\u001b[0;34m\u001b[0m\u001b[0m\n\u001b[0m\u001b[1;32m     30\u001b[0m \u001b[0;34m\u001b[0m\u001b[0m\n\u001b[1;32m     31\u001b[0m         \u001b[0;32mreturn\u001b[0m \u001b[0mwrapper\u001b[0m\u001b[0;34m\u001b[0m\u001b[0;34m\u001b[0m\u001b[0m\n",
      "\u001b[0;32m~/venv/lib/python3.8/site-packages/ocean_lib/assets/trusted_algorithms.py\u001b[0m in \u001b[0;36madd_publisher_trusted_algorithm\u001b[0;34m(asset_or_did, algo_did, metadata_cache_uri)\u001b[0m\n\u001b[1;32m     90\u001b[0m     \u001b[0;31m# now add this algo_did as trusted algo\u001b[0m\u001b[0;34m\u001b[0m\u001b[0;34m\u001b[0m\u001b[0;34m\u001b[0m\u001b[0m\n\u001b[1;32m     91\u001b[0m     \u001b[0malgo_ddo\u001b[0m \u001b[0;34m=\u001b[0m \u001b[0mresolve_asset\u001b[0m\u001b[0;34m(\u001b[0m\u001b[0malgo_did\u001b[0m\u001b[0;34m,\u001b[0m \u001b[0mmetadata_cache_uri\u001b[0m\u001b[0;34m=\u001b[0m\u001b[0mmetadata_cache_uri\u001b[0m\u001b[0;34m)\u001b[0m\u001b[0;34m\u001b[0m\u001b[0;34m\u001b[0m\u001b[0m\n\u001b[0;32m---> 92\u001b[0;31m     \u001b[0mtrusted_algos\u001b[0m\u001b[0;34m.\u001b[0m\u001b[0mappend\u001b[0m\u001b[0;34m(\u001b[0m\u001b[0mgenerate_trusted_algo_dict\u001b[0m\u001b[0;34m(\u001b[0m\u001b[0masset_or_did\u001b[0m\u001b[0;34m=\u001b[0m\u001b[0malgo_ddo\u001b[0m\u001b[0;34m)\u001b[0m\u001b[0;34m)\u001b[0m\u001b[0;34m\u001b[0m\u001b[0;34m\u001b[0m\u001b[0m\n\u001b[0m\u001b[1;32m     93\u001b[0m \u001b[0;34m\u001b[0m\u001b[0m\n\u001b[1;32m     94\u001b[0m     \u001b[0;31m# update with the new list\u001b[0m\u001b[0;34m\u001b[0m\u001b[0;34m\u001b[0m\u001b[0;34m\u001b[0m\u001b[0m\n",
      "\u001b[0;32m~/venv/lib/python3.8/site-packages/enforce_typing/decorator.py\u001b[0m in \u001b[0;36mwrapper\u001b[0;34m(*args, **kwargs)\u001b[0m\n\u001b[1;32m     26\u001b[0m         \u001b[0;34m@\u001b[0m\u001b[0mwraps\u001b[0m\u001b[0;34m(\u001b[0m\u001b[0mfunc\u001b[0m\u001b[0;34m)\u001b[0m\u001b[0;34m\u001b[0m\u001b[0;34m\u001b[0m\u001b[0m\n\u001b[1;32m     27\u001b[0m         \u001b[0;32mdef\u001b[0m \u001b[0mwrapper\u001b[0m\u001b[0;34m(\u001b[0m\u001b[0;34m*\u001b[0m\u001b[0margs\u001b[0m\u001b[0;34m,\u001b[0m \u001b[0;34m**\u001b[0m\u001b[0mkwargs\u001b[0m\u001b[0;34m)\u001b[0m\u001b[0;34m:\u001b[0m\u001b[0;34m\u001b[0m\u001b[0;34m\u001b[0m\u001b[0m\n\u001b[0;32m---> 28\u001b[0;31m             \u001b[0mcheck_types\u001b[0m\u001b[0;34m(\u001b[0m\u001b[0;34m*\u001b[0m\u001b[0margs\u001b[0m\u001b[0;34m,\u001b[0m \u001b[0;34m**\u001b[0m\u001b[0mkwargs\u001b[0m\u001b[0;34m)\u001b[0m\u001b[0;34m\u001b[0m\u001b[0;34m\u001b[0m\u001b[0m\n\u001b[0m\u001b[1;32m     29\u001b[0m             \u001b[0;32mreturn\u001b[0m \u001b[0mfunc\u001b[0m\u001b[0;34m(\u001b[0m\u001b[0;34m*\u001b[0m\u001b[0margs\u001b[0m\u001b[0;34m,\u001b[0m \u001b[0;34m**\u001b[0m\u001b[0mkwargs\u001b[0m\u001b[0;34m)\u001b[0m\u001b[0;34m\u001b[0m\u001b[0;34m\u001b[0m\u001b[0m\n\u001b[1;32m     30\u001b[0m \u001b[0;34m\u001b[0m\u001b[0m\n",
      "\u001b[0;32m~/venv/lib/python3.8/site-packages/enforce_typing/decorator.py\u001b[0m in \u001b[0;36mcheck_types\u001b[0;34m(*args, **kwargs)\u001b[0m\n\u001b[1;32m     19\u001b[0m                 \u001b[0mactual_type\u001b[0m \u001b[0;34m=\u001b[0m \u001b[0mtype_hint\u001b[0m\u001b[0;34m.\u001b[0m\u001b[0m__args__\u001b[0m \u001b[0;32mif\u001b[0m \u001b[0misinstance\u001b[0m\u001b[0;34m(\u001b[0m\u001b[0mactual_type\u001b[0m\u001b[0;34m,\u001b[0m \u001b[0mtyping\u001b[0m\u001b[0;34m.\u001b[0m\u001b[0m_SpecialForm\u001b[0m\u001b[0;34m)\u001b[0m \u001b[0;32melse\u001b[0m \u001b[0mactual_type\u001b[0m\u001b[0;34m\u001b[0m\u001b[0;34m\u001b[0m\u001b[0m\n\u001b[1;32m     20\u001b[0m                 \u001b[0;32mif\u001b[0m \u001b[0;32mnot\u001b[0m \u001b[0misinstance\u001b[0m\u001b[0;34m(\u001b[0m\u001b[0mvalue\u001b[0m\u001b[0;34m,\u001b[0m \u001b[0mactual_type\u001b[0m\u001b[0;34m)\u001b[0m\u001b[0;34m:\u001b[0m\u001b[0;34m\u001b[0m\u001b[0;34m\u001b[0m\u001b[0m\n\u001b[0;32m---> 21\u001b[0;31m                     raise TypeError(\n\u001b[0m\u001b[1;32m     22\u001b[0m                         \u001b[0;34mf\"Expected type '{type_hint}' for attribute '{name}' but received type '{type(value)}')\"\u001b[0m\u001b[0;34m\u001b[0m\u001b[0;34m\u001b[0m\u001b[0m\n\u001b[1;32m     23\u001b[0m                     )\n",
      "\u001b[0;31mTypeError\u001b[0m: Expected type 'typing.Union[str, ocean_lib.assets.asset.V3Asset]' for attribute 'asset_or_did' but received type '<class 'NoneType'>')"
     ]
    }
   ],
   "source": [
    "from ocean_lib.assets.trusted_algorithms import add_publisher_trusted_algorithm\n",
    "add_publisher_trusted_algorithm(DATA_ddo, ALG_ddo.did, config.metadata_cache_uri)\n",
    "ocean.assets.update(DATA_ddo, publisher_wallet=alice_wallet)"
   ]
  },
  {
   "cell_type": "markdown",
   "id": "03488ad8",
   "metadata": {},
   "source": [
    "## 5. Bob acquires datatokens for data and algorithm"
   ]
  },
  {
   "cell_type": "code",
   "execution_count": 9,
   "id": "8511597a",
   "metadata": {},
   "outputs": [
    {
     "name": "stdout",
     "output_type": "stream",
     "text": [
      "bob_wallet.address = '0xBE5449a6A97aD46c8558A3356267Ee5D2731ab5e'\n"
     ]
    },
    {
     "data": {
      "text/plain": [
       "'0x6d8fc2627d7fb680407db1e6d4462b43e3b910f325acc52ab6c559a1af7e091d'"
      ]
     },
     "execution_count": 9,
     "metadata": {},
     "output_type": "execute_result"
    }
   ],
   "source": [
    "bob_wallet = Wallet(ocean.web3, os.getenv('TEST_PRIVATE_KEY2'), transaction_timeout=20, block_confirmations=config.block_confirmations)\n",
    "print(f\"bob_wallet.address = '{bob_wallet.address}'\")\n",
    "\n",
    "# Alice shares access for both to Bob, as datatokens. Alternatively, Bob might have bought these in a market.\n",
    "DATA_datatoken.transfer(bob_wallet.address, to_wei(5), from_wallet=alice_wallet)\n",
    "ALG_datatoken.transfer(bob_wallet.address, to_wei(5), from_wallet=alice_wallet)"
   ]
  },
  {
   "cell_type": "markdown",
   "id": "17dff540",
   "metadata": {},
   "source": [
    "## 6. Bob starts a compute job\n",
    "\n",
    "Only inputs needed: DATA_did, ALG_did. Everything else can get computed as needed."
   ]
  },
  {
   "cell_type": "code",
   "execution_count": 10,
   "id": "9fe35d01",
   "metadata": {},
   "outputs": [],
   "source": [
    "DATA_did = DATA_ddo.did  # for convenience\n",
    "ALG_did = ALG_ddo.did\n",
    "DATA_DDO = ocean.assets.resolve(DATA_did)  # make sure we operate on the updated and indexed metadata_cache_uri versions\n",
    "ALG_DDO = ocean.assets.resolve(ALG_did)\n",
    "\n",
    "compute_service = DATA_DDO.get_service('compute')\n",
    "algo_service = ALG_DDO.get_service('access')\n",
    "\n",
    "from ocean_lib.web3_internal.constants import ZERO_ADDRESS\n",
    "from ocean_lib.models.compute_input import ComputeInput\n",
    "\n",
    "# order & pay for dataset\n",
    "dataset_order_requirements = ocean.assets.order(\n",
    "    DATA_did, bob_wallet.address, service_type=compute_service.type\n",
    ")"
   ]
  },
  {
   "cell_type": "code",
   "execution_count": 11,
   "id": "d70a4bef",
   "metadata": {},
   "outputs": [],
   "source": [
    "DATA_order_tx_id = ocean.assets.pay_for_service(\n",
    "        ocean.web3,\n",
    "        dataset_order_requirements.amount,\n",
    "        dataset_order_requirements.data_token_address,\n",
    "        DATA_did,\n",
    "        compute_service.index,\n",
    "        ZERO_ADDRESS,\n",
    "        bob_wallet,\n",
    "        dataset_order_requirements.computeAddress,\n",
    "    )"
   ]
  },
  {
   "cell_type": "code",
   "execution_count": 12,
   "id": "eee40868",
   "metadata": {},
   "outputs": [],
   "source": [
    "# order & pay for algo\n",
    "algo_order_requirements = ocean.assets.order(\n",
    "    ALG_did, bob_wallet.address, service_type=algo_service.type\n",
    ")\n",
    "ALG_order_tx_id = ocean.assets.pay_for_service(\n",
    "        ocean.web3,\n",
    "        algo_order_requirements.amount,\n",
    "        algo_order_requirements.data_token_address,\n",
    "        ALG_did,\n",
    "        algo_service.index,\n",
    "        ZERO_ADDRESS,\n",
    "        bob_wallet,\n",
    "        algo_order_requirements.computeAddress,\n",
    ")"
   ]
  },
  {
   "cell_type": "code",
   "execution_count": 13,
   "id": "41f74b65",
   "metadata": {},
   "outputs": [
    {
     "name": "stdout",
     "output_type": "stream",
     "text": [
      "Started compute job with id: 15a0aff68baa405dac2c8a3f7ef9d052\n"
     ]
    }
   ],
   "source": [
    "compute_inputs = [ComputeInput(DATA_did, DATA_order_tx_id, compute_service.index)]\n",
    "job_id = ocean.compute.start(\n",
    "    compute_inputs,\n",
    "    bob_wallet,\n",
    "    algorithm_did=ALG_did,\n",
    "    algorithm_tx_id=ALG_order_tx_id,\n",
    "    algorithm_data_token=ALG_datatoken.address\n",
    ")\n",
    "print(f\"Started compute job with id: {job_id}\")"
   ]
  },
  {
   "cell_type": "markdown",
   "id": "77d8c3ae",
   "metadata": {},
   "source": [
    "## 7. Bob monitors logs / algorithm output\n",
    "\n",
    "You can check the job status as many times as needed:"
   ]
  },
  {
   "cell_type": "code",
   "execution_count": 30,
   "id": "a8e5a912",
   "metadata": {},
   "outputs": [
    {
     "data": {
      "text/plain": [
       "{'ok': True, 'status': 70, 'statusText': 'Job finished'}"
      ]
     },
     "execution_count": 30,
     "metadata": {},
     "output_type": "execute_result"
    }
   ],
   "source": [
    "ocean.compute.status(DATA_did, job_id, bob_wallet)"
   ]
  },
  {
   "cell_type": "markdown",
   "id": "cf7d116e",
   "metadata": {},
   "source": [
    "This will output the status of the current job.\n",
    "Here is a list of possible results: [Operator Service Status description](https://github.com/oceanprotocol/operator-service/blob/main/API.md#status-description).\n",
    "\n",
    "Once you get `{'ok': True, 'status': 70, 'statusText': 'Job finished'}`, Bob can check the result of the job."
   ]
  },
  {
   "cell_type": "code",
   "execution_count": 38,
   "id": "890cc96d",
   "metadata": {},
   "outputs": [
    {
     "ename": "Exception",
     "evalue": "b'<!DOCTYPE HTML PUBLIC \"-//W3C//DTD HTML 3.2 Final//EN\">\\n<title>404 Not Found</title>\\n<h1>Not Found</h1>\\n<p>The requested URL was not found on the server. If you entered the URL manually please check your spelling and try again.</p>\\n'",
     "output_type": "error",
     "traceback": [
      "\u001b[0;31m---------------------------------------------------------------------------\u001b[0m",
      "\u001b[0;31mException\u001b[0m                                 Traceback (most recent call last)",
      "\u001b[0;32m/tmp/ipykernel_1380/501523052.py\u001b[0m in \u001b[0;36m<module>\u001b[0;34m\u001b[0m\n\u001b[0;32m----> 1\u001b[0;31m \u001b[0mresult\u001b[0m \u001b[0;34m=\u001b[0m \u001b[0mocean\u001b[0m\u001b[0;34m.\u001b[0m\u001b[0mcompute\u001b[0m\u001b[0;34m.\u001b[0m\u001b[0mresult_file\u001b[0m\u001b[0;34m(\u001b[0m\u001b[0mDATA_did\u001b[0m\u001b[0;34m,\u001b[0m \u001b[0mjob_id\u001b[0m\u001b[0;34m,\u001b[0m \u001b[0;36m0\u001b[0m\u001b[0;34m,\u001b[0m \u001b[0mbob_wallet\u001b[0m\u001b[0;34m)\u001b[0m  \u001b[0;31m# 0 index, means we retrieve the results from the first dataset index\u001b[0m\u001b[0;34m\u001b[0m\u001b[0;34m\u001b[0m\u001b[0m\n\u001b[0m",
      "\u001b[0;32m~/venv/lib/python3.8/site-packages/enforce_typing/decorator.py\u001b[0m in \u001b[0;36mwrapper\u001b[0;34m(*args, **kwargs)\u001b[0m\n\u001b[1;32m     27\u001b[0m         \u001b[0;32mdef\u001b[0m \u001b[0mwrapper\u001b[0m\u001b[0;34m(\u001b[0m\u001b[0;34m*\u001b[0m\u001b[0margs\u001b[0m\u001b[0;34m,\u001b[0m \u001b[0;34m**\u001b[0m\u001b[0mkwargs\u001b[0m\u001b[0;34m)\u001b[0m\u001b[0;34m:\u001b[0m\u001b[0;34m\u001b[0m\u001b[0;34m\u001b[0m\u001b[0m\n\u001b[1;32m     28\u001b[0m             \u001b[0mcheck_types\u001b[0m\u001b[0;34m(\u001b[0m\u001b[0;34m*\u001b[0m\u001b[0margs\u001b[0m\u001b[0;34m,\u001b[0m \u001b[0;34m**\u001b[0m\u001b[0mkwargs\u001b[0m\u001b[0;34m)\u001b[0m\u001b[0;34m\u001b[0m\u001b[0;34m\u001b[0m\u001b[0m\n\u001b[0;32m---> 29\u001b[0;31m             \u001b[0;32mreturn\u001b[0m \u001b[0mfunc\u001b[0m\u001b[0;34m(\u001b[0m\u001b[0;34m*\u001b[0m\u001b[0margs\u001b[0m\u001b[0;34m,\u001b[0m \u001b[0;34m**\u001b[0m\u001b[0mkwargs\u001b[0m\u001b[0;34m)\u001b[0m\u001b[0;34m\u001b[0m\u001b[0;34m\u001b[0m\u001b[0m\n\u001b[0m\u001b[1;32m     30\u001b[0m \u001b[0;34m\u001b[0m\u001b[0m\n\u001b[1;32m     31\u001b[0m         \u001b[0;32mreturn\u001b[0m \u001b[0mwrapper\u001b[0m\u001b[0;34m\u001b[0m\u001b[0;34m\u001b[0m\u001b[0m\n",
      "\u001b[0;32m~/venv/lib/python3.8/site-packages/ocean_lib/ocean/ocean_compute.py\u001b[0m in \u001b[0;36mresult_file\u001b[0;34m(self, did, job_id, index, wallet)\u001b[0m\n\u001b[1;32m    426\u001b[0m         \u001b[0m_\u001b[0m\u001b[0;34m,\u001b[0m \u001b[0mservice_endpoint\u001b[0m \u001b[0;34m=\u001b[0m \u001b[0mself\u001b[0m\u001b[0;34m.\u001b[0m\u001b[0m_get_compute_result_file_endpoint\u001b[0m\u001b[0;34m(\u001b[0m\u001b[0mdid\u001b[0m\u001b[0;34m)\u001b[0m\u001b[0;34m\u001b[0m\u001b[0;34m\u001b[0m\u001b[0m\n\u001b[1;32m    427\u001b[0m         \u001b[0mmsg\u001b[0m \u001b[0;34m=\u001b[0m \u001b[0;34mf\"{wallet.address}{job_id}{str(index)}\"\u001b[0m\u001b[0;34m\u001b[0m\u001b[0;34m\u001b[0m\u001b[0m\n\u001b[0;32m--> 428\u001b[0;31m         result = self._data_provider.compute_job_result_file(\n\u001b[0m\u001b[1;32m    429\u001b[0m             \u001b[0mjob_id\u001b[0m\u001b[0;34m,\u001b[0m\u001b[0;34m\u001b[0m\u001b[0;34m\u001b[0m\u001b[0m\n\u001b[1;32m    430\u001b[0m             \u001b[0mindex\u001b[0m\u001b[0;34m,\u001b[0m\u001b[0;34m\u001b[0m\u001b[0;34m\u001b[0m\u001b[0m\n",
      "\u001b[0;32m~/venv/lib/python3.8/site-packages/enforce_typing/decorator.py\u001b[0m in \u001b[0;36mwrapper\u001b[0;34m(*args, **kwargs)\u001b[0m\n\u001b[1;32m     27\u001b[0m         \u001b[0;32mdef\u001b[0m \u001b[0mwrapper\u001b[0m\u001b[0;34m(\u001b[0m\u001b[0;34m*\u001b[0m\u001b[0margs\u001b[0m\u001b[0;34m,\u001b[0m \u001b[0;34m**\u001b[0m\u001b[0mkwargs\u001b[0m\u001b[0;34m)\u001b[0m\u001b[0;34m:\u001b[0m\u001b[0;34m\u001b[0m\u001b[0;34m\u001b[0m\u001b[0m\n\u001b[1;32m     28\u001b[0m             \u001b[0mcheck_types\u001b[0m\u001b[0;34m(\u001b[0m\u001b[0;34m*\u001b[0m\u001b[0margs\u001b[0m\u001b[0;34m,\u001b[0m \u001b[0;34m**\u001b[0m\u001b[0mkwargs\u001b[0m\u001b[0;34m)\u001b[0m\u001b[0;34m\u001b[0m\u001b[0;34m\u001b[0m\u001b[0m\n\u001b[0;32m---> 29\u001b[0;31m             \u001b[0;32mreturn\u001b[0m \u001b[0mfunc\u001b[0m\u001b[0;34m(\u001b[0m\u001b[0;34m*\u001b[0m\u001b[0margs\u001b[0m\u001b[0;34m,\u001b[0m \u001b[0;34m**\u001b[0m\u001b[0mkwargs\u001b[0m\u001b[0;34m)\u001b[0m\u001b[0;34m\u001b[0m\u001b[0;34m\u001b[0m\u001b[0m\n\u001b[0m\u001b[1;32m     30\u001b[0m \u001b[0;34m\u001b[0m\u001b[0m\n\u001b[1;32m     31\u001b[0m         \u001b[0;32mreturn\u001b[0m \u001b[0mwrapper\u001b[0m\u001b[0;34m\u001b[0m\u001b[0;34m\u001b[0m\u001b[0m\n",
      "\u001b[0;32m~/venv/lib/python3.8/site-packages/ocean_lib/data_provider/data_service_provider.py\u001b[0m in \u001b[0;36mcompute_job_result_file\u001b[0;34m(job_id, index, service_endpoint, consumer_address, signature)\u001b[0m\n\u001b[1;32m    483\u001b[0m \u001b[0;34m\u001b[0m\u001b[0m\n\u001b[1;32m    484\u001b[0m         \u001b[0;32mif\u001b[0m \u001b[0mresponse\u001b[0m\u001b[0;34m.\u001b[0m\u001b[0mstatus_code\u001b[0m \u001b[0;34m!=\u001b[0m \u001b[0;36m200\u001b[0m\u001b[0;34m:\u001b[0m\u001b[0;34m\u001b[0m\u001b[0;34m\u001b[0m\u001b[0m\n\u001b[0;32m--> 485\u001b[0;31m             \u001b[0;32mraise\u001b[0m \u001b[0mException\u001b[0m\u001b[0;34m(\u001b[0m\u001b[0mresponse\u001b[0m\u001b[0;34m.\u001b[0m\u001b[0mcontent\u001b[0m\u001b[0;34m)\u001b[0m\u001b[0;34m\u001b[0m\u001b[0;34m\u001b[0m\u001b[0m\n\u001b[0m\u001b[1;32m    486\u001b[0m \u001b[0;34m\u001b[0m\u001b[0m\n\u001b[1;32m    487\u001b[0m         \u001b[0;32mreturn\u001b[0m \u001b[0mresponse\u001b[0m\u001b[0;34m.\u001b[0m\u001b[0mcontent\u001b[0m\u001b[0;34m\u001b[0m\u001b[0;34m\u001b[0m\u001b[0m\n",
      "\u001b[0;31mException\u001b[0m: b'<!DOCTYPE HTML PUBLIC \"-//W3C//DTD HTML 3.2 Final//EN\">\\n<title>404 Not Found</title>\\n<h1>Not Found</h1>\\n<p>The requested URL was not found on the server. If you entered the URL manually please check your spelling and try again.</p>\\n'"
     ]
    }
   ],
   "source": [
    "result = ocean.compute.result_file(DATA_did, job_id, 0, bob_wallet)  # 0 index, means we retrieve the results from the first dataset index"
   ]
  },
  {
   "cell_type": "markdown",
   "id": "cbbf192b",
   "metadata": {},
   "source": [
    "You can use the result however you like. For the purpose of this example, let's plot it.\n"
   ]
  },
  {
   "cell_type": "code",
   "execution_count": null,
   "id": "1a305f90",
   "metadata": {},
   "outputs": [],
   "source": [
    "import pickle\n",
    "model = pickle.loads(result)  # the gaussian model result"
   ]
  }
 ],
 "metadata": {
  "kernelspec": {
   "display_name": "Python 3",
   "language": "python",
   "name": "python3"
  },
  "language_info": {
   "codemirror_mode": {
    "name": "ipython",
    "version": 3
   },
   "file_extension": ".py",
   "mimetype": "text/x-python",
   "name": "python",
   "nbconvert_exporter": "python",
   "pygments_lexer": "ipython3",
   "version": "3.8.3"
  }
 },
 "nbformat": 4,
 "nbformat_minor": 5
}
