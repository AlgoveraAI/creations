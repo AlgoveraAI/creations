{
 "cells": [
  {
   "cell_type": "code",
   "execution_count": 1,
   "id": "0a271b1b",
   "metadata": {},
   "outputs": [],
   "source": [
    "from IPython.display import Image "
   ]
  },
  {
   "cell_type": "code",
   "execution_count": 2,
   "id": "61f13f4f",
   "metadata": {},
   "outputs": [
    {
     "name": "stdout",
     "output_type": "stream",
     "text": [
      "config.network_url = 'https://rinkeby.infura.io/v3/d163c48816434b0bbb3ac3925d6c6c80'\n",
      "config.block_confirmations = 0\n",
      "config.metadata_cache_uri = 'https://aquarius.oceanprotocol.com'\n",
      "config.provider_url = 'https://provider.rinkeby.oceanprotocol.com'\n"
     ]
    }
   ],
   "source": [
    "import _init_paths\n",
    "from ocean_lib.ocean.ocean import Ocean\n",
    "from ocean_lib.config import Config\n",
    "\n",
    "config = Config('config.ini')\n",
    "ocean = Ocean(config)\n",
    "\n",
    "print(f\"config.network_url = '{config.network_url}'\")\n",
    "print(f\"config.block_confirmations = {config.block_confirmations.value}\")\n",
    "print(f\"config.metadata_cache_uri = '{config.metadata_cache_uri}'\")\n",
    "print(f\"config.provider_url = '{config.provider_url}'\")"
   ]
  },
  {
   "cell_type": "code",
   "execution_count": 3,
   "id": "72b9853a",
   "metadata": {},
   "outputs": [
    {
     "name": "stdout",
     "output_type": "stream",
     "text": [
      "public address = '0x2338e4e94AEe1817701F65f2c751f7c844b0e43b'\n"
     ]
    }
   ],
   "source": [
    "import os\n",
    "from ocean_lib.web3_internal.wallet import Wallet\n",
    "\n",
    "wallet = Wallet(ocean.web3, os.getenv('MY_TEST_KEY'), transaction_timeout=20, block_confirmations=config.block_confirmations)\n",
    "\n",
    "print(f\"public address = '{wallet.address}'\")"
   ]
  },
  {
   "cell_type": "code",
   "execution_count": 4,
   "id": "b6d79051",
   "metadata": {},
   "outputs": [],
   "source": [
    "publisher_wallet = Wallet(ocean.web3, os.getenv('MY_TEST_KEY'), transaction_timeout=20, block_confirmations=config.block_confirmations)"
   ]
  },
  {
   "cell_type": "code",
   "execution_count": 6,
   "id": "b8eac2ad",
   "metadata": {},
   "outputs": [
    {
     "name": "stdout",
     "output_type": "stream",
     "text": [
      "Data token info = '{'address': '0xe772c8585ad9916eD677320078748DD1cA827BB2', 'name': 'Inveterate Lobster Token', 'symbol': 'INVLOB-72', 'decimals': 18, 'cap': 1000.0}'\n",
      "Dataset name = 'CryptoPunks Images Teal Backgrounds'\n"
     ]
    }
   ],
   "source": [
    "DATA_ddo = ocean.assets.resolve(\"did:op:e772c8585ad9916eD677320078748DD1cA827BB2\")\n",
    "\n",
    "print(f\"Data token info = '{DATA_ddo.values['dataTokenInfo']}'\")\n",
    "print(f\"Dataset name = '{DATA_ddo.metadata['main']['name']}'\")"
   ]
  },
  {
   "cell_type": "code",
   "execution_count": 7,
   "id": "c43468cc",
   "metadata": {},
   "outputs": [
    {
     "name": "stdout",
     "output_type": "stream",
     "text": [
      "Alg token info = '{'address': '0xE2e123115d5758Dd4C6F434E1c142e72ed8B2820', 'name': 'ARTGEN0', 'symbol': 'ARTGEN0', 'decimals': 18, 'cap': 1000.0}'\n",
      "Alg name = 'Generative Algorithm: DCGAN'\n"
     ]
    }
   ],
   "source": [
    "ALG_ddo = ocean.assets.resolve(\"did:op:E2e123115d5758Dd4C6F434E1c142e72ed8B2820\")\n",
    "\n",
    "print(f\"Alg token info = '{ALG_ddo.values['dataTokenInfo']}'\")\n",
    "print(f\"Alg name = '{ALG_ddo.metadata['main']['name']}'\")"
   ]
  },
  {
   "cell_type": "code",
   "execution_count": 9,
   "id": "5a9efbe5",
   "metadata": {},
   "outputs": [
    {
     "data": {
      "text/plain": [
       "'0x7a14fa27cf679e1844a92bd2c18b9d35e08046b4a7d6eef79bce3a16a8fa7cab'"
      ]
     },
     "execution_count": 9,
     "metadata": {},
     "output_type": "execute_result"
    }
   ],
   "source": [
    "from ocean_lib.assets.trusted_algorithms import add_publisher_trusted_algorithm\n",
    "add_publisher_trusted_algorithm(DATA_ddo, ALG_ddo.did, config.metadata_cache_uri)\n",
    "ocean.assets.update(DATA_ddo, publisher_wallet=publisher_wallet)"
   ]
  },
  {
   "cell_type": "markdown",
   "id": "fdf8757b",
   "metadata": {},
   "source": [
    "After your algorithm is approved for a dataset, it should be displayed on the page for the dataset, as shown in the image below. Be aware, it might take a while to appear."
   ]
  },
  {
   "cell_type": "code",
   "execution_count": null,
   "id": "2fedc082",
   "metadata": {},
   "outputs": [],
   "source": [
    "display(Image(filename='images/algo-approved.png', width = 800))"
   ]
  },
  {
   "cell_type": "code",
   "execution_count": null,
   "id": "002d7c0e",
   "metadata": {},
   "outputs": [],
   "source": []
  }
 ],
 "metadata": {
  "kernelspec": {
   "display_name": "Python 3",
   "language": "python",
   "name": "python3"
  },
  "language_info": {
   "codemirror_mode": {
    "name": "ipython",
    "version": 3
   },
   "file_extension": ".py",
   "mimetype": "text/x-python",
   "name": "python",
   "nbconvert_exporter": "python",
   "pygments_lexer": "ipython3",
   "version": "3.8.3"
  }
 },
 "nbformat": 4,
 "nbformat_minor": 5
}
